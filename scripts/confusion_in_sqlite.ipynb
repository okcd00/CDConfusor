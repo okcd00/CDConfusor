{
 "cells": [
  {
   "cell_type": "code",
   "execution_count": 2,
   "metadata": {},
   "outputs": [
    {
     "name": "stdout",
     "output_type": "stream",
     "text": [
      "table samples already exists\n"
     ]
    },
    {
     "name": "stderr",
     "output_type": "stream",
     "text": [
      "1it [00:00, 2248.96it/s]"
     ]
    },
    {
     "name": "stdout",
     "output_type": "stream",
     "text": [
      "Overwrite 0-th word [UNK].\n",
      "Init SQLite Ends. 0.008930683135986328\n",
      "The first sample is: [UNK] [UNK]\n"
     ]
    },
    {
     "name": "stderr",
     "output_type": "stream",
     "text": [
      "\n"
     ]
    }
   ],
   "source": [
    "import sys\n",
    "sys.path.append(\"../\")\n",
    "\n",
    "import time\n",
    "from data.sqlite_db import SQLiteDB\n",
    "start_time = time.time()\n",
    "test_db_path = './tmp/confusionset_sighan.221110.db'\n",
    "\n",
    "dataset = SQLiteDB(\n",
    "    test_db_path, \n",
    "    load_now=False)\n",
    "\n",
    "dataset.write({'[UNK]': ['[UNK]']})\n",
    "\n",
    "print(\"Init SQLite Ends.\", time.time() - start_time)\n",
    "print(\"The first sample is:\", dataset[0], dataset['[UNK]'])"
   ]
  },
  {
   "cell_type": "code",
   "execution_count": 2,
   "metadata": {},
   "outputs": [
    {
     "name": "stdout",
     "output_type": "stream",
     "text": [
      "Use all-similar single-freedom method.\n",
      "Pinyin sampling mode: sort.\n",
      "Token sampling mode: sort.\n",
      "Now loading pinyin2token corpus.\n",
      "Loading pinyin2token_noname.pkl (1049.38MB)\n",
      "Loading similar_pinyins.pkl (1589.0MB)\n",
      "Now loading REDscore:\n",
      "Loading ziREDscore.pkl (1.97MB)\n",
      "Now generating score matrix.\n",
      "Now Loading word freuency data:\n",
      "Loading wc_word_frequency_score_01.pkl (59.35MB)\n",
      "Loading wc_word2_frequency_score.pkl (2084.0MB)\n",
      "Loading wc_word_frequency_score_01.pkl (59.35MB)\n",
      "Loading wc_word2_frequency_score.pkl (2084.0MB)\n"
     ]
    }
   ],
   "source": [
    "from confusor.confusor import default_confusor\n",
    "cfs = default_confusor()\n",
    "cfs.debug = False\n",
    "cfs.keep_num = 1000"
   ]
  },
  {
   "cell_type": "code",
   "execution_count": 3,
   "metadata": {},
   "outputs": [],
   "source": [
    "from tqdm import tqdm\n",
    "\n",
    "# check original-word cover rate.\n",
    "from utils.file_io import load_json\n",
    "from utils.csc_utils import get_faulty_pair\n",
    "from utils.text_utils import clean_text, is_chinese_char, is_pure_chinese_phrase\n",
    "\n",
    "src_path = \"./tmp/sighan15_train.json\"\n",
    "train_pairs = [get_faulty_pair(line) \n",
    "               for line in load_json(\"./tmp/sighan_train.json\") + load_json(\"./tmp/sighan_dev.json\")]"
   ]
  },
  {
   "cell_type": "code",
   "execution_count": 3,
   "metadata": {},
   "outputs": [],
   "source": [
    "from utils.file_io import load_json, dump_json\n",
    "rec = load_json('./tmp/word_confusion.221111.json')"
   ]
  },
  {
   "cell_type": "code",
   "execution_count": null,
   "metadata": {},
   "outputs": [],
   "source": [
    "for ori_word, cor_word in tqdm(train_pairs):\n",
    "    for _word in [ori_word, cor_word]:\n",
    "        if is_pure_chinese_phrase(_word) and len(_word) <= 4:\n",
    "            if _word not in rec:\n",
    "                try:\n",
    "                    rec[_word] = cfs(_word)\n",
    "                except Exception as e:\n",
    "                    print(e)\n",
    "                    print(_word)"
   ]
  },
  {
   "cell_type": "code",
   "execution_count": 10,
   "metadata": {},
   "outputs": [
    {
     "data": {
      "text/plain": [
       "True"
      ]
     },
     "execution_count": 10,
     "metadata": {},
     "output_type": "execute_result"
    }
   ],
   "source": [
    "from utils.file_io import load_json, dump_json\n",
    "dump_json(rec, './tmp/word_confusion.221111.json')"
   ]
  },
  {
   "cell_type": "code",
   "execution_count": 4,
   "metadata": {},
   "outputs": [
    {
     "data": {
      "text/plain": [
       "5379"
      ]
     },
     "execution_count": 4,
     "metadata": {},
     "output_type": "execute_result"
    }
   ],
   "source": [
    "len(rec)"
   ]
  },
  {
   "cell_type": "code",
   "execution_count": null,
   "metadata": {},
   "outputs": [],
   "source": [
    "dataset.write(rec)"
   ]
  }
 ],
 "metadata": {
  "kernelspec": {
   "display_name": "bbcm",
   "language": "python",
   "name": "bbcm"
  },
  "language_info": {
   "codemirror_mode": {
    "name": "ipython",
    "version": 3
   },
   "file_extension": ".py",
   "mimetype": "text/x-python",
   "name": "python",
   "nbconvert_exporter": "python",
   "pygments_lexer": "ipython3",
   "version": "3.7.10"
  },
  "orig_nbformat": 4,
  "vscode": {
   "interpreter": {
    "hash": "07ddec1db778c3212be298b228ef4697ac84ccdac836ffbc3bb0899b0f2f4a26"
   }
  }
 },
 "nbformat": 4,
 "nbformat_minor": 2
}
