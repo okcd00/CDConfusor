{
 "cells": [
  {
   "cell_type": "code",
   "execution_count": 1,
   "metadata": {},
   "outputs": [
    {
     "name": "stdout",
     "output_type": "stream",
     "text": [
      "table samples already exists\n"
     ]
    },
    {
     "name": "stderr",
     "output_type": "stream",
     "text": [
      "1it [00:00, 1206.65it/s]"
     ]
    },
    {
     "name": "stdout",
     "output_type": "stream",
     "text": [
      "Overwrite 0-th word [UNK].\n",
      "Init SQLite Ends. 0.01066446304321289\n",
      "The first sample is: [UNK] [UNK]\n"
     ]
    },
    {
     "name": "stderr",
     "output_type": "stream",
     "text": [
      "\n"
     ]
    }
   ],
   "source": [
    "import sys\n",
    "sys.path.append(\"../\")\n",
    "\n",
    "import time\n",
    "from data.sqlite_db import SQLiteDB\n",
    "start_time = time.time()\n",
    "test_db_path = './tmp/confusionset_sighan.221110.db'\n",
    "\n",
    "dataset = SQLiteDB(\n",
    "    test_db_path, \n",
    "    load_now=False)\n",
    "\n",
    "dataset.write({'[UNK]': ['[UNK]']})\n",
    "\n",
    "print(\"Init SQLite Ends.\", time.time() - start_time)\n",
    "print(\"The first sample is:\", dataset[0], dataset['[UNK]'])"
   ]
  },
  {
   "cell_type": "code",
   "execution_count": null,
   "metadata": {},
   "outputs": [],
   "source": [
    "from confusor.confusor import default_confusor\n",
    "cfs = default_confusor()\n",
    "cfs.debug = False"
   ]
  }
 ],
 "metadata": {
  "kernelspec": {
   "display_name": "Python 3.7.10 ('bbcm')",
   "language": "python",
   "name": "python3"
  },
  "language_info": {
   "codemirror_mode": {
    "name": "ipython",
    "version": 3
   },
   "file_extension": ".py",
   "mimetype": "text/x-python",
   "name": "python",
   "nbconvert_exporter": "python",
   "pygments_lexer": "ipython3",
   "version": "3.7.10"
  },
  "orig_nbformat": 4,
  "vscode": {
   "interpreter": {
    "hash": "07ddec1db778c3212be298b228ef4697ac84ccdac836ffbc3bb0899b0f2f4a26"
   }
  }
 },
 "nbformat": 4,
 "nbformat_minor": 2
}
