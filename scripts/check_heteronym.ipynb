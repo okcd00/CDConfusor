{
 "cells": [
  {
   "cell_type": "code",
   "execution_count": 2,
   "metadata": {},
   "outputs": [
    {
     "data": {
      "text/plain": [
       "(['yǒu', 'péng', 'zì', 'yuǎn', 'fāng', 'lái', '，', 'bù', 'yì', 'lè', 'hū'],\n",
       " ['yǒu', 'péng', 'zì', 'yuǎn', 'fāng', 'lái', '，', 'bù', 'yì', 'yuè', 'hū'])"
      ]
     },
     "execution_count": 2,
     "metadata": {},
     "output_type": "execute_result"
    }
   ],
   "source": [
    "import sys\n",
    "sys.path.append(\"../\")\n",
    "\n",
    "from pypinyin import pinyin\n",
    "from utils import flatten\n",
    "\n",
    "flatten(pinyin('有朋自远方来，不亦乐乎', heteronym=False)), \\\n",
    "flatten(pinyin('有朋自远方来，不亦说乎', heteronym=False))"
   ]
  },
  {
   "cell_type": "code",
   "execution_count": 3,
   "metadata": {},
   "outputs": [
    {
     "name": "stdout",
     "output_type": "stream",
     "text": [
      "[['yǒu', 'yòu', 'wěi'], ['péng'], ['zì'], ['yuǎn'], ['fāng'], ['lái'], ['，'], ['bù'], ['yì'], ['lè'], ['hū']]\n",
      "[['yǒu', 'yòu', 'wěi'], ['péng'], ['zì'], ['yuǎn'], ['fāng'], ['lái'], ['，'], ['bù'], ['yì'], ['yuè'], ['hū']]\n"
     ]
    }
   ],
   "source": [
    "print(pinyin('有朋自远方来，不亦乐乎', heteronym=True))\n",
    "print(pinyin('有朋自远方来，不亦说乎', heteronym=True))"
   ]
  },
  {
   "cell_type": "code",
   "execution_count": 4,
   "metadata": {},
   "outputs": [
    {
     "name": "stdout",
     "output_type": "stream",
     "text": [
      "[['shōu'], ['shòu', 'dào']]\n"
     ]
    }
   ],
   "source": [
    "print(pinyin('收受', heteronym=True))"
   ]
  },
  {
   "cell_type": "code",
   "execution_count": 5,
   "metadata": {},
   "outputs": [
    {
     "name": "stdout",
     "output_type": "stream",
     "text": [
      "[['ruǎn'], ['jiàn']]\n",
      "[['ruǎn'], ['jiàn', 'móu']]\n",
      "[['ràng'], ['mù']]\n"
     ]
    }
   ],
   "source": [
    "print(pinyin('软件', heteronym=False))\n",
    "print(pinyin('软件', heteronym=True))\n",
    "print(pinyin('让墓', heteronym=True))"
   ]
  },
  {
   "cell_type": "code",
   "execution_count": 6,
   "metadata": {},
   "outputs": [
    {
     "name": "stdout",
     "output_type": "stream",
     "text": [
      "[['liú'], ['dǐ']]\n",
      "[['liú', 'liù', 'liǔ'], ['dǐ', 'zhǐ', 'qí']]\n",
      "[['liú', 'liù', 'liǔ'], ['zhēng']]\n"
     ]
    }
   ],
   "source": [
    "print(pinyin('留抵', heteronym=False))\n",
    "print(pinyin('留抵', heteronym=True))\n",
    "print(pinyin('留征', heteronym=True))"
   ]
  },
  {
   "cell_type": "code",
   "execution_count": 5,
   "metadata": {},
   "outputs": [
    {
     "data": {
      "text/plain": [
       "['jin', 'tian', 'tian', 'qi', 'hao', 'qing', 'lang']"
      ]
     },
     "execution_count": 5,
     "metadata": {},
     "output_type": "execute_result"
    }
   ],
   "source": [
    "import pypinyin\n",
    "pypinyin.lazy_pinyin(['今天', '天气', '好', '晴朗'])"
   ]
  }
 ],
 "metadata": {
  "kernelspec": {
   "display_name": "Python 3.7.10 ('bbcm')",
   "language": "python",
   "name": "python3"
  },
  "language_info": {
   "codemirror_mode": {
    "name": "ipython",
    "version": 3
   },
   "file_extension": ".py",
   "mimetype": "text/x-python",
   "name": "python",
   "nbconvert_exporter": "python",
   "pygments_lexer": "ipython3",
   "version": "3.7.10"
  },
  "orig_nbformat": 4,
  "vscode": {
   "interpreter": {
    "hash": "07ddec1db778c3212be298b228ef4697ac84ccdac836ffbc3bb0899b0f2f4a26"
   }
  }
 },
 "nbformat": 4,
 "nbformat_minor": 2
}
