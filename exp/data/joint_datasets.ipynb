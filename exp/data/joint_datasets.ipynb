{
 "cells": [
  {
   "cell_type": "code",
   "execution_count": 3,
   "metadata": {},
   "outputs": [],
   "source": [
    "path_to_datasets = {\n",
    "    'rw': '../data/cn/rw/rw_test.tsv',  # rw = cctc_test + rfd_test\n",
    "    'rfd_test': '../data/cn/findoc/findoc_test.v1.tsv',\n",
    "    'rfd_train': '../data/cn/findoc/findoc_test.v2.tsv',\n",
    "    'cctc_train': '../data/cn/cctc/cctc_test.tsv',\n",
    "    'cctc_test': '../data/cn/cctc/cctc_test.tsv',\n",
    "    'sighan_train': '../data/cn/sighan15/sighan15_train.tsv',\n",
    "    'sighan': '../data/cn/sighan15/sighan15_test.tsv',\n",
    "    'w271k': '../data/cn/Wang271k/dcn_train.tsv',\n",
    "    'faw0405': '../data/fin/findoc_augw.230405.tsv',\n",
    "    'faw0406': '../data/fin/findoc_augw.230406.tsv',\n",
    "}"
   ]
  },
  {
   "cell_type": "code",
   "execution_count": 4,
   "metadata": {},
   "outputs": [],
   "source": [
    "with open('../data/tmp/findoc_train.230329.info', 'w') as f:\n",
    "    f.write(\"involved = ['rd2', 'cctc_train', 'w271k']\\n\")\n",
    "    f.write(\"Dropped RW = rd1 + cctc_test for testing.\\n\")\n",
    "    f.write(\"Dropped SIGHAN_testfor testing.\\n\")\n",
    "with open('../data/tmp/findoc_train.230329.tsv', 'w') as f:\n",
    "    for fkey in ['rd2', 'cctc_train', 'w271k']:\n",
    "        with open(path_to_datasets[fkey]) as f2:\n",
    "            for line in f2:\n",
    "                f.write(line)"
   ]
  },
  {
   "cell_type": "code",
   "execution_count": 4,
   "metadata": {},
   "outputs": [],
   "source": [
    "file_name = '../data/fin/findoc_train.230406'\n",
    "involved_files = ['faw0405', 'faw0406', 'rd2', 'cctc_train']\n",
    "with open(f'{file_name}.info', 'w') as f:\n",
    "    f.write(f\"involved = {involved_files}\")\n",
    "    \n",
    "with open(f'{file_name}.tsv', 'w') as f:\n",
    "    for fkey in involved_files:\n",
    "        with open(path_to_datasets[fkey]) as f2:\n",
    "            for line in f2:\n",
    "                f.write(line)"
   ]
  },
  {
   "cell_type": "code",
   "execution_count": 1,
   "metadata": {},
   "outputs": [
    {
     "data": {
      "text/plain": [
       "\"[2, 3, 'a']\""
      ]
     },
     "execution_count": 1,
     "metadata": {},
     "output_type": "execute_result"
    }
   ],
   "source": [
    "f\"{[2,3,'a']}\""
   ]
  }
 ],
 "metadata": {
  "kernelspec": {
   "display_name": "bbcm",
   "language": "python",
   "name": "bbcm"
  },
  "language_info": {
   "codemirror_mode": {
    "name": "ipython",
    "version": 3
   },
   "file_extension": ".py",
   "mimetype": "text/x-python",
   "name": "python",
   "nbconvert_exporter": "python",
   "pygments_lexer": "ipython3",
   "version": "3.7.10"
  },
  "orig_nbformat": 4
 },
 "nbformat": 4,
 "nbformat_minor": 2
}
