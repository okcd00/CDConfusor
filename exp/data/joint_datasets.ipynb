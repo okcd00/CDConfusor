{
 "cells": [
  {
   "cell_type": "code",
   "execution_count": 1,
   "metadata": {},
   "outputs": [],
   "source": [
    "path_to_datasets = {\n",
    "    'rw': '../data/cn/rw/rw_test.tsv',  # rw = cctc + rd1\n",
    "    'rd1': '../data/cn/findoc/findoc_test.v1.tsv',\n",
    "    'rd2': '../data/cn/findoc/findoc_test.v2.tsv',\n",
    "    'cctc_train': '../data/cn/cctc/cctc_test.tsv',\n",
    "    'cctc': '../data/cn/cctc/cctc_test.tsv',\n",
    "    'sighan_train': '../data/cn/sighan15/sighan15_train.tsv',\n",
    "    'sighan': '../data/cn/sighan15/sighan15_test.tsv',\n",
    "    'w271k': '../data/cn/Wang271k/dcn_train.tsv',\n",
    "}"
   ]
  },
  {
   "cell_type": "code",
   "execution_count": 2,
   "metadata": {},
   "outputs": [],
   "source": [
    "with open('../data/tmp/findoc_train.230324.info', 'w') as f:\n",
    "    f.write(\"involved = ['rd1', 'rd2', 'cctc_train', 'cctc', 'sighan_train', 'sighan', 'w271k', 'rw']\\n\")\n",
    "with open('../data/tmp/findoc_train.230324.tsv', 'w') as f:\n",
    "    for fkey in ['rd1', 'rd2', 'cctc_train', 'cctc', 'sighan_train', 'sighan', 'w271k', 'rw']:\n",
    "        with open(path_to_datasets[fkey]) as f2:\n",
    "            for line in f2:\n",
    "                f.write(line)"
   ]
  },
  {
   "cell_type": "code",
   "execution_count": null,
   "metadata": {},
   "outputs": [],
   "source": []
  }
 ],
 "metadata": {
  "kernelspec": {
   "display_name": "bbcm",
   "language": "python",
   "name": "bbcm"
  },
  "language_info": {
   "codemirror_mode": {
    "name": "ipython",
    "version": 3
   },
   "file_extension": ".py",
   "mimetype": "text/x-python",
   "name": "python",
   "nbconvert_exporter": "python",
   "pygments_lexer": "ipython3",
   "version": "3.7.10"
  },
  "orig_nbformat": 4
 },
 "nbformat": 4,
 "nbformat_minor": 2
}
