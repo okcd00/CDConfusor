{
 "cells": [
  {
   "cell_type": "code",
   "execution_count": 2,
   "metadata": {},
   "outputs": [],
   "source": [
    "import os"
   ]
  },
  {
   "attachments": {},
   "cell_type": "markdown",
   "metadata": {},
   "source": [
    "## generate DCN form"
   ]
  },
  {
   "cell_type": "code",
   "execution_count": 1,
   "metadata": {},
   "outputs": [
    {
     "name": "stderr",
     "output_type": "stream",
     "text": [
      "/home/chendian/.conda/envs/bbcm/lib/python3.7/site-packages/tqdm/auto.py:22: TqdmWarning: IProgress not found. Please update jupyter and ipywidgets. See https://ipywidgets.readthedocs.io/en/stable/user_install.html\n",
      "  from .autonotebook import tqdm as notebook_tqdm\n"
     ]
    }
   ],
   "source": [
    "from transformers import BertTokenizer\n",
    "tokenizer = BertTokenizer('../vocab/vocab.txt')"
   ]
  },
  {
   "cell_type": "code",
   "execution_count": null,
   "metadata": {},
   "outputs": [],
   "source": [
    "text = \"到涨价——降价——涨价的“循环”馊主意中去。\"\n",
    "text = \"根据美国法典15usc1595a(b)的规定，任何人（包括个人及公司），引导或协助非法的进口行为（包括进口“禁止的危险物品”）应收单罚款，罚款的金额应为进口物品的价值。\"\n",
    "text = \"对于第三方受托支付借款业务，公司应当提供的商务合同，发票及其他凭证等相关资料进行合法性及真实性审查。\"\n",
    "tokenizer.tokenize(text)"
   ]
  },
  {
   "cell_type": "code",
   "execution_count": 6,
   "metadata": {},
   "outputs": [
    {
     "data": {
      "text/plain": [
       "['jin', 'tian', '30', 'du', 'Ｉ']"
      ]
     },
     "execution_count": 6,
     "metadata": {},
     "output_type": "execute_result"
    }
   ],
   "source": [
    "from pypinyin import lazy_pinyin\n",
    "tokens = ['今', '天', '30', '度', 'Ｉ']\n",
    "lazy_pinyin(tokens)"
   ]
  },
  {
   "cell_type": "code",
   "execution_count": 5,
   "metadata": {},
   "outputs": [
    {
     "name": "stderr",
     "output_type": "stream",
     "text": [
      "3818it [00:14, 297.41it/s]"
     ]
    },
    {
     "name": "stdout",
     "output_type": "stream",
     "text": [
      "\n",
      "入境游客１４，５３１万人次，增长２．９０％。其中，外国人３，１８８万人次，增长４．４０％；香港、澳门和台湾同胞１１，３４２万人次，增长２．５０％。２．５０％。\n",
      "入境游客１４，５３１万人次，增长２．９０％。其中，外国人３，１８８万人次，增长４．４０％；中国香港、中国澳门和中国台湾同胞１１，３４２万人次，增长２．５０％。\n",
      "[('入', '入'), ('境', '境'), ('游', '游'), ('客', '客'), ('１４', '１４'), ('，', '，'), ('５', '５'), ('##３', '##３'), ('##１', '##１'), ('万', '万'), ('人', '人'), ('次', '次'), ('，', '，'), ('增', '增'), ('长', '长'), ('２', '２'), ('．', '．'), ('９', '９'), ('##０', '##０'), ('％', '％'), ('。', '。'), ('其', '其'), ('中', '中'), ('，', '，'), ('外', '外'), ('国', '国'), ('人', '人'), ('３', '３'), ('，', '，'), ('１８', '１８'), ('##８', '##８'), ('万', '万'), ('人', '人'), ('次', '次'), ('，', '，'), ('增', '增'), ('长', '长'), ('４', '４'), ('．', '．'), ('４', '４'), ('##０', '##０'), ('％', '％'), ('；', '；'), ('香', '中'), ('港', '国'), ('、', '香'), ('澳', '港'), ('门', '、'), ('和', '中'), ('台', '国'), ('湾', '澳'), ('同', '门'), ('胞', '和'), ('１１', '中'), ('，', '国'), ('３', '台'), ('##４', '湾'), ('##２', '同'), ('万', '胞'), ('人', '１１'), ('次', '，'), ('，', '３'), ('增', '##４'), ('长', '##２'), ('２', '万'), ('．', '人'), ('５０', '次'), ('％', '，'), ('。', '增'), ('２', '长'), ('．', '２'), ('５０', '．'), ('％', '５０'), ('。', '％')]\n"
     ]
    },
    {
     "name": "stderr",
     "output_type": "stream",
     "text": [
      "4132it [00:15, 303.24it/s]"
     ]
    },
    {
     "name": "stdout",
     "output_type": "stream",
     "text": [
      "\n",
      "新能源材料板块的原材料主要包括铜֍֍锌，截至２０２１年末及２０２２年３月末，发行人新能源板块前五大供应商情况如下表所示：\n",
      "新能源材料板块的原材料主要包括铜铟镓硒，截至２０２１年末及２０２２年３月末，发行人新能源板块前五大供应商情况如下表所示：\n",
      "[('新', '新'), ('能', '能'), ('源', '源'), ('材', '材'), ('料', '料'), ('板', '板'), ('块', '块'), ('的', '的'), ('原', '原'), ('材', '材'), ('料', '料'), ('主', '主'), ('要', '要'), ('包', '包'), ('括', '括'), ('铜', '铜'), ('[UNK]', '[UNK]'), ('锌', '[UNK]'), ('，', '硒'), ('截', '，'), ('至', '截'), ('２０', '至'), ('##２', '２０'), ('##１', '##２'), ('年', '##１'), ('末', '年'), ('及', '末'), ('２０', '及'), ('##２', '２０'), ('##２', '##２'), ('年', '##２'), ('３', '年'), ('月', '３'), ('末', '月'), ('，', '末'), ('发', '，'), ('行', '发'), ('人', '行'), ('新', '人'), ('能', '新'), ('源', '能'), ('板', '源'), ('块', '板'), ('前', '块'), ('五', '前'), ('大', '五'), ('供', '大'), ('应', '供'), ('商', '应'), ('情', '商'), ('况', '情'), ('如', '况'), ('下', '如'), ('表', '下'), ('所', '表'), ('示', '所'), ('：', '示')]\n"
     ]
    },
    {
     "name": "stderr",
     "output_type": "stream",
     "text": [
      "6426it [00:24, 320.35it/s]"
     ]
    },
    {
     "name": "stdout",
     "output_type": "stream",
     "text": [
      "\n",
      "１９９８年９月加入公司，曾任长城有限财务部主任会计师、审计监察部总经理、国际业务发展（中国香港）办公室总经理；２０１５年３月至２１年５月，历任公司国际业务发展（香港）办公室总经理、人力资源部总经理、党委办公室主任、党建工作部主任、党群与宣传工作部主任；２０２１年５月至今，任公司党群与宣传工作部主任兼党委巡察办公室主任；２０２０年１０月至今，任公司职工监事。工监事。\n",
      "１９９８年９月加入公司，曾任长城有限财务部主任会计师、审计监察部总经理、国际业务发展（香港）办公室总经理；２０１５年３月至２０２０２１年５月，历任公司国际业务发展（中国香港）办公室总经理、人力资源部总经理、党委办公室主任、党建工作部主任、党群与宣传工作部主任；２０２１年５月至今，任公司党群与宣传工作部主任兼党委巡察办公室主任；２０２０年１０月至今，任公司职工监事。\n",
      "[('１', '１'), ('##９', '##９'), ('##９', '##９'), ('##８', '##８'), ('年', '年'), ('９', '９'), ('月', '月'), ('加', '加'), ('入', '入'), ('公', '公'), ('司', '司'), ('，', '，'), ('曾', '曾'), ('任', '任'), ('长', '长'), ('城', '城'), ('有', '有'), ('限', '限'), ('财', '财'), ('务', '务'), ('部', '部'), ('主', '主'), ('任', '任'), ('会', '会'), ('计', '计'), ('师', '师'), ('、', '、'), ('审', '审'), ('计', '计'), ('监', '监'), ('察', '察'), ('部', '部'), ('总', '总'), ('经', '经'), ('理', '理'), ('、', '、'), ('国', '国'), ('际', '际'), ('业', '业'), ('务', '务'), ('发', '发'), ('展', '展'), ('（', '（'), ('中', '香'), ('国', '港'), ('香', '）'), ('港', '办'), ('）', '公'), ('办', '室'), ('公', '总'), ('室', '经'), ('总', '理'), ('经', '；'), ('理', '２０'), ('；', '##１'), ('２０', '##５'), ('##１', '年'), ('##５', '３'), ('年', '月'), ('３', '至'), ('月', '２０'), ('至', '##２'), ('２', '##０'), ('##１', '##２'), ('年', '##１'), ('５', '年'), ('月', '５'), ('，', '月'), ('历', '，'), ('任', '历'), ('公', '任'), ('司', '公'), ('国', '司'), ('际', '国'), ('业', '际'), ('务', '业'), ('发', '务'), ('展', '发'), ('（', '展'), ('香', '（'), ('港', '中'), ('）', '国'), ('办', '香'), ('公', '港'), ('室', '）'), ('总', '办'), ('经', '公'), ('理', '室'), ('、', '总'), ('人', '经'), ('力', '理'), ('资', '、'), ('源', '人'), ('部', '力'), ('总', '资'), ('经', '源'), ('理', '部'), ('、', '总'), ('党', '经'), ('委', '理'), ('办', '、'), ('公', '党'), ('室', '委'), ('主', '办'), ('任', '公'), ('、', '室'), ('党', '主'), ('建', '任'), ('工', '、'), ('作', '党'), ('部', '建'), ('主', '工'), ('任', '作'), ('、', '部'), ('党', '主'), ('群', '任'), ('与', '、'), ('宣', '党'), ('传', '群'), ('工', '与'), ('作', '宣'), ('部', '传'), ('主', '工'), ('任', '作'), ('；', '部'), ('２０', '主'), ('##２', '任'), ('##１', '；'), ('年', '２０'), ('５', '##２'), ('月', '##１'), ('至', '年'), ('今', '５'), ('，', '月'), ('任', '至'), ('公', '今'), ('司', '，'), ('党', '任'), ('群', '公'), ('与', '司'), ('宣', '党'), ('传', '群'), ('工', '与'), ('作', '宣'), ('部', '传'), ('主', '工'), ('任', '作'), ('兼', '部'), ('党', '主'), ('委', '任'), ('巡', '兼'), ('察', '党'), ('办', '委'), ('公', '巡'), ('室', '察'), ('主', '办'), ('任', '公'), ('；', '室'), ('２０', '主'), ('##２', '任'), ('##０', '；'), ('年', '２０'), ('１０', '##２'), ('月', '##０'), ('至', '年'), ('今', '１０'), ('，', '月'), ('任', '至'), ('公', '今'), ('司', '，'), ('职', '任'), ('工', '公'), ('监', '司'), ('事', '职'), ('。', '工'), ('工', '监'), ('监', '事'), ('事', '。')]\n",
      "\n",
      "注９：为建设中国香港“青衣１８１项目”物流中心融资需要，发行人之下属子公司港瑞物流有限公司（以下简称“港瑞物流”）与国家开发银行签订授信协议，取得总额为港币２９０，０万元的授信。信。\n",
      "注９：为建设香港“青衣１８１项目”物流中心融资需要，发行人之下属子公司港瑞物流有限公司（以下简称“港瑞物流”）与国家开发银行签订授信协议，取得总额为港币２９０，０００００万元的授信。\n",
      "[('注', '注'), ('９', '９'), ('：', '：'), ('为', '为'), ('建', '建'), ('设', '设'), ('中', '香'), ('国', '港'), ('香', '“'), ('港', '青'), ('“', '衣'), ('青', '１８'), ('衣', '##１'), ('１８', '项'), ('##１', '目'), ('项', '”'), ('目', '物'), ('”', '流'), ('物', '中'), ('流', '心'), ('中', '融'), ('心', '资'), ('融', '需'), ('资', '要'), ('需', '，'), ('要', '发'), ('，', '行'), ('发', '人'), ('行', '之'), ('人', '下'), ('之', '属'), ('下', '子'), ('属', '公'), ('子', '司'), ('公', '港'), ('司', '瑞'), ('港', '物'), ('瑞', '流'), ('物', '有'), ('流', '限'), ('有', '公'), ('限', '司'), ('公', '（'), ('司', '以'), ('（', '下'), ('以', '简'), ('下', '称'), ('简', '“'), ('称', '港'), ('“', '瑞'), ('港', '物'), ('瑞', '流'), ('物', '”'), ('流', '）'), ('”', '与'), ('）', '国'), ('与', '家'), ('国', '开'), ('家', '发'), ('开', '银'), ('发', '行'), ('银', '签'), ('行', '订'), ('签', '授'), ('订', '信'), ('授', '协'), ('信', '议'), ('协', '，'), ('议', '取'), ('，', '得'), ('取', '总'), ('得', '额'), ('总', '为'), ('额', '港'), ('为', '币'), ('港', '２'), ('币', '##９'), ('２', '##０'), ('##９', '，'), ('##０', '０'), ('，', '##００'), ('０', '##００'), ('万', '万'), ('元', '元'), ('的', '的'), ('授', '授'), ('信', '信'), ('。', '。')]\n"
     ]
    },
    {
     "name": "stderr",
     "output_type": "stream",
     "text": [
      "6755it [00:25, 263.96it/s]\n"
     ]
    }
   ],
   "source": [
    "from tqdm import tqdm\n",
    "from pypinyin import lazy_pinyin\n",
    "# err, cor, 111, pinyin_indexes\n",
    "\n",
    "\n",
    "vocab = [line.strip() for line in open('../vocab/vocab.txt', 'r')]\n",
    "pinyin_vocab = [line.strip() for line in open('../vocab/pinyin_vocab.txt', 'r')]\n",
    "\n",
    "\"\"\"\n",
    "英 国 卫 报 今 天 报 导 ， 为 了 避 免 引 发 英 国 国 教 派 的 不 满 ， 一 项 有 关 英 国 女 王 伊 莉 莎 白 二 世 将 在 下 新 期 访 问 梵 蒂 冈 时 ， 和 天 主 教 教 宗 若 望 保 禄 二 世 共 同 举 行 弥 撒 的 计 画 已 经 取 消 。\t英 国 卫 报 今 天 报 导 ， 为 了 避 免 引 发 英 国 国 教 派 的 不 满 ， 一 项 有 关 英 国 女 王 伊 莉 莎 白 二 世 将 在 下 星 期 访 问 梵 蒂 冈 时 ， 和 天 主 教 教 宗 若 望 保 禄 二 世 共 同 举 行 弥 撒 的 计 画 已 经 取 消 。\t1 1 1 1 1 1 1 1 1 1 1 1 1 1 1 1 1 1 1 1 1 1 1 1 1 1 1 1 1 1 1 1 1 1 1 1 1 1 1 1 1 1 1 1 1 1 1 1 1 1 1 1 1 1 1 1 1 1 1 1 1 1 1 1 1 1 1 1 1 1 1 1 1 1 1 1\t359 107 333 10 133 318 10 60 0 333 164 14 194 358 80 359 107 107 131 231 61 21 186 0 357 341 362 103 359 107 226 332 357 167 283 7 79 292 130 368 339 344 247 82 334 81 63 92 292 0 113 318 387 131 131 396 274 332 10 178 79 292 98 322 137 345 193 275 61 127 120 357 134 257 342 0\n",
    "清 华 大 学 段 海 鑫 教 授 表 示 。\t清 华 大 学 段 海 新 教 授 表 示 。\t1 1 1 1 1 1 1 1 1 1 1 1\t254 120 56 350 72 109 344 131 293 16 292 0\n",
    "\"\"\"\n",
    "\n",
    "def B2Q(uchar):\n",
    "    \"\"\"单个字符 半角转全角\"\"\"\n",
    "    inside_code = ord(uchar)\n",
    "    if inside_code < 0x0020 or inside_code > 0x7e: # 不是半角字符就返回原来的字符\n",
    "        return uchar \n",
    "    if inside_code == 0x0020: # 除了空格其他的全角半角的公式为: 半角 = 全角 - 0xfee0\n",
    "        inside_code = 0x3000\n",
    "    else:\n",
    "        inside_code += 0xfee0\n",
    "    return chr(inside_code).upper()\n",
    "\n",
    "\n",
    "def text_to_dcn_form(text, tokenizer):    \n",
    "    tokens = tokenizer.tokenize(''.join([B2Q(c) for c in text]))\n",
    "    return tokens\n",
    "\n",
    "\n",
    "def pinyin_index(pinyin_str):\n",
    "    try:\n",
    "        res = pinyin_vocab.index(pinyin_str)\n",
    "        return res\n",
    "    except Exception as e:\n",
    "        return 0  # [UNK]\n",
    "\n",
    "\n",
    "# cctc\n",
    "# src_path = '../../data/cn/cctc/cctc_test.tsv'\n",
    "# tgt_path = '../../data/cn/cctc/cctc_test.dcn.txt'\n",
    "\n",
    "# dcn\n",
    "# src_path = '../../data/cn/Wang271k_augw_ime/dcn_train.augw1.tsv'\n",
    "# tgt_path = '../../data/cn/Wang271k_augw_ime/dcn_train.augw1.dcn.txt'\n",
    "\n",
    "# rw\n",
    "# src_path = '../../data/cn/rw/rw_test.tsv'\n",
    "# tgt_path = '../../data/cn/rw/rw_test.dcn.txt'\n",
    "\n",
    "# findoc\n",
    "src_path = '../../data/cn/findoc/findoc_test.v2.tsv'\n",
    "tgt_path = '../../data/cn/findoc/findoc_test.v2.dcn.txt'\n",
    "\n",
    "with open(tgt_path, 'w') as f:\n",
    "    for line in tqdm(open(src_path, 'r')):\n",
    "        err, cor = line.strip().split('\\t')\n",
    "        err = ''.join([B2Q(c) for c in err])\n",
    "        cor = ''.join([B2Q(c) for c in cor])\n",
    "        tokens = tokenizer.tokenize(err)\n",
    "        cor_tokens = tokenizer.tokenize(cor)\n",
    "        try:\n",
    "            assert len(tokens) == len(cor_tokens)\n",
    "        except Exception as e:\n",
    "            print(e)\n",
    "            print(err)\n",
    "            print(cor)\n",
    "            print(list(zip(tokens, cor_tokens)))\n",
    "            continue\n",
    "        len_index = ' '.join([str(1) for _ in range(len(tokens))])\n",
    "        py_indexes = [str(pinyin_index(_py)) for _py in lazy_pinyin(tokens)]\n",
    "        py_index = ' '.join(py_indexes)\n",
    "        if len(tokens) == len(cor_tokens) == len(py_indexes):\n",
    "            res = f\"{' '.join(tokens)}\\t{' '.join(cor_tokens)}\\t{len_index}\\t{py_index}\\n\"\n",
    "            f.write(res)"
   ]
  },
  {
   "cell_type": "code",
   "execution_count": 12,
   "metadata": {},
   "outputs": [],
   "source": [
    "# check validity\n",
    "# tgt_path = '../../data/cn/Wang271k_augc/dcn_train.augc.dcn.txt'\n",
    "tgt_path = '../../data/cn/rw/rw_test.dcn.txt'\n",
    "\n",
    "for line_idx, line in enumerate(open(tgt_path, 'r')):\n",
    "    err, cor, len_index, py_index = line.strip().split('\\t')\n",
    "    err = err.split(' ')\n",
    "    cor = cor.split(' ')\n",
    "    len_index = len_index.split(' ')\n",
    "    py_index = py_index.split(' ')\n",
    "    if len(err) == len(cor) == len(len_index) == len(py_index):\n",
    "        continue\n",
    "    print(line_idx)\n",
    "    # print(err, cor, len_index, py_index)\n",
    "else:\n",
    "    print(\"End.\")"
   ]
  },
  {
   "cell_type": "code",
   "execution_count": null,
   "metadata": {},
   "outputs": [],
   "source": [
    "# drop invalid lines\n",
    "drop = []\n",
    "# drop = [19567,51006,198075]\n",
    "\n",
    "for path in ['../../data/cn/Wang271k_augc/dcn_train.augc.dcn.txt', \n",
    "             '../../data/cn/Wang271k_augc/dcn_train.augc.tsv']:\n",
    "    lines = []\n",
    "    with open(path, 'r') as f:\n",
    "        lines = [line for idx, line in enumerate(f)]\n",
    "        with open(path+'.bak', 'w') as f_bak:\n",
    "            for line in lines:\n",
    "                f_bak.write(line)\n",
    "        lines = [line for idx, line in enumerate(lines) if idx not in drop]\n",
    "    with open(path, 'w') as f:\n",
    "        for line in lines:\n",
    "            f.write(line)\n",
    "    print(f\"{path} done.\")"
   ]
  },
  {
   "attachments": {},
   "cell_type": "markdown",
   "metadata": {},
   "source": [
    "## generate SIGHAN form"
   ]
  },
  {
   "cell_type": "code",
   "execution_count": 3,
   "metadata": {},
   "outputs": [
    {
     "name": "stdout",
     "output_type": "stream",
     "text": [
      "1089\n"
     ]
    }
   ],
   "source": [
    "def B2Q(uchar):\n",
    "    \"\"\"单个字符 半角转全角\"\"\"\n",
    "    inside_code = ord(uchar)\n",
    "    if inside_code < 0x0020 or inside_code > 0x7e: # 不是半角字符就返回原来的字符\n",
    "        return uchar \n",
    "    if inside_code == 0x0020: # 除了空格其他的全角半角的公式为: 半角 = 全角 - 0xfee0\n",
    "        inside_code = 0x3000\n",
    "    else:\n",
    "        inside_code += 0xfee0\n",
    "    return chr(inside_code).upper()\n",
    "\n",
    "\n",
    "def fn(src_path, tgt_path, source='CCTC'):\n",
    "    items = [line.split('\\t')[0] for line in open(src_path, 'r')]\n",
    "    print(len(items))\n",
    "    with open(tgt_path, 'w') as f:\n",
    "        for idx, item in enumerate(items):\n",
    "            item = ''.join([B2Q(c) for c in item])\n",
    "            f.write(f\"(pid={source}-{idx})\\t{item}\\n\")\n",
    "    \n",
    "\n",
    "# src_path = '../data/cctc/cctc_test.txt'\n",
    "# tgt_path = '../data/cctc/cctc.txt'\n",
    "# fn(src_path, tgt_path, 'CCTC')\n",
    "\n",
    "src_path = '../../data/cn/rw/rw_test.tsv'\n",
    "tgt_path = '../../data/cn/rw/rw_test.sighan.txt'\n",
    "fn(src_path, tgt_path, 'rw')"
   ]
  }
 ],
 "metadata": {
  "kernelspec": {
   "display_name": "bbcm",
   "language": "python",
   "name": "bbcm"
  },
  "language_info": {
   "codemirror_mode": {
    "name": "ipython",
    "version": 3
   },
   "file_extension": ".py",
   "mimetype": "text/x-python",
   "name": "python",
   "nbconvert_exporter": "python",
   "pygments_lexer": "ipython3",
   "version": "3.7.10"
  },
  "orig_nbformat": 4,
  "vscode": {
   "interpreter": {
    "hash": "b2355d2d49f3eb40bf5c033ab02acb69c30aeaa545337c32bb63d47de74464e4"
   }
  }
 },
 "nbformat": 4,
 "nbformat_minor": 2
}
