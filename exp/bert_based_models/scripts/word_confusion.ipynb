{
 "cells": [
  {
   "cell_type": "markdown",
   "id": "opened-auditor",
   "metadata": {},
   "source": [
    "### 词混淆集覆盖"
   ]
  },
  {
   "cell_type": "code",
   "execution_count": 1,
   "id": "frozen-presentation",
   "metadata": {},
   "outputs": [],
   "source": [
    "import os\n",
    "import sys\n",
    "os.environ['CUDA_VISIBLE_DEVICES'] = '0'\n",
    "sys.path.append('/home/chendian/BBCM/')"
   ]
  },
  {
   "cell_type": "code",
   "execution_count": 37,
   "id": "armed-stability",
   "metadata": {},
   "outputs": [
    {
     "name": "stdout",
     "output_type": "stream",
     "text": [
      "\u001b[1m\u001b[37mc10\u001b[m  Mon Feb 14 14:05:43 2022\n",
      "\u001b[36m[0]\u001b[m \u001b[34mGeForce RTX 2080 Ti\u001b[m |\u001b[31m 29'C\u001b[m, \u001b[32m  0 %\u001b[m | \u001b[36m\u001b[1m\u001b[33m10408\u001b[m / \u001b[33m11019\u001b[m MB | \u001b[1m\u001b[30mcyx\u001b[m(\u001b[33m10405M\u001b[m)\n",
      "\u001b[36m[1]\u001b[m \u001b[34mGeForce RTX 2080 Ti\u001b[m |\u001b[31m 29'C\u001b[m, \u001b[32m  0 %\u001b[m | \u001b[36m\u001b[1m\u001b[33m    3\u001b[m / \u001b[33m11019\u001b[m MB |\n",
      "\u001b[36m[2]\u001b[m \u001b[34mGeForce RTX 2080 Ti\u001b[m |\u001b[31m 29'C\u001b[m, \u001b[32m  0 %\u001b[m | \u001b[36m\u001b[1m\u001b[33m    3\u001b[m / \u001b[33m11019\u001b[m MB |\n",
      "\u001b[36m[3]\u001b[m \u001b[34mGeForce RTX 2080 Ti\u001b[m |\u001b[31m 29'C\u001b[m, \u001b[32m  0 %\u001b[m | \u001b[36m\u001b[1m\u001b[33m    3\u001b[m / \u001b[33m11019\u001b[m MB |\n",
      "\u001b[36m[4]\u001b[m \u001b[34mGeForce RTX 2080 Ti\u001b[m |\u001b[31m 30'C\u001b[m, \u001b[32m  0 %\u001b[m | \u001b[36m\u001b[1m\u001b[33m    3\u001b[m / \u001b[33m11019\u001b[m MB |\n",
      "\u001b[36m[5]\u001b[m \u001b[34mGeForce RTX 2080 Ti\u001b[m |\u001b[31m 28'C\u001b[m, \u001b[32m  0 %\u001b[m | \u001b[36m\u001b[1m\u001b[33m    3\u001b[m / \u001b[33m11019\u001b[m MB |\n",
      "\u001b[36m[6]\u001b[m \u001b[34mGeForce RTX 2080 Ti\u001b[m |\u001b[31m 27'C\u001b[m, \u001b[32m  0 %\u001b[m | \u001b[36m\u001b[1m\u001b[33m    3\u001b[m / \u001b[33m11019\u001b[m MB |\n",
      "\u001b[36m[7]\u001b[m \u001b[34mGeForce RTX 2080 Ti\u001b[m |\u001b[1m\u001b[31m 62'C\u001b[m, \u001b[1m\u001b[32m 95 %\u001b[m | \u001b[36m\u001b[1m\u001b[33m10510\u001b[m / \u001b[33m11019\u001b[m MB | \u001b[1m\u001b[30mcyx\u001b[m(\u001b[33m10507M\u001b[m)\n"
     ]
    }
   ],
   "source": [
    "!gpustat"
   ]
  },
  {
   "cell_type": "code",
   "execution_count": 1,
   "id": "innocent-theology",
   "metadata": {},
   "outputs": [],
   "source": [
    "dir_path = '/home/chendian/BBCM/datasets/generalization_test/'\n",
    "\n",
    "pairs_single = {(line.split('\\t')[0], line.split('\\t')[1]): int(line.split('\\t')[2]) for line in open(dir_path + './pairs_single_train.txt', 'r')}\n",
    "pairs_multi = {(line.split('\\t')[0], line.split('\\t')[1]): int(line.split('\\t')[2]) for line in open(dir_path + './pairs_multi_train.txt', 'r')}"
   ]
  },
  {
   "cell_type": "code",
   "execution_count": null,
   "id": "isolated-qatar",
   "metadata": {},
   "outputs": [],
   "source": [
    "pairs_single = {(line.split('\\t')[0], line.split('\\t')[1]): int(line.split('\\t')[2]) for line in open(dir_path + './pairs_single_dev.txt', 'r')}\n",
    "pairs_multi = {(line.split('\\t')[0], line.split('\\t')[1]): int(line.split('\\t')[2]) for line in open(dir_path + './pairs_multi_dev.txt', 'r')}"
   ]
  },
  {
   "cell_type": "code",
   "execution_count": 2,
   "id": "interesting-mystery",
   "metadata": {},
   "outputs": [
    {
     "name": "stdout",
     "output_type": "stream",
     "text": [
      "Automatic-Corpus-Generation\t   install.sh\n",
      "CoNLL2003\t\t\t   ltp_data_v3.4.0\n",
      "README.txt\t\t\t   ltp_data_v3.4.0.zip\n",
      "ShannonBert\t\t\t   mldmoj\n",
      "ace04\t\t\t\t   msra_ner\n",
      "ace05\t\t\t\t   ontonotes_ner\n",
      "aistudio\t\t\t   papers\n",
      "bart-base-chinese-cluecorpussmall  python3.6_tf1.15.yaml\n",
      "binaries\t\t\t   resume_ner\n",
      "binaries.tar.gz\t\t\t   rmrb_ner\n",
      "bq\t\t\t\t   scriber_crude\n",
      "bq.tar.gz\t\t\t   span_bert_dqchen_base\n",
      "conll03\t\t\t\t   spanbert-base-cased\n",
      "correctanswer_20211216_274.json    spanbert-large-cased\n",
      "correctanswer_2021828.json\t   spanbert_hf_base.tar.gz\n",
      "csc_data\t\t\t   stanford-corenlp-4.2.2\n",
      "datafountain\t\t\t   stanford-corenlp-latest.zip\n",
      "fdy_csc_samples_20211221_275.json  weibo_ner\n",
      "google_albert_xlarge_v2\t\t   wget-log\n",
      "google_albert_xlarge_zh\n"
     ]
    }
   ],
   "source": [
    "!ls ~/download/"
   ]
  },
  {
   "cell_type": "code",
   "execution_count": 3,
   "id": "former-clone",
   "metadata": {},
   "outputs": [
    {
     "name": "stdout",
     "output_type": "stream",
     "text": [
      "fdy_csc_samples_20210831.json  fdy_csc_samples_20211124.unique.json\n",
      "fdy_csc_samples_20211008.json  fdy_csc_samples_20211221_275.json\n",
      "fdy_csc_samples_20211009.json\n"
     ]
    }
   ],
   "source": [
    "!ls ~/BBCM/datasets/findoc_annotations/"
   ]
  },
  {
   "cell_type": "code",
   "execution_count": 4,
   "id": "compliant-hughes",
   "metadata": {},
   "outputs": [
    {
     "name": "stdout",
     "output_type": "stream",
     "text": [
      "total 16G\n",
      "-rw-rw-r--  1 chendian chendian 1.9G Jan 18 16:20 texsmart-sdk-0.3.5-m-zh.tar.gz\n",
      "-rw-rw-r--  1 chendian chendian 4.7G Jan  6 22:02 tencent-ailab-embedding-zh-d100-v0.2.0.tar.gz\n",
      "-rw-rw-r--  1 chendian chendian 9.0G Jan  6 22:01 tencent-ailab-embedding-zh-d200-v0.2.0.tar.gz\n",
      "drwxrwxr-x 15 chendian chendian 4.0K Aug  6 17:12 okcd00\n",
      "drwxrwxr-x 14 chendian chendian 4.0K Jul 28 16:39 sogou_dict\n"
     ]
    }
   ],
   "source": [
    "!ls -lht /data/chendian/download/"
   ]
  },
  {
   "cell_type": "markdown",
   "id": "advance-duncan",
   "metadata": {},
   "source": [
    "### 既有字/词混淆集"
   ]
  },
  {
   "cell_type": "code",
   "execution_count": 5,
   "id": "protecting-advisory",
   "metadata": {},
   "outputs": [],
   "source": [
    "sighan_confusion = {}\n",
    "for line in open('/home/chendian/BBCM/datasets/sighan_confusion.txt', 'r'):\n",
    "    k, v = line.strip().split(':')\n",
    "    sighan_confusion[k] = v"
   ]
  },
  {
   "cell_type": "code",
   "execution_count": 8,
   "id": "controlled-trainer",
   "metadata": {},
   "outputs": [
    {
     "data": {
      "text/plain": [
       "7322"
      ]
     },
     "execution_count": 8,
     "metadata": {},
     "output_type": "execute_result"
    }
   ],
   "source": [
    "from bbcm.utils.text_utils import is_chinese_char\n",
    "vocab_chars = [line.strip() for line in open('/data/chendian/pretrained_bert_models/chinese_L-12_H-768_A-12/vocab.txt', 'r')]\n",
    "vocab_chars = [c for c in vocab_chars if len(c)==1 and is_chinese_char(ord(c))]\n",
    "len(vocab_chars)"
   ]
  },
  {
   "cell_type": "code",
   "execution_count": 9,
   "id": "significant-instrument",
   "metadata": {},
   "outputs": [],
   "source": [
    "common_words = set()\n",
    "for line in open('/home/chendian/BBCM/datasets/xiandai_hanyu_yongci.txt', 'r'):\n",
    "    k = line.strip().split('\\t')[0]\n",
    "    common_words.add(k)\n",
    "common_words = sorted(common_words)"
   ]
  },
  {
   "cell_type": "code",
   "execution_count": 36,
   "id": "southern-turtle",
   "metadata": {},
   "outputs": [],
   "source": [
    "known_token_set = load_json('../datasets/csc_py/known_token_set.json')\n",
    "tencent_vocab = load_json('../datasets/csc_py/tencent_vocab.json')"
   ]
  },
  {
   "cell_type": "markdown",
   "id": "thrown-victim",
   "metadata": {},
   "source": [
    "> 语料中，词表覆盖情况统计"
   ]
  },
  {
   "cell_type": "code",
   "execution_count": 136,
   "id": "medieval-theater",
   "metadata": {},
   "outputs": [],
   "source": [
    "known_words = vocab_chars + common_words\n",
    "word_count = {k: 0 for k in known_words}"
   ]
  },
  {
   "cell_type": "code",
   "execution_count": 2,
   "id": "weird-advice",
   "metadata": {},
   "outputs": [
    {
     "data": {
      "text/plain": [
       "PreTrainedTokenizer(name_or_path='/data/chendian/pretrained_bert_models/chinese_L-12_H-768_A-12/', vocab_size=21128, model_max_len=1000000000000000019884624838656, is_fast=False, padding_side='right', special_tokens={'unk_token': '[UNK]', 'sep_token': '[SEP]', 'pad_token': '[PAD]', 'cls_token': '[CLS]', 'mask_token': '[MASK]'})"
      ]
     },
     "execution_count": 2,
     "metadata": {},
     "output_type": "execute_result"
    }
   ],
   "source": [
    "from transformers import BertTokenizer\n",
    "tokenizer = BertTokenizer.from_pretrained('/data/chendian/pretrained_bert_models/chinese_L-12_H-768_A-12/')\n",
    "tokenizer"
   ]
  },
  {
   "cell_type": "code",
   "execution_count": null,
   "id": "individual-finding",
   "metadata": {},
   "outputs": [],
   "source": [
    "import jieba\n",
    "tokenizer.tokenize(sample['correct_text'])\n",
    "list(jieba.cut(sample['correct_text']))"
   ]
  },
  {
   "cell_type": "code",
   "execution_count": 33,
   "id": "collected-trauma",
   "metadata": {},
   "outputs": [],
   "source": [
    "import jieba\n",
    "from tqdm import tqdm\n",
    "from bbcm.utils import load_json, dump_json\n",
    "from collections import defaultdict\n",
    "from bbcm.utils.text_utils import is_chinese_char\n",
    "dir_path = \"/home/chendian/BBCM/datasets/\"\n",
    "oov_word_count = defaultdict(int)\n",
    "samples_train = load_json(dir_path + \"/csc/train.json\")\n",
    "samples_dev = load_json(dir_path + \"/csc/dev.json\")\n",
    "samples_test = load_json(dir_path + \"/csc/test.json\")"
   ]
  },
  {
   "cell_type": "code",
   "execution_count": null,
   "id": "labeled-logic",
   "metadata": {},
   "outputs": [],
   "source": []
  },
  {
   "cell_type": "code",
   "execution_count": null,
   "id": "forward-knock",
   "metadata": {},
   "outputs": [],
   "source": [
    "from collections import OrderedDict, defaultdict\n",
    "csc_origin_words = defaultdict(int)\n",
    "for sample in tqdm(samples_train):\n",
    "    # for word in tokenizer.tokenize(sample['correct_text']) + \n",
    "    for word in jieba.cut(sample['correct_text']):\n",
    "        if False in [is_chinese_char(ord(w)) for w in word]:\n",
    "            continue\n",
    "        csc_origin_words[word] += 1\n",
    "        # if word in word_count: word_count[word] += 1\n",
    "        # else: oov_word_count[word] += 1\n",
    "csc_origin_words = OrderedDict(sorted(csc_origin_words.items()))\n",
    "dump_json(csc_origin_words, dir_path + \"/csc/csc_words_train.json\")"
   ]
  },
  {
   "cell_type": "code",
   "execution_count": 150,
   "id": "negative-center",
   "metadata": {},
   "outputs": [
    {
     "data": {
      "text/plain": [
       "(111871, 32835, 27243)"
      ]
     },
     "execution_count": 150,
     "metadata": {},
     "output_type": "execute_result"
    }
   ],
   "source": [
    "visited_words = [k for k, v in word_count.items() if v > 0]\n",
    "unseen_words = [k for k, v in word_count.items() if v == 0]\n",
    "len(oov_word_count), len(visited_words), len(unseen_words)"
   ]
  },
  {
   "cell_type": "code",
   "execution_count": 157,
   "id": "saved-romance",
   "metadata": {},
   "outputs": [
    {
     "data": {
      "text/plain": [
       "0.5465394986517528"
      ]
     },
     "execution_count": 157,
     "metadata": {},
     "output_type": "execute_result"
    }
   ],
   "source": [
    "len(visited_words) / (len(unseen_words) + len(visited_words))"
   ]
  },
  {
   "cell_type": "code",
   "execution_count": 154,
   "id": "younger-niagara",
   "metadata": {},
   "outputs": [
    {
     "data": {
      "text/plain": [
       "['不能',\n",
       " '二十八日',\n",
       " '八月',\n",
       " '十二日',\n",
       " '西班牙',\n",
       " '这位',\n",
       " '目前为止',\n",
       " '此种',\n",
       " '何种',\n",
       " '一部',\n",
       " '神剧',\n",
       " '不少',\n",
       " '混合双打',\n",
       " '甘比尔',\n",
       " '以六比',\n",
       " '三比',\n",
       " '斯洛伐克',\n",
       " '艾巴提',\n",
       " '俄国',\n",
       " '投资银行']"
      ]
     },
     "execution_count": 154,
     "metadata": {},
     "output_type": "execute_result"
    }
   ],
   "source": [
    "list(oov_word_count.keys())[:20]"
   ]
  },
  {
   "cell_type": "code",
   "execution_count": 155,
   "id": "italian-snowboard",
   "metadata": {},
   "outputs": [
    {
     "data": {
      "text/plain": [
       "['龋齿',\n",
       " '龙井茶',\n",
       " '龙凤呈样',\n",
       " '龙吟虎啸',\n",
       " '龙套',\n",
       " '龙柏',\n",
       " '龙潭虎穴',\n",
       " '龙灯',\n",
       " '龙爪槐',\n",
       " '龙王',\n",
       " '龙王庙',\n",
       " '龙眼',\n",
       " '龙腾虎跃',\n",
       " '龙舞',\n",
       " '龙船',\n",
       " '龙虎斗',\n",
       " '龙行虎步',\n",
       " '龙袍',\n",
       " '龙钟',\n",
       " '龙门阵']"
      ]
     },
     "execution_count": 155,
     "metadata": {},
     "output_type": "execute_result"
    }
   ],
   "source": [
    "unseen_words[-30:-10]"
   ]
  },
  {
   "cell_type": "markdown",
   "id": "commercial-leadership",
   "metadata": {},
   "source": [
    "### 余弦相似度阈值分析\n",
    "> (1) 根据现有标注中的 \"两者均可\" 类别的样本，分析句子中两者均可的词的余弦相似度分布"
   ]
  },
  {
   "cell_type": "code",
   "execution_count": 24,
   "id": "documentary-better",
   "metadata": {},
   "outputs": [],
   "source": [
    "import numpy as np\n",
    "def cosine_similarity(v1, v2):\n",
    "    # return a value between -1 and 1\n",
    "    norm = np.linalg.norm(v1) * np.linalg.norm(v2)\n",
    "    if norm:\n",
    "        return np.dot(v1, v2) / norm\n",
    "    else:\n",
    "        return 0"
   ]
  },
  {
   "cell_type": "code",
   "execution_count": 32,
   "id": "tender-industry",
   "metadata": {},
   "outputs": [
    {
     "data": {
      "text/plain": [
       "[{'id': 'u_0', 'type': '正确', 'operands': ['e_37']},\n",
       " {'id': 'u_1', 'type': '错误', 'operands': ['e_38']},\n",
       " {'id': 'c_0', 'operands': [], 'type': '明显错句'}]"
      ]
     },
     "execution_count": 32,
     "metadata": {},
     "output_type": "execute_result"
    }
   ],
   "source": [
    "from bbcm.utils import load_json\n",
    "annotation_samples = load_json('/home/chendian/download/correctanswer_20211216_274.json')\n",
    "annotation_samples[2]['answer']['relations']"
   ]
  },
  {
   "cell_type": "code",
   "execution_count": 45,
   "id": "israeli-printing",
   "metadata": {
    "scrolled": true,
    "tags": []
   },
   "outputs": [
    {
     "name": "stderr",
     "output_type": "stream",
     "text": [
      "100%|███████████████████████████████████████████████████████████████████████████████| 810/810 [00:00<00:00, 73531.72it/s]\n"
     ]
    },
    {
     "data": {
      "text/plain": [
       "(153, 125)"
      ]
     },
     "execution_count": 45,
     "metadata": {},
     "output_type": "execute_result"
    }
   ],
   "source": [
    "from bbcm.utils import load_json\n",
    "annotation_samples = load_json('/home/chendian/download/correctanswer_20211216_274.json')\n",
    "\n",
    "from collections import defaultdict\n",
    "same_pairs = defaultdict(int)\n",
    "\n",
    "count = 0\n",
    "from tqdm import tqdm\n",
    "from collections import defaultdict\n",
    "pairs = defaultdict(int)\n",
    "for sample in tqdm(annotation_samples):\n",
    "    same_flag = False\n",
    "    candidates = []\n",
    "    for rel in sample['answer']['relations']:\n",
    "        if len(rel['operands']) == 0 and rel['type'] == '两者均可':\n",
    "            same_flag = True\n",
    "        else:\n",
    "            candidates.append(rel['operands'])\n",
    "    if not same_flag:\n",
    "        continue\n",
    "    \n",
    "    faulty_positions = 0\n",
    "    for w in sample['answer']['words']:\n",
    "        if w['id'].endswith('-left'):\n",
    "            faulty_positions += 1\n",
    "    if faulty_positions != 1:\n",
    "        continue\n",
    "    ent2w = {ent['id']: ent['tokens'] for ent in sample['answer']['entities']}\n",
    "    w2token = {w['id']: w['word'] for w in sample['answer']['words']}\n",
    "    if len(candidates) != 2:\n",
    "        continue\n",
    "    r1, r2 = candidates\n",
    "    e1, e2 = r1[0], r2[0]\n",
    "    w1, w2 = [w2token[_e] for _e in ent2w[e1]], [w2token[_e] for _e in ent2w[e2]]\n",
    "    pairs[(''.join(w1), ''.join(w2))] += 1 \n",
    "    count += 1\n",
    "    # break\n",
    "    \n",
    "count, len(pairs)"
   ]
  },
  {
   "cell_type": "code",
   "execution_count": 46,
   "id": "million-actor",
   "metadata": {},
   "outputs": [],
   "source": [
    "involved_words = defaultdict(int)\n",
    "for w1, w2 in sorted(pairs.keys()):\n",
    "    involved_words[w1] += 1\n",
    "    involved_words[w2] += 1\n",
    "tok2emb = conf.load_embeddings(list(involved_words.keys()))"
   ]
  },
  {
   "cell_type": "code",
   "execution_count": 71,
   "id": "biblical-moore",
   "metadata": {},
   "outputs": [
    {
     "name": "stdout",
     "output_type": "stream",
     "text": [
      "一样 依约 0.1390233783563587\n",
      "交 缴 0.6699184609574435\n",
      "及 即 0.5917876304529206\n",
      "型 兴 0.23601154688159584\n",
      "型 性 0.5876317326695757\n",
      "性 型 0.5876317326695757\n",
      "持 撑 0.23630697269894027\n",
      "板 棒 0.23601504743476906\n",
      "档 端 0.23362953004987433\n",
      "检 监 0.5891626380661642\n",
      "检查 监测 0.5742486179645032\n",
      "监 检 0.5891626380661642\n",
      "监测 检查 0.5742486179645032\n",
      "省 市 0.7311263241955986\n",
      "缴 交 0.6699184609574435\n",
      "虑 量 0.24262570836071612\n",
      "证航空 障防控 0.5612091216173797\n",
      "连接 联结 0.7485220870058271\n",
      "黏 粘 0.7744097290556621\n"
     ]
    }
   ],
   "source": [
    "same_pair_scores = []\n",
    "for w1, w2 in sorted(pairs.keys()):\n",
    "    cos_sim = cosine_similarity(tok2emb[w1], tok2emb[w2])\n",
    "    same_pair_scores.append(cos_sim)\n",
    "    if cos_sim > 0.55 or cos_sim < 0.25:\n",
    "        print(w1, w2, cos_sim)\n",
    "# scores"
   ]
  },
  {
   "cell_type": "code",
   "execution_count": 72,
   "id": "important-victor",
   "metadata": {},
   "outputs": [
    {
     "data": {
      "image/png": "[encoded data removed]",
      "text/plain": [
       "<Figure size 1584x216 with 1 Axes>"
      ]
     },
     "metadata": {
      "needs_background": "light"
     },
     "output_type": "display_data"
    }
   ],
   "source": [
    "import numpy as np\n",
    "import matplotlib.pyplot as plt\n",
    "plt.figure(figsize=(22, 3))\n",
    "\n",
    "plt.plot(same_pair_scores, [0 for _ in scores], \"ro\")\n",
    "plt.show()"
   ]
  },
  {
   "cell_type": "markdown",
   "id": "after-orlando",
   "metadata": {},
   "source": [
    "> (2) 现有标注中 \"错误\" 的样本，分析句子中互为错误词的余弦相似度分布"
   ]
  },
  {
   "cell_type": "code",
   "execution_count": 23,
   "id": "martial-martial",
   "metadata": {},
   "outputs": [
    {
     "name": "stderr",
     "output_type": "stream",
     "text": [
      "100%|██████████████████████████████████████████████████████████████████████████████| 729/729 [00:00<00:00, 653343.51it/s]\n"
     ]
    },
    {
     "data": {
      "text/plain": [
       "242"
      ]
     },
     "execution_count": 23,
     "metadata": {},
     "output_type": "execute_result"
    }
   ],
   "source": [
    "from tqdm import tqdm\n",
    "from bbcm.utils import load_json\n",
    "faulty_pairs = defaultdict(int)\n",
    "fdy_samples = load_json('/home/chendian/BBCM/datasets/findoc_annotations/fdy_csc_samples_20211221_275.json')\n",
    "for sample in tqdm(fdy_samples):\n",
    "    last_i = -100\n",
    "    os, cs = \"\", \"\"\n",
    "    for cp in sample['csc_pair']:\n",
    "        i, o, c = cp\n",
    "        os += o\n",
    "        cs += c\n",
    "        if i > last_i + 1:\n",
    "            if len(os) > 0:\n",
    "                faulty_pairs[(os, cs)] += 1\n",
    "            os, cs = \"\", \"\"\n",
    "        last_i = i\n",
    "len(faulty_pairs)"
   ]
  },
  {
   "cell_type": "code",
   "execution_count": 79,
   "id": "partial-slovenia",
   "metadata": {},
   "outputs": [],
   "source": [
    "involved_words = defaultdict(int)\n",
    "for l in faulty_pairs:\n",
    "    w1, w2 = l\n",
    "    involved_words[w1] += 1\n",
    "    involved_words[w2] += 1\n",
    "tok2emb = conf.load_embeddings(list(involved_words.keys()))"
   ]
  },
  {
   "cell_type": "code",
   "execution_count": 81,
   "id": "monthly-spider",
   "metadata": {
    "scrolled": true,
    "tags": []
   },
   "outputs": [
    {
     "name": "stdout",
     "output_type": "stream",
     "text": [
      "， , 1.0000000000000002\n",
      "帐 账 0.6957215239896489\n",
      "做 作 0.6567624810969207\n",
      "以 疫 0.15028954973952616\n",
      "恵 惠 0.6823136582939479\n",
      "的 得 0.6552914468841645\n",
      "岂 起 0.183116041260281\n",
      "映 应 0.14655537660651743\n",
      "指 职 0.17461781053422223\n",
      "营 用 0.18524193355443438\n",
      "集 激 0.15517138932180669\n",
      "资大 正达 0.6173061706813219\n",
      "在 再 0.6233964549612402\n",
      "接 阶 0.180509088412865\n",
      "司公 商工 0.6081587930438438\n"
     ]
    }
   ],
   "source": [
    "csc_faulty_sim_scores = []\n",
    "\n",
    "for l in faulty_pairs:\n",
    "    w1, w2 = l\n",
    "    cos_sim = cosine_similarity(tok2emb[w1], tok2emb[w2])\n",
    "    csc_faulty_sim_scores.append(cos_sim)\n",
    "    if cos_sim > 0.6 or cos_sim < 0.2:\n",
    "        print(w1, w2, cos_sim)  "
   ]
  },
  {
   "cell_type": "code",
   "execution_count": 95,
   "id": "sealed-confirmation",
   "metadata": {},
   "outputs": [
    {
     "data": {
      "image/png": "[encoded data removed]",
      "text/plain": [
       "<Figure size 1152x360 with 1 Axes>"
      ]
     },
     "metadata": {
      "needs_background": "light"
     },
     "output_type": "display_data"
    }
   ],
   "source": [
    "import numpy as np\n",
    "import matplotlib.pyplot as plt\n",
    "plt.figure(figsize=(16, 5))\n",
    "plt.hist(csc_faulty_sim_scores, bins=32, density=True, histtype='stepfilled', alpha=0.6)\n",
    "plt.show()"
   ]
  },
  {
   "cell_type": "markdown",
   "id": "built-rogers",
   "metadata": {},
   "source": [
    "> (3) 根据现有(271K+SIGHAN)标注中的 \"错误\" 类别的样本，分析句子中互为错误的词的余弦相似度分布"
   ]
  },
  {
   "cell_type": "code",
   "execution_count": 43,
   "id": "governmental-kingston",
   "metadata": {},
   "outputs": [],
   "source": [
    "pairs_multi_train = [line.strip() for line in open('/home/chendian/BBCM/datasets/generalization_test/pairs_multi_train.txt', 'r')]\n",
    "\n",
    "for l in pairs_multi_train:\n",
    "    w1, w2, count = l.split('\\t')\n",
    "    involved_words[w1] += 1\n",
    "    involved_words[w2] += 1\n",
    "tok2emb = conf.load_embeddings(list(involved_words.keys()))"
   ]
  },
  {
   "cell_type": "code",
   "execution_count": 44,
   "id": "stylish-stationery",
   "metadata": {
    "scrolled": true,
    "tags": []
   },
   "outputs": [
    {
     "name": "stdout",
     "output_type": "stream",
     "text": [
      "壑誉 繁荣 22 0.6455778173040921\n",
      "暴咋 爆炸 17 0.6726341692824042\n",
      "曰义 日益 13 0.6181800767848048\n",
      "壑查 警察 13 0.6068290343002424\n",
      "奇丽 绮莉 11 0.7256523508020358\n",
      "在线 再现 10 0.6620511391372956\n",
      "令曰 今日 10 0.6067380591553547\n",
      "曰字 日子 9 0.612906164630159\n",
      "皎皎 佼佼 9 0.6586341380242188\n",
      "决绝 解决 8 0.8428356647548483\n",
      "诩诩 栩栩 8 0.6161175722321893\n",
      "即使 既是 7 0.7048673274174444\n",
      "以思 意识 7 0.6003322507646168\n",
      "先茌 现在 7 0.6023259772131861\n",
      "实力 失利 6 0.6606194227601787\n",
      "金融 锦荣 6 0.617304247450055\n",
      "再次 在此 6 0.6072313852342347\n",
      "是后 时候 6 0.6653495886939936\n",
      "时候 事后 6 0.6579486424059221\n",
      "总砀 终场 6 0.6051287651029897\n",
      "迭迭 叠叠 5 0.6217698871288629\n",
      "尌厉 鼓励 5 0.6229668897943715\n",
      "迦南 嘉男 5 0.6419378699120051\n",
      "浈淂 领导 5 0.6341081749020726\n",
      "有与 由于 4 0.6214896353936337\n",
      "乎掠 忽略 4 0.6590655653215388\n",
      "绌绌 咄咄 4 0.6657998994722443\n",
      "晓玲 小琳 4 0.7164990885190857\n",
      "之一 指引 4 0.6308123398126189\n",
      "汊诚 汉城 4 0.6074788817107954\n",
      "是的 使得 4 0.7143557600182707\n",
      "汊官 汉宫 4 0.7042011260386707\n",
      "暌暌 睽睽 4 0.7172406628612521\n",
      "是侯 时候 4 0.6711182089358594\n",
      "骨小雨 古晓宇 4 0.6187294950849114\n",
      "震震 振振 4 0.6597964655353211\n",
      "影影 隐隐 4 0.6181937878449862\n",
      "一再 已在 3 0.6590403976123258\n",
      "六茌 留在 3 0.6552357401637208\n",
      "名曰 明日 3 0.6013647082236645\n",
      "秉睿 炳芮 3 0.67505667882365\n",
      "浅茌 潜在 3 0.6634094301829981\n",
      "了静 乐靖 3 0.6275406980769884\n",
      "当时 但是 3 0.6867108229842841\n",
      "为与 位于 3 0.6700114640223529\n",
      "利砀 立场 3 0.6007974929685722\n",
      "渲佈 宣布 3 0.6195989684438413\n",
      "溅蹋 践踏 3 0.6455029242388606\n",
      "宇飞 雨霏 3 0.6246562388390481\n",
      "言与 严于 3 0.634762539479832\n",
      "性緻 兴致 3 0.6201092179312756\n",
      "是的 实地 3 0.6747335085635974\n",
      "赉类 类似 3 0.8884243399994469\n",
      "颜希 闫西 3 0.6667529886366729\n",
      "周分 月份 3 0.6217783850020866\n",
      "身麻 什么 3 0.648165702893046\n",
      "的一 得以 3 0.7095029668141418\n",
      "翻振 番震 3 0.6829821511411482\n",
      "长兴 常鑫 3 0.6561478078766178\n",
      "福却 富裕 3 0.6312742529639879\n",
      "纵蹟 踪迹 3 0.6395834815034107\n",
      "力气 利器 2 0.6550863601209862\n",
      "余篇 馀片 2 0.6110850867256705\n",
      "作的 做得 2 0.7686803703447175\n",
      "氛得 奋地 2 0.6150928402350645\n",
      "由真 尤其 2 0.6105222623370649\n",
      "寓意 欲以 2 0.6163620144565853\n",
      "涠州 澳洲 2 0.6123763166485059\n",
      "胪岳 监狱 2 0.6830126667162022\n",
      "尼亚 妮娅 2 0.7803250566934758\n",
      "它有 她又 2 0.6760091981919526\n",
      "但是 当事 2 0.6761441830967211\n",
      "时的 使得 2 0.7153836834178209\n",
      "流程 柳城 2 0.6095252277562354\n",
      "绝的 觉得 2 0.6212550796026783\n",
      "绢那 缉拿 2 0.6075641941887349\n",
      "爬座 怕坐 2 0.6096297732125098\n",
      "荽类 类似 2 0.7045681612901483\n",
      "全力 权利 2 0.6292184024022858\n",
      "她吗 他妈 2 0.8246104461801694\n",
      "撘工 搭公 2 0.6047396932837191\n",
      "该隐 盖伊 2 0.601668654897924\n",
      "谨偑 敬佩 2 0.7173301863699438\n",
      "到时 倒是 2 0.6153359724359815\n",
      "影龠 音乐 2 0.6402391514695686\n",
      "作业矸 佐野研 2 0.6725096891892436\n",
      "瑞的 锐德 2 0.746311174923462\n",
      "碳洹 炭疽 2 0.6599638709129186\n",
      "确末 却未 2 0.6041154210669388\n",
      "有爬 又怕 2 0.6274756720697933\n",
      "韬澜遭 格兰超 2 0.6874723881483372\n",
      "他有 她又 2 0.7809325829451381\n",
      "佈制 布置 2 0.6831600394309677\n",
      "曦一 希怡 2 0.6059256028638531\n",
      "惹途 意图 2 0.6194708608413634\n",
      "漠州 澳洲 2 0.6032550458990639\n",
      "珊珊 姗姗 2 0.735007843439346\n",
      "揍撑 擦掌 2 0.6148549605753741\n",
      "玉林 雨玲 2 0.6990123323992591\n",
      "在都 再度 2 0.6588499432771436\n",
      "的急 得及 2 0.6914585135923135\n",
      "一再 意在 2 0.6433157757058203\n",
      "及时 即使 2 0.7319024502156588\n",
      "侮寞 悔莫 2 0.6776823928401879\n",
      "座茌 坐在 2 0.634549595094784\n",
      "紫萱 子轩 2 0.6777677457912892\n",
      "严寒 闫涵 2 0.6234355700354295\n",
      "力砀 立场 2 0.6194125224489089\n",
      "是他 使它 2 0.6480887476684528\n",
      "曰在 日子 2 0.6565509720148047\n",
      "格勒 革了 2 0.6289129550759702\n",
      "个中 各种 2 0.6850128318404034\n",
      "婉莹 琬滢 2 0.8426143605081633\n",
      "奴生 女神 2 0.6786004691049496\n",
      "栎鑫 丽新 2 0.6158228180113415\n",
      "署与 属于 2 0.6035730462644429\n",
      "恛意 回忆 2 0.6341035235728131\n",
      "有线 又现 2 0.6147544238309897\n",
      "鉴訾 监督 2 0.62582587299397\n",
      "威廉 微联 2 0.6357046286075118\n",
      "京津 津京 2 1.0\n",
      "益智 意志 2 0.6882336136148458\n",
      "察晋 查普 2 0.639584903304904\n",
      "式的 使得 2 0.64992299505667\n",
      "名莒 民营 2 0.6044758615687567\n",
      "都为 多位 2 0.6375922281273225\n",
      "指导 之道 2 0.6026441570268218\n",
      "林伟 玲蔚 2 0.6907542666308331\n",
      "再起 在其 2 0.6431364800561288\n",
      "钿性 银行 2 0.6054070966468201\n",
      "事业 士也 2 0.6135824112267515\n",
      "事异 思议 2 0.6475713996047953\n",
      "的一 得意 2 0.6480804369214235\n",
      "音嚮 影响 2 0.6856305809299005\n",
      "瑞希 睿西 2 0.7446751182391562\n",
      "即使 及时 2 0.7319024502156588\n",
      "演程序 言承旭 2 0.6923446960993485\n",
      "莫明 真名 2 0.6064993598388735\n",
      "音洁 英杰 2 0.6320934903023598\n",
      "跋捏 拔擢 2 0.6276475102630062\n",
      "在有 再由 2 0.6584399082478775\n",
      "像实 象是 1 0.8163441175382954\n",
      "将之 降至 1 0.6129837924673323\n",
      "飞机溶 非金融 1 0.6388024071099794\n",
      "有以祭 由一条 1 0.6113748407638212\n",
      "抵挡花 低档货 1 0.63634835903486\n",
      "补强 不抢 1 0.6041252742726381\n",
      "想再 像在 1 0.7094968049216996\n",
      "势力 失利 1 0.6729518556997138\n",
      "再得 在的 1 0.7449504560779207\n",
      "正在坐 证再走 1 0.6612419298937054\n",
      "末并 未必 1 0.6042304641914745\n",
      "巨龙 聚隆 1 0.64865202607268\n",
      "龚天 宫田 1 0.6176474600516982\n",
      "就得 旧的 1 0.616177119559107\n",
      "异常的 一场地 1 0.6371390157343257\n",
      "放集资 房及自 1 0.6393405779122283\n",
      "再画 在话 1 0.63254956790906\n",
      "雅辰 亚晨 1 0.7065743935251027\n",
      "办他 帮她 1 0.7023043658644653\n",
      "威源 微元 1 0.6089359532187327\n",
      "在此 再次 1 0.6072313852342347\n",
      "青怳 情况 1 0.618629755092918\n",
      "睛励 精力 1 0.6231345855731202\n",
      "购物 构无 1 0.6137614302920813\n",
      "阳滔 柏格 1 0.6344921351072591\n",
      "苏阳 孙杨 1 0.7218123873159487\n",
      "晋瞎 普鲁 1 0.6042979682340035\n",
      "遭场景 超长近 1 0.6136904808162372\n",
      "她取早 他去找 1 0.7138282702136813\n",
      "的鼓励 得努力 1 0.6384840536657806\n",
      "昀卖 购买 1 0.616337659827079\n",
      "靡天 摩夫 1 0.6010716341879278\n",
      "绝艺 决意 1 0.6205942602782913\n",
      "小指右 少之又 1 0.6464978382299804\n",
      "的他 得她 1 0.795287594457428\n",
      "末在 未再 1 0.6464316280498077\n",
      "常一流 长遗留 1 0.6366854557573001\n",
      "有事 又是 1 0.6884484116509272\n",
      "想新 相信 1 0.6041858660049602\n",
      "汊买 汉卖 1 0.7473221549080944\n",
      "利正 力争 1 0.6286921063960798\n",
      "像仡 相信 1 0.6083738510393762\n",
      "壑黄 繁荣 1 0.6767300516249075\n",
      "张途 展图 1 0.6411597960910745\n",
      "静明 敬民 1 0.6167206850483349\n",
      "欣欣 新兴 1 0.624386805223209\n",
      "办他影 帮它营 1 0.6490121210793426\n",
      "再以 在意 1 0.618718032430749\n",
      "金麻 经么 1 0.6365514735100196\n",
      "祟像 景象 1 0.6482324092974303\n",
      "还绍 述纽 1 0.606981203719996\n",
      "见阿 歉啊 1 0.62804468146407\n",
      "只的 直得 1 0.605704289071255\n",
      "杨清 扬青 1 0.68804410882083\n",
      "曰字巳 日子已 1 0.6564120607152412\n",
      "候他 后她 1 0.6640325122557562\n",
      "围奴生 为女神 1 0.635317590720426\n",
      "有溶 又融 1 0.6302631687255071\n",
      "变得 边的 1 0.6138621204679701\n",
      "实务 食物 1 0.612236015991613\n",
      "坐得 做的 1 0.6371778617044186\n",
      "瑚砚 珊现 1 0.6423844841674935\n",
      "曰智 日志 1 0.6652036667901189\n",
      "于个 与各 1 0.64178360364533\n",
      "睿曦 瑞希 1 0.711853616349896\n",
      "军需 均须 1 0.6830799524513258\n",
      "曰久渤 日之前 1 0.6297232848308552\n",
      "直立星 执力性 1 0.6178752281172099\n",
      "在江 再将 1 0.616749845599737\n",
      "再官麽 在管吗 1 0.7398785634053817\n",
      "也对真 一队争 1 0.6305511409758457\n",
      "坻里 地理 1 0.6412839440587049\n",
      "矩形 巨型 1 0.6185558333543495\n",
      "演句 言问 1 0.621409168246766\n",
      "情他麽 亲她吗 1 0.7396242857178659\n",
      "智院 稚园 1 0.6200999310337136\n",
      "心想呢 欣赏你 1 0.6846961839386363\n",
      "父亲 夫妻 1 0.7099107844138757\n",
      "在的 再得 1 0.7449504560779207\n",
      "欉的有 丛德友 1 0.6500097248351756\n",
      "震悠 展攸 1 0.6584917663474279\n",
      "是看 试着 1 0.6018992344757748\n",
      "再进 在近 1 0.62662256683375\n",
      "青云 清运 1 0.6221893201466043\n",
      "金鹰 京印 1 0.6088502114657617\n",
      "诀觉得 解决的 1 0.7119040380012025\n",
      "于他 与她 1 0.7608290096349506\n",
      "总是 同事 1 0.6150030246188359\n",
      "然一身 让医生 1 0.6523994253954195\n",
      "莉薇 利维 1 0.6338639585860427\n",
      "他进 她近 1 0.6604333088473353\n",
      "瞳再 彤才 1 0.6190627166957453\n",
      "巨珂 旦河 1 0.6059965565891974\n",
      "啊在 阿才 1 0.7041685331148049\n",
      "因跟都 应更多 1 0.7189156222334038\n",
      "找祖李 著祝您 1 0.6766788256852397\n",
      "有位 又为 1 0.6443839376888442\n",
      "完的采 玩得菜 1 0.6777922000423565\n",
      "基金 金经 1 0.7231806810417435\n",
      "芊睿 千瑞 1 0.6442580838894726\n",
      "大去 打趣 1 0.6077454504960069\n",
      "怨声 愿生 1 0.6448886627379898\n",
      "真的 值得 1 0.7000883056115159\n",
      "办他还 帮她换 1 0.7414495995341853\n",
      "察製 查资 1 0.7187310936137704\n",
      "仁带看 人戴着 1 0.6996037204746448\n",
      "堇苜 仅有 1 0.199864000550758\n",
      "对队 队对 1 1.0000000000000002\n",
      "和余 合宇 1 0.6185129418810497\n",
      "兴它 心他 1 0.6356136108517949\n",
      "于时 与世 1 0.6386073349248796\n",
      "司昝 西各 1 0.6063087800167237\n",
      "魏映 韦英 1 0.6046815269863818\n",
      "是有 事又 1 0.652135444366177\n",
      "得像 的想 1 0.7389639330147962\n",
      "丽一 莉以 1 0.6677224221308016\n",
      "峰之撑 锋执掌 1 0.6301673231505536\n",
      "治则 指责 1 0.6060172019554336\n",
      "鱠他 怪她 1 0.7427649416955429\n",
      "石是 是世 1 0.7467081521409736\n",
      "销瀰 消弭 1 0.6503308905104779\n",
      "丽结 立杰 1 0.6714089984077037\n",
      "快而湾 块儿玩 1 0.6323971690056451\n",
      "又是 有时 1 0.7392789906112394\n",
      "教他 叫她 1 0.6645486091256313\n",
      "适于 是与 1 0.622728326593906\n",
      "受茌 收在 1 0.6351857812772748\n",
      "族而 祖儿 1 0.6124885274315807\n",
      "毅致 意志 1 0.636582971477523\n",
      "出与 处于 1 0.6261986184241065\n",
      "强强 蔷蔷 1 0.1795156110322283\n",
      "艾博 埃伯 1 0.6491364236758539\n",
      "他以 她已 1 0.7011810739322483\n",
      "座呢 坐那 1 0.6795514700089829\n",
      "迪存 迫在 1 0.6611706157967547\n",
      "像她 想他 1 0.7553939776921421\n",
      "向耒友 尚未发 1 0.6442731907317137\n",
      "澜座 兰坐 1 0.6156757189962438\n",
      "历理 理李 1 0.8088669542849987\n",
      "在世 再是 1 0.640228833697867\n",
      "张的 长得 1 0.6042954259578706\n",
      "为纪 卫计 1 0.6718286559378214\n",
      "啬议 意义 1 0.6029341412523284\n",
      "利思牦 莉丝特 1 0.618596769184771\n",
      "巴陵 霸凌 1 0.6017664636509127\n",
      "已在 一再 1 0.6590403976123258\n",
      "知名 志明 1 0.6480032900829436\n",
      "命军 民运 1 0.6937245495776894\n",
      "部大 不但 1 0.6012759167838492\n",
      "两极 量几 1 0.63228420387436\n",
      "陈立 程里 1 0.6000556943248695\n",
      "通知 同志 1 0.6296526666198233\n",
      "事实相 适时向 1 0.6448148585261506\n",
      "撘我 搭载 1 0.6198997320079908\n",
      "贿与 惠于 1 0.6098622025298818\n",
      "同义 统一 1 0.6053721670890253\n",
      "促期曰 逐起日 1 0.675206671577657\n",
      "炎炎 阎焱 1 0.7198208485588834\n",
      "佳晋 准普 1 0.6464364493876551\n",
      "林立 凌厉 1 0.6792988728998737\n",
      "得机制 地基致 1 0.6147293461048796\n",
      "李耳 里尔 1 0.624058111809015\n",
      "小燕 晓彦 1 0.6442923264683723\n",
      "钰婕 玉洁 1 0.6435258529155657\n",
      "于兰 与蓝 1 0.6445208240925212\n",
      "澜茌 兰在 1 0.6489482391357725\n",
      "阿请 啊亲 1 0.6110953617109853\n",
      "与实 于戏 1 0.600015162935142\n",
      "而萱 儿童 1 0.6803852793183256\n",
      "熹哇 嘉娃 1 0.6330204805473064\n",
      "今世旁 经适房 1 0.6048205238177605\n",
      "想有 像又 1 0.7203992292722348\n",
      "大他 带她 1 0.6879456056004819\n",
      "都恛 度回 1 0.609938921458956\n",
      "己辩 已辨 1 0.6940157455735569\n",
      "穿他 传她 1 0.6695530564466037\n",
      "动的 懂得 1 0.6439294525084999\n",
      "未与 位于 1 0.6128005631475444\n",
      "茌具 在巨 1 0.6062575017417896\n",
      "曰黄 日荣 1 0.658058590466379\n",
      "王敏 汪民 1 0.6750728471053379\n",
      "裡一直 李义指 1 0.6747469563430591\n",
      "消咀 销阻 1 0.6030869342444622\n",
      "至在 致再 1 0.6435036674599947\n",
      "回会 会徽 1 0.666349809386204\n",
      "密实 秘史 1 0.6151161027898913\n",
      "萼誉 尊荣 1 0.6020137651590386\n",
      "誉譬 荣登 1 0.6149502076435001\n",
      "事扒扶 势趴伏 1 0.6114259653038681\n",
      "琳风 林峰 1 0.6326622363799194\n",
      "他由 她用 1 0.6658485466226038\n",
      "军迎合 运营和 1 0.7402009079214196\n",
      "他重 她从 1 0.6659079934336603\n",
      "他托 她拖 1 0.6630367579054456\n",
      "的会救 地绘就 1 0.7001542648256016\n",
      "有他 友她 1 0.6689881816234289\n",
      "有为 由伪 1 0.6164600328752889\n",
      "温吗 问妈 1 0.6576562254813334\n",
      "它在 她再 1 0.72339363868007\n",
      "一是 以十 1 0.6632677616060565\n",
      "事在认 是再任 1 0.7527258350179441\n",
      "何帆 和樊 1 0.6284421724456186\n",
      "邦他 帮她 1 0.6428907556490275\n",
      "徒留 途流 1 0.615829990005511\n",
      "署费宫 属非官 1 0.6245524120100494\n",
      "拖鞋 脱血 1 0.6043324400879063\n",
      "作时 做事 1 0.6722406700522746\n",
      "撂拖 摆脱 1 0.6355793821497355\n",
      "站在身 詹再生 1 0.6312709955503001\n",
      "舒固经 纾困金 1 0.6417122102160414\n",
      "坤霖 昆凌 1 0.7497288755275704\n",
      "没游学 莫有雪 1 0.679805777126824\n",
      "须纰 需披 1 0.6789757908939541\n",
      "誉莒 荣誉 1 0.7947658961453059\n",
      "旦恢 但诙 1 0.6089906294196363\n",
      "毓璜 玉皇 1 0.6621235685294915\n",
      "至茌 志在 1 0.651509187251909\n",
      "一却 已确 1 0.6088881108327121\n",
      "王科 汪柯 1 0.6643291989617609\n",
      "事业溶 视野融 1 0.6416784476235465\n",
      "果岩 郭焱 1 0.618437497133172\n",
      "古勒 骨乐 1 0.6434856584631948\n",
      "以吾 已无 1 0.6148725806795793\n",
      "追的 遭到 1 0.6334607509706199\n",
      "院园 园圆 1 0.726903363265672\n",
      "有一 又已 1 0.642610732475362\n",
      "景洪 京宏 1 0.6679678011276363\n",
      "李与 里予 1 0.606486163039907\n",
      "他孝 她笑 1 0.6057818572407829\n",
      "伟真 维臻 1 0.6300688963555766\n",
      "陆军 卢俊 1 0.7103015162682068\n",
      "桂玲 贵林 1 0.6289160058067332\n",
      "在鍊 再练 1 0.6351672222668189\n",
      "起佘 其余 1 0.6306841792544506\n",
      "子孪 字李 1 0.6042850035700087\n",
      "藩闪托 落伞拖 1 0.6555953717492434\n",
      "热闹 惹恼 1 0.6200817922536337\n",
      "榕彬 荣斌 1 0.7945385691065663\n",
      "时尚 史上 1 0.6069639166365338\n",
      "程晨 称陈 1 0.6171342350643334\n",
      "尺阳 炽扬 1 0.6127330959217492\n",
      "像刘 向柳 1 0.6254323311808685\n",
      "都焉蚑 多毛蜘 1 0.6440289271974468\n",
      "站的奠 占地建 1 0.644858510410005\n",
      "塶成功 绿城共 1 0.6088650824736267\n",
      "其他 奇她 1 0.6387111866559012\n",
      "座得 坐的 1 0.6846133129653987\n",
      "一尤 意犹 1 0.6232770195128533\n",
      "素以 苏宜 1 0.6171302581991678\n",
      "谜语 迷于 1 0.6344363844347723\n",
      "是茌 师在 1 0.6979074204805696\n",
      "卢植 鲁指 1 0.6076259767949077\n",
      "卖荬 买卖 1 0.8758054192461524\n",
      "瓢呼 飘忽 1 0.6013915180021948\n",
      "幽兰 优蓝 1 0.682507892147906\n",
      "塶的 绿地 1 0.7424947301898216\n",
      "寒食机 和实际 1 0.6490371186879688\n",
      "成线 呈现 1 0.6100192160635085\n",
      "债但认 续担任 1 0.6185189346520756\n",
      "孛茌市 丰在重 1 0.6394524277409079\n",
      "驭销定 取消订 1 0.6613534796976466\n",
      "官天 宫田 1 0.6368729815513626\n",
      "都的 独得 1 0.6527717441562604\n",
      "以近 已经 1 0.6173209634286533\n",
      "义致 意志 1 0.7047992159176825\n",
      "曰多接 日都见 1 0.7249144622385707\n",
      "时宣 事宜 1 0.6156929833447352\n",
      "临近 离京 1 0.6814242537369901\n",
      "需杂 须斩 1 0.6790092672365969\n",
      "砚山 燕珊 1 0.6131355699214428\n",
      "是做 视作 1 0.6320469433917609\n",
      "鄙视 彼时 1 0.6004383878969938\n",
      "比位置 必为之 1 0.626884266236459\n",
      "大头钉 太多点 1 0.6009948039578802\n",
      "到您 道你 1 0.6651669347053024\n",
      "生思 审死 1 0.6162267721537474\n",
      "入一 如意 1 0.6213248481923266\n",
      "然它重 让他从 1 0.6301793712454979\n",
      "威力 微利 1 0.7503932533464974\n",
      "捣吧 倒把 1 0.6268746116474753\n",
      "夜市问 叶诗文 1 0.6240793338700874\n",
      "吴小 武晓 1 0.6752154440689933\n",
      "的榕 德荣 1 0.6014002878632564\n",
      "遐厉 遣顾 1 0.6183564954719559\n",
      "莿胃 刺骨 1 0.6292024187468701\n",
      "砸红做 找工作 1 0.6295291565531653\n",
      "锐利 瑞丽 1 0.6197869169601854\n",
      "情他码 亲她吗 1 0.6767739538852232\n",
      "和滨 合并 1 0.6258177588505127\n",
      "合适 和试 1 0.6017284677664249\n",
      "及其 即启 1 0.6036807183235231\n",
      "以及 已极 1 0.6314381359309137\n",
      "天茌 夫在 1 0.6148765859171007\n",
      "醉中 最终 1 0.6104013089343703\n",
      "抢刀 强盗 1 0.6217007719778785\n",
      "澍姗 海珊 1 0.6453476038207352\n",
      "她已 他以 1 0.7011810739322483\n",
      "破林坤 婆凌昆 1 0.6953374829711392\n",
      "尚它 上她 1 0.6038756946894315\n",
      "祟相 景象 1 0.6025553336100842\n",
      "意与 异于 1 0.6901389249824986\n",
      "在市 再是 1 0.6091619953252424\n",
      "一亿 以一 1 0.6608690488927659\n",
      "无需 务须 1 0.7335431655157245\n",
      "权利 全力 1 0.6292184024022858\n",
      "造显 照相 1 0.6016709921147736\n",
      "尼玛 妮马 1 0.6932542923261592\n",
      "莫的 真地 1 0.7100449385464391\n",
      "厉就 历久 1 0.6279560618799243\n",
      "的石化 得施划 1 0.6531502030239712\n",
      "思雅 斯亚 1 0.6161691575534987\n",
      "风景 冯静 1 0.6401419926434824\n",
      "熹跟 景很 1 0.6226290874679414\n",
      "浠小 稀少 1 0.6445021210438522\n",
      "孛福 丰富 1 0.6335881081539259\n",
      "察兽 查鲁 1 0.6047895696005882\n",
      "还想 好像 1 0.7113124367863659\n",
      "江在 将再 1 0.616749845599737\n",
      "的心 得信 1 0.6543332083194401\n",
      "轻心 情形 1 0.6601153578523632\n",
      "雀盲 省省 1 0.1929280082228842\n",
      "丢咱平 去砸品 1 0.6605651833923993\n",
      "跟毛 哥茅 1 0.6017649118153519\n",
      "就的 旧地 1 0.6697659278912863\n",
      "他海 它还 1 0.6049714564841578\n",
      "亮怢 凉快 1 0.6278740910105234\n",
      "七部鎗 气步枪 1 0.6321595293975326\n",
      "昕锋 斯峰 1 0.6203970982074164\n",
      "阴历情 殷立勤 1 0.6720748144844573\n",
      "意思 隐私 1 0.6475271046185828\n",
      "华宝 环保 1 0.6247877211894007\n",
      "促曰可 逐日课 1 0.6651896805977883\n",
      "却仡 确信 1 0.6129071681691677\n",
      "买恛 卖回 1 0.7715228370533299\n",
      "影之一 引质疑 1 0.6308886615416476\n",
      "仕摆 杜拜 1 0.6643532201755212\n",
      "睛字 精子 1 0.6123746478968911\n",
      "源已 园以 1 0.6054300121828121\n",
      "队与 对于 1 0.6285854044633736\n",
      "昕薇 新维 1 0.615494872053808\n",
      "薇化 威华 1 0.6911627533761407\n",
      "展王 民主 1 0.6152868446397033\n",
      "澜问 兰文 1 0.61503033081882\n",
      "林候 临侯 1 0.7494417984110672\n",
      "的茌 得在 1 0.7761758902618656\n",
      "中知 终止 1 0.6465215732545657\n",
      "事菅 失事 1 0.6146167699889836\n",
      "利益 立意 1 0.6100923905251165\n",
      "线找 想赚 1 0.6178754548489895\n",
      "故事 过世 1 0.6225713595853306\n",
      "嘻霆 喀麦 1 0.6152094536945192\n",
      "严坤 延昆 1 0.6418559029897952\n",
      "他坐暸 她做了 1 0.6785807870785161\n",
      "李原 黎元 1 0.6412172783347446\n",
      "退订 推定 1 0.6683417172985722\n",
      "省佘 剩余 1 0.6204141973017169\n",
      "轩轩 宣萱 1 0.6622273883781364\n",
      "炼的 练得 1 0.627029486810539\n",
      "与已 予以 1 0.62763261720162\n",
      "牠门 它们 1 0.614277268396947\n",
      "换经费产 环境非常 1 0.6518616744817045\n",
      "的以 得已 1 0.6671372661054715\n",
      "与郭 于国 1 0.6021869628613299\n",
      "远蒽 愿意 1 0.6184374771026239\n",
      "熹意 善逸 1 0.6707159269364319\n",
      "今世方 经适房 1 0.6151469338692613\n",
      "的坐 地走 1 0.704409835274081\n",
      "他嘴 她最 1 0.6805718266038842\n",
      "螯类 类似 1 0.7343466672279123\n",
      "尉氏 卫视 1 0.6006049759801199\n",
      "罗浮 鲁夫 1 0.6216853135934521\n",
      "她理 他离 1 0.6296701089417046\n",
      "对再 队在 1 0.6006964083436745\n",
      "即末 既未 1 0.617887676061927\n",
      "一再覆 意在复 1 0.6763423179200273\n",
      "再处 在去 1 0.6845634612557149\n",
      "一再咕 疑在苦 1 0.6209915777745799\n",
      "房而以 方面已 1 0.6864823196691971\n",
      "獒类 类似 1 0.6501323005162188\n",
      "唁麻 怎么 1 0.6320329338716077\n",
      "官的 管得 1 0.6295059290339868\n",
      "话意 华亦 1 0.6090774230503923\n",
      "器和 其合 1 0.6055411489834336\n",
      "在已 再以 1 0.6951848038057666\n",
      "淑洋 舒扬 1 0.614671574801235\n",
      "作法 做好 1 0.6307010553101672\n",
      "他跟 它更 1 0.6603385059061356\n",
      "景怳 情况 1 0.6802665192376977\n",
      "韩寒 涵涵 1 0.6016165869875557\n",
      "音想 影响 1 0.6281470711398904\n",
      "萱练 璇连 1 0.6078763926336059\n",
      "熹洁 嘉浩 1 0.7898967081878809\n",
      "施拖 实施 1 0.7803728829221871\n",
      "在做 再坐 1 0.667846349231411\n",
      "上的 生得 1 0.6058129381843707\n",
      "于极 与几 1 0.6295556554922781\n",
      "小只 少支 1 0.6401951929590474\n",
      "依医治 以抑制 1 0.6366476653616493\n",
      "将李 姜丽 1 0.6378158849904061\n",
      "其实 且十 1 0.6871625359972329\n",
      "金林 婧琳 1 0.6316319188807473\n",
      "鉴宝 健保 1 0.6003547786483562\n",
      "质的 值得 1 0.6044724394904224\n",
      "三个 生的 1 0.6811591732110714\n",
      "忍恕 忿怒 1 0.6250099862953814\n",
      "已茌 己在 1 0.7445822359038802\n",
      "失他 是它 1 0.6247171312667206\n",
      "多名摹 朵明葛 1 0.6338307731187828\n",
      "是师 师尸 1 0.7447880877017943\n",
      "而出 二处 1 0.6142775803579591\n",
      "绍并 少斌 1 0.6078550389632413\n",
      "转得 传的 1 0.6058634665729273\n",
      "昧的 味地 1 0.6617135955639305\n",
      "妍希 颜溪 1 0.6957165803264852\n",
      "注意 逐一 1 0.6005844892742626\n",
      "时茌 实在 1 0.7540286796378545\n",
      "身一世 生亦是 1 0.7202029851940074\n",
      "木清 牧青 1 0.6952226073743493\n",
      "于豪 与美 1 0.6355741484872972\n",
      "刀强 力骚 1 0.6013907318301881\n",
      "那孛微 拿李维 1 0.665958851812802\n",
      "多教他 都叫她 1 0.7529290386964079\n",
      "它它还 他她换 1 0.643511992254038\n",
      "焣再 聚在 1 0.6615472636470549\n",
      "嘉新 家欣 1 0.6847869322259444\n",
      "有一 又以 1 0.6492552561398149\n",
      "家毫欲 佳豪却 1 0.6485902193721196\n",
      "七月 期约 1 0.6129964136672236\n",
      "之前那 致歉拿 1 0.6096542200996643\n",
      "託而 托儿 1 0.6045482448345548\n",
      "得近 地进 1 0.6244134399433249\n",
      "这平易 者便宜 1 0.6950016070857391\n",
      "胡椒 糊焦 1 0.603700717393363\n",
      "后轫 候车 1 0.6231629074133002\n",
      "的事 得失 1 0.6075564071652083\n",
      "历程 李晨 1 0.670145658838374\n",
      "方的 放得 1 0.6065546948758029\n",
      "挚为 志伟 1 0.6057698181961059\n",
      "路祁 陆骑 1 0.639310125720067\n",
      "晖风 辉峰 1 0.6422646291433567\n",
      "晓得 小的 1 0.6208369471263934\n",
      "通钢 铜缸 1 0.6146819515843822\n",
      "茌前 在钱 1 0.6133224228670154\n",
      "得个 的各 1 0.6368239360418129\n",
      "靖才恛 进财回 1 0.6335265031471111\n",
      "的找 得赚 1 0.664180559892708\n",
      "急需 亟须 1 0.6661513367289068\n",
      "都察 督查 1 0.6340713348261637\n",
      "杰夫 捷孚 1 0.683214393980294\n",
      "它是 她十 1 0.6018798263316455\n",
      "做哩 作里 1 0.6642997373914981\n",
      "力科学 立刻续 1 0.6198413108928227\n",
      "只知 知之 1 0.7826023451589145\n",
      "察麾 查摩 1 0.6669960497905564\n",
      "比承付 必成富 1 0.6326534399091444\n",
      "池子 赤字 1 0.6009000513491413\n",
      "而都 二度 1 0.6098489205700556\n",
      "待鎗 持枪 1 0.601981353070432\n",
      "在这 再者 1 0.6637983335106281\n",
      "带卓馒 戴着满 1 0.6119057474704929\n",
      "者马 著吗 1 0.6414037332055209\n",
      "完的 玩得 1 0.6881267115816145\n",
      "一再 疑在 1 0.6209717607418727\n",
      "以想 意向 1 0.6398803589113872\n",
      "照鲅 超然 1 0.6124198293876251\n",
      "莉莉 丽丽 1 0.7395446881619224\n",
      "和肖 何小 1 0.636077971571243\n",
      "家林 嘉琳 1 0.6102979908229541\n",
      "可在 科再 1 0.6051181952907687\n",
      "朦胧 蒙眬 1 0.6372357501022313\n",
      "菲他 霏她 1 0.6755875886152124\n",
      "仡伯 信仰 1 0.6209303413379276\n",
      "宝马 包茂 1 0.6034804863455006\n",
      "晓斌 小彬 1 0.7408643010508398\n",
      "香霖 祥林 1 0.6564384876335582\n",
      "岩希 闫西 1 0.6335171581723346\n",
      "有一 又益 1 0.6098045642369772\n",
      "中意 终以 1 0.6359067138601859\n",
      "益与 意欲 1 0.6085727217398528\n",
      "郑想 政像 1 0.6498483380010379\n",
      "有胯 右膝 1 0.6718910809450014\n",
      "有到 又倒 1 0.6225742670986183\n",
      "橱余 厨馀 1 0.7001781941252354\n",
      "它想 她向 1 0.6349609806731824\n",
      "乘茌 趁在 1 0.6005365906662887\n",
      "直搜 查理 1 0.6884954532114813\n",
      "福与 富裕 1 0.6297953199639684\n",
      "式吧 是搬 1 0.6176129286605029\n",
      "合唱父系 和常复习 1 0.670308335260207\n",
      "淑玲 书伶 1 0.6451437572798835\n",
      "最他 追她 1 0.6236671077057696\n",
      "华连 花莲 1 0.6203679436622317\n",
      "跋的 拔得 1 0.6114599408873954\n",
      "奕遣 亦谴 1 0.7109488948988434\n",
      "生的 深得 1 0.6099463483593494\n",
      "兽昕间 鲁斯柯 1 0.6046297891872593\n",
      "流程 刘成 1 0.6031763762000721\n",
      "燕飞 妍斐 1 0.6992584572266812\n",
      "努华为 女环卫 1 0.6670529389888425\n",
      "逼的 比得 1 0.63602749340648\n",
      "景洪 井宏 1 0.6720460985086003\n",
      "在一 再以 1 0.6936478249058635\n",
      "地浅 底潜 1 0.6007547907493018\n",
      "类忽 似乎 1 0.6008033344842351\n",
      "故意 古一 1 0.6217938490740413\n",
      "已经溶 以金融 1 0.6125530427714798\n",
      "庆尚 钦上 1 0.6598715685300367\n",
      "印嚮励 影响力 1 0.6863775141673538\n",
      "芦荟 陆慧 1 0.6034858080976531\n",
      "与的 遇得 1 0.6305511804885138\n",
      "堇说古 童话故 1 0.6918958633610606\n",
      "一汇 以惠 1 0.6102046706104232\n",
      "伏羲 福熙 1 0.6491752278985873\n",
      "敏捷 铭杰 1 0.7675298764201176\n",
      "尽的 禁地 1 0.6086272578038813\n",
      "一再 亦在 1 0.6741141697956313\n",
      "昐莫 盼其 1 0.6165384073734714\n",
      "直扎蚑 只炸蜘 1 0.6804710581744658\n",
      "住仨 居住 1 0.6762965620626332\n",
      "吉官 故宫 1 0.6536898135300282\n",
      "大杨 太阳 1 0.6412095386051461\n",
      "带卓 戴着 1 0.606002794598055\n",
      "失后 时候 1 0.6110268524603268\n",
      "意物 义务 1 0.6152534348611537\n",
      "己固 已故 1 0.6230346335762648\n",
      "徙不坐 徒步走 1 0.6561447224020984\n",
      "鹦鹉 应无 1 0.17059083705344785\n",
      "事侯 时候 1 0.6065396440502248\n",
      "那又 哪有 1 0.7299915128864612\n",
      "坭茌 妮在 1 0.6786620401090825\n",
      "大兴 打新 1 0.6051545149773756\n",
      "的年找 地念著 1 0.6425923801713249\n",
      "是一 时疑 1 0.6267317694358943\n",
      "立与 位于 1 0.6447934450461221\n",
      "是指 时止 1 0.600541045443692\n",
      "押的 压得 1 0.6502175356551148\n",
      "雨桐 禹潼 1 0.6033219023944164\n",
      "翻公天 番工夫 1 0.6460205893734569\n",
      "啊蹋得 安踏的 1 0.6776925359688866\n",
      "那只 哪知 1 0.6359513003531001\n",
      "不是 步时 1 0.6160837979180969\n",
      "呐敦 纳教 1 0.6032960818047346\n",
      "事它 是她 1 0.7128340388476577\n",
      "包与 抱于 1 0.6177419679522691\n",
      "大的 打得 1 0.6598266298734842\n",
      "空只资鸡 控制自己 1 0.6918452392080431\n",
      "复印 福音 1 0.6022683905400936\n",
      "配她 陪他 1 0.610480143205892\n",
      "一世 亦是 1 0.6363323516258818\n",
      "敌迸 激进 1 0.682487518853268\n",
      "呕意励 有毅力 1 0.664040300489016\n",
      "应他 因它 1 0.6589428157872879\n",
      "位于 蔚与 1 0.6236101532897869\n",
      "幸茌 辛在 1 0.6342118665628619\n",
      "玩郑 王振 1 0.6595698237361997\n",
      "智利 致力 1 0.6049077057206392\n",
      "捍多的 悍夺得 1 0.6887986654353442\n",
      "吗赵 马朝 1 0.6468792633503744\n",
      "的留 地流 1 0.6106717791818657\n",
      "托打 拖倒 1 0.6490187274642895\n",
      "神马 什么 1 0.6329003893807664\n",
      "房毁 反悔 1 0.6091182097668262\n",
      "雨乌 语呜 1 0.6239519782433102\n",
      "请茌 希在 1 0.663410664151475\n",
      "炜玲 伟领 1 0.6451207975374719\n",
      "只支 支至 1 0.7756706907624431\n",
      "徐新 许昕 1 0.7248034171673376\n",
      "天夕 田希 1 0.6082102504211279\n",
      "相像 现象 1 0.6600476214762668\n",
      "锐意 瑞怡 1 0.6733772367363144\n",
      "再生 在声 1 0.6318920502696707\n",
      "影昝 引咎 1 0.6094948862567194\n",
      "溜者 留著 1 0.6137572487430583\n",
      "异议 意义 1 0.6089769298786886\n",
      "楠与 南于 1 0.637276854384816\n",
      "碪蔡 堪察 1 0.6132302030413269\n",
      "是燕 石艳 1 0.6312112244470277\n",
      "冥扇 具煽 1 0.6411537612441172\n",
      "睛却 精确 1 0.6114397389455732\n",
      "何做 合作 1 0.6428141107722252\n",
      "遍的 变得 1 0.6378280086448194\n",
      "影的房 引得坊 1 0.6915577411907322\n",
      "可汽 客气 1 0.610491552138105\n",
      "怕买 拍卖 1 0.6875386480925925\n",
      "嫌的 显得 1 0.6845795086667589\n",
      "长今 常近 1 0.6217239588654869\n",
      "是的 试得 1 0.6271283047286389\n",
      "位于 未与 1 0.6128005631475444\n",
      "二盅 三盘 1 0.7375520086429402\n",
      "是以 时已 1 0.6468619317024225\n",
      "像柜 象相 1 0.6205127095016385\n",
      "承熙 成羲 1 0.656140854484019\n",
      "茌贩 在叛 1 0.6259652386714962\n",
      "砀洁 场浩 1 0.6155245411964978\n",
      "理去 里法 1 0.6268487545927416\n",
      "球求 求球 1 1.0\n",
      "形换氢 型环氧 1 0.7460481721748643\n",
      "和愤 很满 1 0.6027393736892943\n",
      "伟文 玮雯 1 0.640953193556072\n",
      "江与 将于 1 0.6518573524417467\n",
      "晓宇 潇雨 1 0.7015806200306653\n",
      "自制 子至 1 0.650788309855653\n",
      "叫他 教她 1 0.668767770351173\n",
      "同意官 统一管 1 0.658815298487095\n",
      "他认 她忍 1 0.7000636857501017\n",
      "汊己 汉已 1 0.6317351923950462\n",
      "部做 不作 1 0.664091999544705\n",
      "栗莫 果某 1 0.609542397242517\n",
      "汊莫 汉默 1 0.7420238377258817\n",
      "得坐 地做 1 0.6235498460607253\n",
      "金凌 荆林 1 0.810849161329266\n",
      "旱卖 早买 1 0.6465551960566988\n",
      "京铭 金明 1 0.6428321902720268\n",
      "洪大 宏带 1 0.6553554385930841\n",
      "收视频 受食品 1 0.6054584525352668\n",
      "乱那 论哪 1 0.6545700229447851\n",
      "睛跳 精挑 1 0.6134623589635826\n",
      "下雨姓 夏语心 1 0.6526298169164758\n",
      "睛兴 精心 1 0.6081753222129177\n",
      "了嘴号 得最好 1 0.6315323645492152\n",
      "加满 减码 1 0.6662249967311228\n",
      "周只 月止 1 0.6249266305862085\n",
      "得卖 的买 1 0.7968820324122703\n",
      "他迁 她前 1 0.6062883121986994\n",
      "有只 又直 1 0.6106455845294745\n",
      "劈洹决 导拒绝 1 0.6033764307566536\n",
      "爬她 怕他 1 0.6956675949172696\n",
      "繁荣 樊茸 1 0.6341566376931438\n",
      "程序 陈旭 1 0.6157145204483745\n",
      "亚琳 雅林 1 0.7555229517213405\n",
      "匆现在 冲线再 1 0.6130671059297826\n",
      "一的驱 异地取 1 0.6803292093913785\n",
      "进那 仅拿 1 0.6149886468895174\n",
      "方再 放在 1 0.667779235073158\n",
      "实由 是优 1 0.6372593588378458\n",
      "治做 制作 1 0.6336720865443104\n",
      "在像 再向 1 0.6953367747205417\n",
      "啬意 意义 1 0.8207417648517252\n",
      "经曰真 金日正 1 0.6382366982590009\n",
      "锐方 瑞芳 1 0.636196007855636\n",
      "踹莫 瑞默 1 0.6025538764002635\n",
      "所食据 说是拘 1 0.693397733032476\n",
      "须影 需引 1 0.6835804175786167\n",
      "是署 市属 1 0.6138496763357739\n",
      "和做 禾作 1 0.6094849944697429\n",
      "併长 平常 1 0.6273343946131631\n",
      "晨曦 辰昕 1 0.7070985838858767\n",
      "琐芯 锁心 1 0.6332105797649474\n",
      "盒子征 合资证 1 0.6011598558799824\n",
      "王健 汪建 1 0.6072257379512233\n",
      "真的 其个 1 0.7228362342411799\n",
      "临泽 琳则 1 0.6340893384011919\n",
      "资源 子原 1 0.6030936300595212\n",
      "他得 它的 1 0.7145232695551208\n",
      "军窒 准军 1 0.6352195079897405\n",
      "卖手 买售 1 0.7116677662084755\n",
      "壑蒙 繁荣 1 0.6340415869732248\n",
      "危郾 威廉 1 0.6187534264520876\n",
      "壶地领 显得紧 1 0.6376203581155507\n",
      "还清而 环境和 1 0.6529103568391783\n",
      "幕他 慕她 1 0.6930391048490407\n",
      "那一 难以 1 0.6110952763933064\n",
      "窖坐楷 客座指 1 0.6084995291047735\n",
      "湄洲 眉州 1 0.6076058803174184\n",
      "杨志 阳致 1 0.6101757165072692\n",
      "懂董 得懂 1 0.7306530005234129\n",
      "很拽 狠抓 1 0.621065140853123\n",
      "它长 他常 1 0.6206529114408808\n",
      "实施 史实 1 0.7059239228548125\n",
      "过田 郭甜 1 0.6445668396001941\n",
      "碪程 堪承 1 0.6264860815922536\n",
      "宸桓 慕卓 1 0.6014872880075308\n",
      "京与 靖于 1 0.6645812160853254\n",
      "宫骨 官古 1 0.6264309816887021\n",
      "有也 又一 1 0.7380744769896463\n",
      "徐伟 许玮 1 0.7745414872715427\n",
      "马泽伴 玛则扮 1 0.6207351143294817\n",
      "带窦 戴奥 1 0.6005294598181132\n",
      "卢勇 鲁永 1 0.7297370775045319\n",
      "艺想 一享 1 0.607825662472765\n",
      "买为 卖未 1 0.6562215733195013\n",
      "吧出 把去 1 0.6660016199921553\n",
      "载于 在与 1 0.6433746395818211\n",
      "近义 敬意 1 0.6212428654928526\n",
      "又以 有一 1 0.6492552561398149\n",
      "众鑫 中兴 1 0.6349674197272912\n",
      "了螟 得票 1 0.629252040840623\n",
      "珊珊 莎莎 1 0.7500347038564952\n",
      "兰和 拉赫 1 0.6321508259142891\n",
      "想在们 像再没 1 0.7630353400070776\n",
      "虹与 洪玉 1 0.6134029985310606\n",
      "颜勇 闫永 1 0.7170161978035807\n",
      "小杰 晓洁 1 0.6276057568575264\n",
      "祥社 翔摄 1 0.6140708803321738\n",
      "砸决 破解 1 0.6200922507364622\n",
      "长呆 常待 1 0.6699888179717445\n",
      "必须 比需 1 0.6449235239438016\n",
      "作为 做委 1 0.6313455006838905\n",
      "缚生 缠身 1 0.6490294667003549\n",
      "得画 的话 1 0.6284506412030365\n",
      "很座 跟坐 1 0.6160014999534801\n",
      "逅卖 孟买 1 0.6157586751825571\n",
      "阿那又 啊哪有 1 0.7744102991119206\n",
      "也一 业已 1 0.6125220291990398\n",
      "濡亨茌 蒲亭在 1 0.6313092986838608\n",
      "譬磊 登希 1 0.6408632311368693\n",
      "衣领坐 依林做 1 0.6099560938457773\n",
      "余子 馀字 1 0.6288382553349827\n",
      "由莫 尤其 1 0.6450784862893806\n",
      "攒押 掼压 1 0.6149457864252973\n",
      "另她 令他 1 0.6724886239300294\n",
      "棘麻 甚么 1 0.6445109516368815\n",
      "讲丽 蒋黎 1 0.6044968800303459\n",
      "直的 值得 1 0.6492112710075767\n",
      "刘慧队 柳辉对 1 0.7294065638993991\n",
      "合协 和谐 1 0.6526853776697041\n",
      "伯洛 柏格 1 0.6594583238075429\n",
      "大荣 但融 1 0.6218319106960286\n",
      "倒地 到底 1 0.6053163762314503\n",
      "是的 十个 1 0.6835967690666372\n",
      "但是 当时 1 0.6867108229842841\n",
      "靡滔 摩洛 1 0.6051759763378334\n",
      "逞那 是哪 1 0.6248240279670593\n",
      "侣思 相识 1 0.6068106897336684\n",
      "徐兴 许姓 1 0.7061510335122978\n",
      "雅克 亚柯 1 0.6979819582318345\n",
      "做部 作不 1 0.664091999544705\n",
      "其实 七是 1 0.6407417721183649\n",
      "哪嘛 那么 1 0.7112806943040345\n",
      "佳宇 嘉馀 1 0.6145954789381256\n",
      "相他 像她 1 0.6708172529327655\n",
      "的一 得益 1 0.6065387771943939\n",
      "曰聚 日俱 1 0.6380950864959338\n",
      "嘉辉 家慧 1 0.6188753503668871\n",
      "强的 抢得 1 0.624472278071247\n",
      "届介 界届 1 0.8299721549515938\n",
      "丘陵 秋玲 1 0.6329025483410808\n",
      "于就 与旧 1 0.6172739206212888\n",
      "之拨 诸波 1 0.6050299394064879\n",
      "军吗 准妈 1 0.6005241688326325\n",
      "天使 添是 1 0.6002130659525057\n",
      "需肩 须清 1 0.6552763739930391\n",
      "而出 二初 1 0.6484001072846783\n",
      "他在 它再 1 0.7064689011251996\n",
      "说一 话医 1 0.6262757157198876\n",
      "台我 太过 1 0.6046516139125561\n",
      "事实 实施 1 0.734617177511245\n",
      "何的 合得 1 0.6208506530467888\n",
      "以及 已集 1 0.6262924693299203\n",
      "收恬静 受田径 1 0.6364682215327125\n",
      "他变依 她便以 1 0.6830430081176404\n",
      "茜茜 倩倩 1 0.6696064272013019\n",
      "好邵 郝少 1 0.7276358168182506\n",
      "即宜 及一 1 0.6643808500533411\n",
      "圾鸡 垃圾 1 0.7850743189704854\n",
      "语这 与蔗 1 0.6015746645508225\n",
      "其他 且它 1 0.7698026275512965\n",
      "再益 在意 1 0.6652242234073231\n",
      "奋赭 愤懑 1 0.607372534400065\n",
      "欲一 却已 1 0.6038776873697622\n",
      "找昐 我盼 1 0.6371836062016094\n",
      "对于 队与 1 0.6285854044633736\n",
      "同乐 痛了 1 0.6065917905988057\n",
      "交放 缴房 1 0.6288767336564619\n",
      "依兰 伊朗 1 0.7204429114381784\n",
      "的硬 得银 1 0.6071764963823719\n",
      "知道贞 执导的 1 0.6067821785826805\n",
      "吴阳 武杨 1 0.787368493686855\n",
      "蚑侏 蜘蛛 1 0.7540016164331708\n",
      "留茌 流在 1 0.6034981166952803\n",
      "的活 得火 1 0.647288711140824\n"
     ]
    }
   ],
   "source": [
    "faulty_sim_scores = []\n",
    "\n",
    "for l in pairs_multi_train:\n",
    "    w1, w2, count = l.split('\\t')\n",
    "    cos_sim = cosine_similarity(tok2emb[w1], tok2emb[w2])\n",
    "    faulty_sim_scores.append(cos_sim)\n",
    "    if cos_sim > 0.6 or cos_sim < 0.2:\n",
    "        print(w1, w2, count, cos_sim)  \n"
   ]
  },
  {
   "cell_type": "code",
   "execution_count": 109,
   "id": "secure-chapter",
   "metadata": {},
   "outputs": [
    {
     "data": {
      "text/plain": [
       "8478"
      ]
     },
     "execution_count": 109,
     "metadata": {},
     "output_type": "execute_result"
    }
   ],
   "source": [
    "len(faulty_sim_scores)"
   ]
  },
  {
   "cell_type": "code",
   "execution_count": 77,
   "id": "liked-twelve",
   "metadata": {},
   "outputs": [
    {
     "name": "stderr",
     "output_type": "stream",
     "text": [
      "No handles with labels found to put in legend.\n"
     ]
    },
    {
     "data": {
      "image/png": "[encoded data removed]",
      "text/plain": [
       "<Figure size 1224x360 with 1 Axes>"
      ]
     },
     "metadata": {
      "needs_background": "light"
     },
     "output_type": "display_data"
    }
   ],
   "source": [
    "import numpy as np\n",
    "import matplotlib.pyplot as plt\n",
    "plt.figure(figsize=(17, 5))\n",
    "\n",
    "# plt.plot(scores, [1 for _ in scores], \"bo\")\n",
    "plt.hist(same_pair_scores, bins=18, density=True, histtype='stepfilled', alpha=0.6)  # blue\n",
    "plt.axvline(0.2, color=\"red\")\n",
    "plt.axvline(0.5, color=\"red\")\n",
    "plt.axvline(0.8, color=\"red\")\n",
    "plt.hist(csc_faulty_sim_scores, bins=18, density=True, histtype='stepfilled', alpha=0.4)  # orange\n",
    "\n",
    "plt.hist(faulty_sim_scores, bins=120, density=True, histtype='stepfilled', alpha=0.4)  # green\n",
    "# plt.plot(faulty_sim_scores, [0 for _ in faulty_sim_scores], \"ro\")\n",
    "plt.axhline(1, color=\"green\")\n",
    "plt.legend()\n",
    "plt.show()"
   ]
  },
  {
   "cell_type": "markdown",
   "id": "olympic-context",
   "metadata": {},
   "source": [
    "### Confusor 测试"
   ]
  },
  {
   "cell_type": "code",
   "execution_count": 1,
   "id": "fundamental-summit",
   "metadata": {},
   "outputs": [],
   "source": [
    "# 混淆集生成组件\n",
    "import os\n",
    "import sys\n",
    "os.environ['CUDA_VISIBLE_DEVICES'] = '0'\n",
    "sys.path.append('/home/chendian/BBCM/')\n",
    "from bbcm.data.loaders.confusor import Confusor"
   ]
  },
  {
   "cell_type": "code",
   "execution_count": 2,
   "id": "exciting-bangladesh",
   "metadata": {},
   "outputs": [
    {
     "name": "stdout",
     "output_type": "stream",
     "text": [
      "Use beam method.\n",
      "Pinyin sampling mode: special.\n",
      "Token sampling mode: sort.\n",
      "Now loading pinyin2token corpus.\n",
      "Now loading zi_sim_matrix.\n",
      "Now loading REDscore.\n",
      "Now generating score matrix.\n",
      "Load word freuency data.\n"
     ]
    }
   ],
   "source": [
    "conf = Confusor(\n",
    "    cand_pinyin_num=10, cos_threshold=(0., 0.5), \n",
    "    method='beam', token_sample_mode='sort', pinyin_sample_mode='special', \n",
    "    weight=[1, 0.33, 1], conf_size=30, debug=False)\n",
    "\n",
    "a = conf('短期')"
   ]
  },
  {
   "cell_type": "code",
   "execution_count": 2,
   "id": "herbal-disposition",
   "metadata": {},
   "outputs": [
    {
     "name": "stdout",
     "output_type": "stream",
     "text": [
      "Use beam method.\n",
      "Pinyin sampling mode: special.\n",
      "Token sampling mode: sort.\n",
      "Now loading pinyin2token corpus.\n",
      "Now loading zi_sim_matrix.\n",
      "Now loading REDscore.\n",
      "Now generating score matrix.\n",
      "Load word freuency data.\n"
     ]
    }
   ],
   "source": [
    "conf = Confusor(\n",
    "    cand_pinyin_num=10, cos_threshold=(0.2, 0.6), \n",
    "    method='beam', token_sample_mode='sort', pinyin_sample_mode='special', \n",
    "    weight=[1, 0.33, 1], conf_size=30, debug=False)\n",
    "\n",
    "b = conf('短期')"
   ]
  },
  {
   "cell_type": "code",
   "execution_count": 31,
   "id": "responsible-vienna",
   "metadata": {},
   "outputs": [
    {
     "name": "stdout",
     "output_type": "stream",
     "text": [
      "Use two-stage method.\n",
      "Pinyin sampling mode: special.\n",
      "Token sampling mode: sort.\n",
      "Now loading pinyin2token corpus.\n",
      "Now loading fzimu2pinyin corpus.\n",
      "Now loading REDscore.\n",
      "Now loading fzimuREDscore.\n",
      "Now generating score matrix.\n",
      "Load word freuency data.\n"
     ]
    }
   ],
   "source": [
    "conf = Confusor(\n",
    "    cand_pinyin_num=20, cos_threshold=(0.2, 0.5), \n",
    "    method='two-stage', token_sample_mode='sort', pinyin_sample_mode='special', \n",
    "    weight=[1, 0., 1], conf_size=30, debug=False)\n",
    "\n",
    "c = conf('短期')"
   ]
  },
  {
   "cell_type": "code",
   "execution_count": 3,
   "id": "corrected-plumbing",
   "metadata": {},
   "outputs": [
    {
     "name": "stdout",
     "output_type": "stream",
     "text": [
      "Use beam method.\n",
      "Pinyin sampling mode: special.\n",
      "Token sampling mode: sort.\n",
      "Now loading pinyin2token corpus.\n",
      "Now loading zi_sim_matrix.\n",
      "Now loading REDscore.\n",
      "Now generating score matrix.\n",
      "Load word freuency data.\n"
     ]
    }
   ],
   "source": [
    "conf = Confusor(\n",
    "    cand_pinyin_num=25, cos_threshold=(0.2, 0.6), \n",
    "    method='beam', token_sample_mode='sort', pinyin_sample_mode='special', \n",
    "    weight=[1, 0.33, 1], conf_size=40, debug=False)\n",
    "\n",
    "d = conf('短期')"
   ]
  },
  {
   "cell_type": "code",
   "execution_count": 32,
   "id": "viral-remedy",
   "metadata": {},
   "outputs": [
    {
     "data": {
      "text/plain": [
       "[('远期', '电气', '远期'),\n",
       " ('电气', '电器', '电气'),\n",
       " ('电器', '电企', '电器'),\n",
       " ('断期', '断期', '断期'),\n",
       " ('电企', '窗期', '电企'),\n",
       " ('端期', '创企', '端期'),\n",
       " ('短钱', '单期', '短钱'),\n",
       " ('双歧', '元气', '缓期'),\n",
       " ('算期', '段齐', '换期'),\n",
       " ('元气', '端期', '双歧'),\n",
       " ('双岐', '双歧', '算期'),\n",
       " ('算起', '算其', '元气'),\n",
       " ('单期', '算起', '关期'),\n",
       " ('段齐', '创启', '双岐'),\n",
       " ('算其', '全期', '算起'),\n",
       " ('远器', '创旗', '单期'),\n",
       " ('单戚', '双岐', '全期'),\n",
       " ('淡其', '创期', '段齐'),\n",
       " ('原期', '观其', '算其'),\n",
       " ('远启', '关期', '管期'),\n",
       " ('源期', '滇企', '劝戚'),\n",
       " ('滇企', '殿奇', '远器'),\n",
       " ('单栖', '算期', '单戚'),\n",
       " ('殿奇', '双启', '乱期'),\n",
       " ('单琪', '短钱', '官期'),\n",
       " ('袁妻', '丹气', '淡其'),\n",
       " ('双启', '旦起', '原期'),\n",
       " ('袁齐', '单戚', '远启'),\n",
       " ('元炁', '单栖', '观其'),\n",
       " ('源七', '单琪', '官岐')]"
      ]
     },
     "execution_count": 32,
     "metadata": {},
     "output_type": "execute_result"
    }
   ],
   "source": [
    "list(zip(b, c, d))"
   ]
  },
  {
   "cell_type": "markdown",
   "id": "pretty-cathedral",
   "metadata": {},
   "source": [
    "### 平均分配待增强词至句子\n",
    "> see `generate_augmented_samples.ipynb`"
   ]
  },
  {
   "cell_type": "code",
   "execution_count": 43,
   "id": "solid-march",
   "metadata": {},
   "outputs": [],
   "source": [
    "from dataclasses import dataclass\n",
    "from queue import PriorityQueue\n",
    "\n",
    "@dataclass\n",
    "class sample_item(object):\n",
    "    idx: int\n",
    "    sids: list\n",
    "            \n",
    "    def __lt__(self, rhs):\n",
    "        return len(self.sids) < len(rhs.sids)\n",
    "    \n",
    "    def __gt__(self, rhs):\n",
    "        return len(self.sids) > len(rhs.sids)\n",
    "    \n",
    "    def __le__(self, rhs):\n",
    "        return len(self.sids) <= len(rhs.sids)\n",
    "    \n",
    "    def __ge__(self, rhs):\n",
    "        return len(self.sids) >= len(rhs.sids)\n",
    "    \n",
    "    def __ne__(self, rhs):\n",
    "        return len(self.sids) != len(rhs.sids)\n",
    "    \n",
    "    def __eq__(self, rhs):\n",
    "        return len(self.sids) == len(rhs.sids)\n"
   ]
  },
  {
   "cell_type": "code",
   "execution_count": 35,
   "id": "official-privilege",
   "metadata": {},
   "outputs": [
    {
     "data": {
      "text/plain": [
       "dict_items([(2, 2), (3, 1), (4, 3)])"
      ]
     },
     "execution_count": 35,
     "metadata": {},
     "output_type": "execute_result"
    }
   ],
   "source": [
    "from collections import defaultdict, Counter\n",
    "Counter([2,2,3,4,4,4]).items()"
   ]
  },
  {
   "cell_type": "code",
   "execution_count": 8,
   "id": "fantastic-majority",
   "metadata": {},
   "outputs": [
    {
     "name": "stderr",
     "output_type": "stream",
     "text": [
      "  1%|▍                                                                            | 755/146219 [02:08<4:41:28,  8.61it/s]"
     ]
    },
    {
     "name": "stdout",
     "output_type": "stream",
     "text": [
      "new pinyin: me, update zi_sim_matrix\n",
      "new pinyin: me, update ziREDscore\n",
      "save new zi_sim_matrix to path: /data/chendian//tencent_embedding/zi_sim_matrix.pkl\n",
      "Complete ziREDscore either. Save new ziREDscore to path: /data/chendian//tencent_embedding/ziREDscore.pkl\n"
     ]
    },
    {
     "name": "stderr",
     "output_type": "stream",
     "text": [
      " 14%|██████████▏                                                                | 19964/146219 [54:14<3:36:59,  9.70it/s]"
     ]
    },
    {
     "name": "stdout",
     "output_type": "stream",
     "text": [
      "new pinyin: dei, update zi_sim_matrix\n",
      "new pinyin: dei, update ziREDscore\n",
      "save new zi_sim_matrix to path: /data/chendian//tencent_embedding/zi_sim_matrix.pkl\n",
      "Complete ziREDscore either. Save new ziREDscore to path: /data/chendian//tencent_embedding/ziREDscore.pkl\n"
     ]
    },
    {
     "name": "stderr",
     "output_type": "stream",
     "text": [
      " 78%|█████████████████████████████████████████████████████████▋                | 113957/146219 [4:22:19<42:15, 12.73it/s]"
     ]
    },
    {
     "name": "stdout",
     "output_type": "stream",
     "text": [
      "new pinyin: den, update zi_sim_matrix\n",
      "new pinyin: den, update ziREDscore\n",
      "save new zi_sim_matrix to path: /data/chendian//tencent_embedding/zi_sim_matrix.pkl\n",
      "Complete ziREDscore either. Save new ziREDscore to path: /data/chendian//tencent_embedding/ziREDscore.pkl\n"
     ]
    },
    {
     "name": "stderr",
     "output_type": "stream",
     "text": [
      "100%|██████████████████████████████████████████████████████████████████████████| 146219/146219 [5:15:31<00:00,  7.72it/s]\n"
     ]
    },
    {
     "data": {
      "text/plain": [
       "True"
      ]
     },
     "execution_count": 8,
     "metadata": {},
     "output_type": "execute_result"
    }
   ],
   "source": [
    "# pq = PriorityQueue()\n",
    "# for idx, s in tqdm(enumerate(samples_train)):\n",
    "#     pq.put(sample_item(idx=s['id'], sids=[]))\n",
    "\n",
    "max_conf_count = 40\n",
    "from collections import defaultdict, Counter\n",
    "sentence_get_words = defaultdict(list)\n",
    "words_with_no_candidates = []\n",
    "\n",
    "\n",
    "def find_suitable_candidate_number(sid_case, candidates_num):\n",
    "    # 1, 1, 1, 3, 5 -> 2, 2, 2, 3, 5\n",
    "    # 1, 2, 4, 5, 5 -> 3, 4, 4, 5, 5\n",
    "    values = [len(sentence_get_words[s]) for s in sid_case]\n",
    "    counts = list(Counter(values).items())  # value, count    \n",
    "    \n",
    "    cur_involved_samples = 0\n",
    "    for idx, (value, count) in enumerate(counts + [int(1e8)]):\n",
    "        cur_involved_samples += count\n",
    "        if candidates_num // count + value <= counts[idx+1][0]:\n",
    "            candidates_num = cur_involved_samples\n",
    "            break\n",
    "    return candidate_sentences[:candidates_num]\n",
    "    \n",
    "\n",
    "for word, sids in tqdm(sorted(word_in_sentences.items(), key=lambda tup: len(tup[1]))):\n",
    "    if len(word) > 4:\n",
    "        continue\n",
    "    candidates = conf(word)[:max_conf_count]\n",
    "    candidates_num = len(candidates)  # 30 or less\n",
    "    if candidates_num == 0:\n",
    "        words_with_no_candidates.append(word)\n",
    "        continue\n",
    "    candidate_sentences = sorted([s for s in sids], \n",
    "                                 key=lambda s: len(sentence_get_words[s]))\n",
    "    candidate_sentences = find_suitable_candidate_number(\n",
    "        sid_case=candidate_sentences, \n",
    "        candidates_num=candidates_num)\n",
    "    copies_per_candidate = candidates_num // len(candidate_sentences)\n",
    "    rest_copies = candidates_num % len(candidate_sentences)\n",
    "    \n",
    "    allocate_pivot = 0\n",
    "    last_allocate_pivot = 0\n",
    "    for cs, sid in enumerate(candidate_sentences):\n",
    "        allocate_pivot += copies_per_candidate\n",
    "        if rest_copies:  # average on first ones.\n",
    "            allocate_pivot += 1\n",
    "            rest_copies -= 1\n",
    "        # if cs == 0:  # the first one achieves more\n",
    "        #     allocate_pivot += rest_copies\n",
    "        allocate_candidates = candidates[last_allocate_pivot: allocate_pivot]\n",
    "        last_allocate_pivot = allocate_pivot\n",
    "        sentence_get_words[sid].extend([(word, ac) for ac in allocate_candidates])\n",
    "\n",
    "dump_json(sentence_get_words, '/data/chendian/bbcm_datasets/csc_aug/sentence_get_words_aug40_py20.json')\n",
    "# HERE"
   ]
  },
  {
   "cell_type": "code",
   "execution_count": 9,
   "id": "acute-company",
   "metadata": {},
   "outputs": [],
   "source": [
    "# dump_json(sentence_get_words, '/home/chendian/BBCM/datasets/csc_aug/sentence_get_words.json')\n",
    "# sentence_get_words = load_json('/home/chendian/BBCM/datasets/csc_aug/sentence_get_words.json')"
   ]
  },
  {
   "cell_type": "code",
   "execution_count": 11,
   "id": "english-rocket",
   "metadata": {},
   "outputs": [],
   "source": [
    "sentence_words_dist = list(map(len, sentence_get_words.values()))"
   ]
  },
  {
   "cell_type": "code",
   "execution_count": 12,
   "id": "serious-charleston",
   "metadata": {},
   "outputs": [
    {
     "data": {
      "text/plain": [
       "4165271"
      ]
     },
     "execution_count": 12,
     "metadata": {},
     "output_type": "execute_result"
    }
   ],
   "source": [
    "sum(sentence_words_dist)"
   ]
  },
  {
   "cell_type": "code",
   "execution_count": 15,
   "id": "running-requirement",
   "metadata": {
    "scrolled": true,
    "tags": []
   },
   "outputs": [
    {
     "data": {
      "text/plain": [
       "(640,\n",
       " [(4, 88982),\n",
       "  (5, 18362),\n",
       "  (6, 11452),\n",
       "  (7, 8435),\n",
       "  (8, 7469),\n",
       "  (10, 6954),\n",
       "  (3, 6877),\n",
       "  (9, 6413),\n",
       "  (11, 6232),\n",
       "  (12, 5115),\n",
       "  (13, 4880),\n",
       "  (14, 4783),\n",
       "  (15, 4236),\n",
       "  (20, 3880),\n",
       "  (16, 3537),\n",
       "  (40, 3481),\n",
       "  (21, 3285),\n",
       "  (17, 3152),\n",
       "  (18, 2727),\n",
       "  (22, 2674),\n",
       "  (41, 2446),\n",
       "  (19, 2419),\n",
       "  (23, 2289),\n",
       "  (24, 2029),\n",
       "  (42, 1875),\n",
       "  (25, 1770),\n",
       "  (26, 1548),\n",
       "  (43, 1467),\n",
       "  (28, 1298),\n",
       "  (27, 1290)])"
      ]
     },
     "execution_count": 15,
     "metadata": {},
     "output_type": "execute_result"
    }
   ],
   "source": [
    "from collections import Counter\n",
    "max(sentence_words_dist), Counter(sentence_words_dist).most_common()[:30]"
   ]
  },
  {
   "cell_type": "code",
   "execution_count": 102,
   "id": "atlantic-algebra",
   "metadata": {
    "tags": []
   },
   "outputs": [
    {
     "data": {
      "image/png": "[encoded data removed]",
      "text/plain": [
       "<Figure size 1224x360 with 1 Axes>"
      ]
     },
     "metadata": {
      "needs_background": "light"
     },
     "output_type": "display_data"
    }
   ],
   "source": [
    "import numpy as np\n",
    "import matplotlib.pyplot as plt\n",
    "plt.figure(figsize=(17, 5))\n",
    "# plt.plot(scores, [1 for _ in scores], \"bo\")\n",
    "plt.hist(sentence_words_dist, bins=100, density=False, histtype='stepfilled', alpha=0.6)  # blue\n",
    "plt.semilogy()\n",
    "plt.show()"
   ]
  },
  {
   "cell_type": "code",
   "execution_count": 13,
   "id": "center-killing",
   "metadata": {},
   "outputs": [
    {
     "data": {
      "image/png": "[encoded data removed]",
      "text/plain": [
       "<Figure size 1224x360 with 1 Axes>"
      ]
     },
     "metadata": {
      "needs_background": "light"
     },
     "output_type": "display_data"
    }
   ],
   "source": [
    "import numpy as np\n",
    "import matplotlib.pyplot as plt\n",
    "plt.figure(figsize=(17, 5))\n",
    "# plt.plot(scores, [1 for _ in scores], \"bo\")\n",
    "plt.hist(sentence_words_dist, bins=100, density=False, histtype='stepfilled', alpha=0.6)  # blue\n",
    "plt.semilogy()\n",
    "plt.show()"
   ]
  },
  {
   "cell_type": "code",
   "execution_count": 23,
   "id": "historical-comfort",
   "metadata": {},
   "outputs": [
    {
     "name": "stdout",
     "output_type": "stream",
     "text": [
      "total 3.5G\n",
      "-rw-rw-r-- 1 chendian chendian 1.4G Feb  1 13:24 train_aug30_bbcm_1copy.with_origin.json\n",
      "-rw-rw-r-- 1 chendian chendian 264M Jan 30 07:19 sentence_get_words_aug40_py20.json\n",
      "-rw-rw-r-- 1 chendian chendian  507 Jan 29 01:31 conf_for_aug.220129.txt\n",
      "-rw-rw-r-- 1 chendian chendian 139M Jan 28 04:42 sentence_get_words_aug20.json\n",
      "-rw-rw-r-- 1 chendian chendian 1.3G Jan 27 19:56 train_aug30_bbcm_1copy.json\n",
      "-rw-rw-r-- 1 chendian chendian 188M Jan 27 19:18 sentence_get_words_aug30.json\n",
      "-rw-rw-r-- 1 chendian chendian  60M Jan 26 00:44 sentence_get_words.json\n",
      "-rw-rw-r-- 1 chendian chendian 188M Jan 21 17:12 word_in_sentences.json\n"
     ]
    }
   ],
   "source": [
    "!ls -lht /home/chendian/BBCM/datasets/csc_aug/"
   ]
  },
  {
   "cell_type": "code",
   "execution_count": 79,
   "id": "baking-groove",
   "metadata": {},
   "outputs": [
    {
     "data": {
      "text/plain": [
       "['擎天动地', '惊天恸地', '殷天动地', '冰天冻地', '冰天动地', '冻天冻地', '寒天冻地']"
      ]
     },
     "execution_count": 79,
     "metadata": {},
     "output_type": "execute_result"
    }
   ],
   "source": [
    "conf('惊天动地')"
   ]
  },
  {
   "cell_type": "code",
   "execution_count": 104,
   "id": "matched-command",
   "metadata": {},
   "outputs": [
    {
     "data": {
      "text/plain": [
       "[('激活', '机会'),\n",
       " ('激活', '肌活'),\n",
       " ('激活', '集货'),\n",
       " ('激活', '几乎'),\n",
       " ('激活', '激火'),\n",
       " ('激活', '机活'),\n",
       " ('健身', '渐生'),\n",
       " ('伴侣', '办了')]"
      ]
     },
     "execution_count": 104,
     "metadata": {},
     "output_type": "execute_result"
    }
   ],
   "source": [
    "sentence_get_words[0]"
   ]
  },
  {
   "cell_type": "code",
   "execution_count": 30,
   "id": "architectural-patrol",
   "metadata": {},
   "outputs": [
    {
     "data": {
      "text/plain": [
       "1"
      ]
     },
     "execution_count": 30,
     "metadata": {},
     "output_type": "execute_result"
    }
   ],
   "source": [
    "samples_train[0]['correct_text'].index('侣')"
   ]
  },
  {
   "cell_type": "code",
   "execution_count": 22,
   "id": "handled-netscape",
   "metadata": {},
   "outputs": [
    {
     "name": "stderr",
     "output_type": "stream",
     "text": [
      "254004it [01:28, 2878.82it/s]\n"
     ]
    },
    {
     "data": {
      "text/plain": [
       "4419275"
      ]
     },
     "execution_count": 22,
     "metadata": {},
     "output_type": "execute_result"
    }
   ],
   "source": [
    "from collections import defaultdict\n",
    "from bbcm.utils.text_utils import clean_text\n",
    "\n",
    "def generate_packed_samples(samples, sentence_get_words, confusor, pair_copies=1):\n",
    "    ret_samples = []\n",
    "    confusor_record = defaultdict(int)\n",
    "    for idx, sample in tqdm(enumerate(samples)):\n",
    "        text = clean_text(sample['correct_text'])\n",
    "        # words = list(jieba.cut(text))\n",
    "        words_to_change = sentence_get_words[idx]\n",
    "        for word, changed_word in words_to_change:\n",
    "            _target = text.index(word)\n",
    "            # cur_index = confusor_record[word]\n",
    "            # candidates = confusor(word)\n",
    "            # if len(candidates) == 0:\n",
    "            #     changed_word = word\n",
    "            # else:\n",
    "            #     changed_word = candidates[cur_index % len(candidates)]\n",
    "            # faulty_words = [_tok if _i != _target else candidate for _i, _tok in enumerate(text)]\n",
    "            faulty_text = \"{}{}{}\".format(text[:_target], changed_word, text[_target+len(word):])\n",
    "            wrong_ids = [idx for idx, (_c, _o) in enumerate(zip(text, faulty_text)) if _c != _o]\n",
    "            ret_samples.append({\n",
    "                'id': \"{}-{}-{}\".format(sample['id'], word, confusor_record[word]),\n",
    "                'correct_text': text,\n",
    "                'original_text': faulty_text,\n",
    "                'wrong_ids': wrong_ids,\n",
    "            })\n",
    "            confusor_record[word] += 1\n",
    "    return ret_samples\n",
    "\n",
    "\n",
    "ret_samples = generate_packed_samples(\n",
    "    samples=samples_train, \n",
    "    sentence_get_words=sentence_get_words, \n",
    "    confusor=conf, pair_copies=1)\n",
    "ret_samples = samples_train + ret_samples\n",
    "len(ret_samples)"
   ]
  },
  {
   "cell_type": "code",
   "execution_count": 29,
   "id": "martial-vehicle",
   "metadata": {},
   "outputs": [
    {
     "name": "stdout",
     "output_type": "stream",
     "text": [
      "total 3.3G\n",
      "-rw-rw-r-- 1 chendian chendian 1.4G Feb  2 14:52 train_aug30_bbcm_1copy.json\n",
      "-rw-rw-r-- 1 chendian chendian 1.9G Feb  2 13:32 train_aug40_bbcm_1copy.json\n"
     ]
    }
   ],
   "source": [
    "!ls -lht /data/chendian/bbcm_datasets/csc_aug"
   ]
  },
  {
   "cell_type": "code",
   "execution_count": 24,
   "id": "specialized-buffalo",
   "metadata": {},
   "outputs": [
    {
     "data": {
      "text/plain": [
       "True"
      ]
     },
     "execution_count": 24,
     "metadata": {},
     "output_type": "execute_result"
    }
   ],
   "source": [
    "# dump_json(ret_samples, '/home/chendian/BBCM/datasets/csc_aug/train_aug40_bbcm_1copy.json')\n",
    "dump_json(ret_samples, '/data/chendian/bbcm_datasets/csc_aug/train_aug40_bbcm_1copy.json')"
   ]
  },
  {
   "cell_type": "code",
   "execution_count": 27,
   "id": "martial-polls",
   "metadata": {},
   "outputs": [],
   "source": [
    "!cp /data/chendian/bbcm_datasets/csc_aug/train_aug40_bbcm_1copy.json  /home/chendian/BBCM/datasets/csc_aug/"
   ]
  },
  {
   "cell_type": "code",
   "execution_count": null,
   "id": "vulnerable-indicator",
   "metadata": {},
   "outputs": [],
   "source": [
    "csc_origin_words = defaultdict(int)\n",
    "for sample in tqdm(samples_train):\n",
    "    # for word in tokenizer.tokenize(sample['correct_text']) + \n",
    "    for word in jieba.cut(sample['correct_text']):\n",
    "        if False in [is_chinese_char(ord(w)) for w in word]:\n",
    "            continue\n",
    "        csc_origin_words[word] += 1\n",
    "        # if word in word_count: word_count[word] += 1\n",
    "        # else: oov_word_count[word] += 1"
   ]
  }
 ],
 "metadata": {
  "kernelspec": {
   "display_name": "bbcm",
   "language": "python",
   "name": "bbcm"
  },
  "language_info": {
   "codemirror_mode": {
    "name": "ipython",
    "version": 3
   },
   "file_extension": ".py",
   "mimetype": "text/x-python",
   "name": "python",
   "nbconvert_exporter": "python",
   "pygments_lexer": "ipython3",
   "version": "3.7.10"
  }
 },
 "nbformat": 4,
 "nbformat_minor": 5
}
