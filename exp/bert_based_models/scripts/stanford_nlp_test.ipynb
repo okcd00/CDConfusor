{
 "cells": [
  {
   "cell_type": "markdown",
   "id": "noble-declaration",
   "metadata": {},
   "source": [
    "## 句法结构、语义解析、依存关系"
   ]
  },
  {
   "cell_type": "code",
   "execution_count": null,
   "id": "senior-perspective",
   "metadata": {},
   "outputs": [],
   "source": []
  },
  {
   "cell_type": "markdown",
   "id": "aquatic-mountain",
   "metadata": {},
   "source": [
    "> 句法分析(syntactic parsing)是自然语言处理中的关键技术之一，它是对输入的文本句子进行分析以得到句子的句法结构的处理过程。对句法结构进行分析，一方面是语言理解的自身需求，句法分析是语言理解的重要一环，另一方面也为其它自然语言处理任务提供支持。例如句法驱动的统计机器翻译需要对源语言或目标语言(或者同时两种语言)进行句法分析。\n",
    "\n",
    "语义分析通常以句法分析的输出结果作为输入以便获得更多的指示信息。根据句法结构的表示形式不同，最常见的句法分析任务可以分为以下三种：\n",
    "+ 句法结构分析(syntactic structure parsing)，又称短语结构分析(phrase structure parsing)，也叫成分句法分析(constituent syntactic parsing)。作用是识别出句子中的短语结构以及短语之间的层次句法关系。\n",
    "+ 依存关系分析，又称依存句法分析(dependency syntactic parsing)，简称依存分析，作用是识别句子中词汇与词汇之间的相互依存关系。\n",
    "+ 深层文法句法分析，即利用深层文法，例如词汇化树邻接文法(Lexicalized Tree Adjoining Grammar，LTAG)、词汇功能文法(Lexical Functional Grammar，LFG)、组合范畴文法(Combinatory Categorial Grammar，CCG)等，对句子进行深层的句法以及语义分析。\n",
    "\n",
    "\n",
    "重要概念\n",
    "\n",
    "依存句法认为“谓语”中的动词是一个句子的中心，其他成分与动词直接或间接地产生联系。\n",
    "依存句法理论中，“依存”指词与词之间支配与被支配的关系，这种关系不是对等的，这种关系具有方向。确切的说，处于支配地位的成分称之为支配者(governor，regent，head)，而处于被支配地位的成分称之为从属者(modifier，subordinate，dependency)。\n",
    "依存语法本身没有规定要对依存关系进行分类，但为了丰富依存结构传达的句法信息，在实际应用中，一般会给依存树的边加上不同的标记。\n",
    "依存语法存在一个共同的基本假设：句法结构本质上包含词和词之间的依存(修饰)关系。一个依存关系连接两个词，分别是核心词(head)和依存词(dependent)。依存关系可以细分为不同的类型，表示两个词之间的具体句法关系。"
   ]
  },
  {
   "cell_type": "markdown",
   "id": "talented-storage",
   "metadata": {},
   "source": [
    "### 依存分析器的性能评价\n",
    "\n",
    "通常使用的指标包括：无标记依存正确率(unlabeled attachment score，UAS)、带标记依存正确率(labeled attachment score， LAS)、依存正确率(dependency accuracy，DA)、根正确率(root accuracy，RA)、完全匹配率(complete match，CM)等。这些指标的具体意思如下：\n",
    "\n",
    "+ 无标记依存正确率(UAS)：测试集中找到其正确支配词的词(包括没有标注支配词的根结点)所占总词数的百分比。\n",
    "+ 带标记依存正确率(LAS)：测试集中找到其正确支配词的词，并且依存关系类型也标注正确的词(包括没有标注支配词的根结点)占总词数的百分比。\n",
    "+ 依存正确率(DA)：测试集中找到正确支配词非根结点词占所有非根结点词总数的百分比。\n",
    "+ 根正确率(RA)：有二种定义，一种是测试集中正确根结点的个数与句子个数的百分比。另一种是指测试集中找到正确根结点的句子数所占句子总数的百分比。\n",
    "+ 完全匹配率(CM)：测试集中无标记依存结构完全正确的句子占句子总数的百分比。"
   ]
  },
  {
   "cell_type": "markdown",
   "id": "collaborative-eclipse",
   "metadata": {},
   "source": [
    "### StanfordCoreNLP"
   ]
  },
  {
   "cell_type": "code",
   "execution_count": 1,
   "id": "dimensional-portuguese",
   "metadata": {},
   "outputs": [
    {
     "name": "stdout",
     "output_type": "stream",
     "text": [
      "Now loading NER model from /home/chendian/download/stanford-corenlp-4.2.2/\n",
      "[main] INFO CoreNLP - --- StanfordCoreNLPServer#main() called ---\n",
      "[main] INFO CoreNLP - Server default properties:\n",
      "\t\t\t(Note: unspecified annotator properties are English defaults)\n",
      "\t\t\tinputFormat = text\n",
      "\t\t\toutputFormat = json\n",
      "\t\t\tprettyPrint = false\n",
      "[main] INFO CoreNLP - Threads: 48\n",
      "[main] INFO CoreNLP - Starting server...\n",
      "[main] INFO CoreNLP - StanfordCoreNLPServer listening at /0.0.0.0:9022\n"
     ]
    }
   ],
   "source": [
    "from stanfordcorenlp import StanfordCoreNLP\n",
    "stanford_model_path = r'/home/chendian/download/stanford-corenlp-4.2.2/'\n",
    "print(f\"Now loading NER model from {stanford_model_path}\")\n",
    "stanford_model = StanfordCoreNLP(stanford_model_path, lang='zh', quiet=False)"
   ]
  },
  {
   "cell_type": "code",
   "execution_count": 8,
   "id": "square-string",
   "metadata": {},
   "outputs": [
    {
     "name": "stdout",
     "output_type": "stream",
     "text": [
      "[pool-1-thread-2] INFO CoreNLP - [/127.0.0.1:58330] API call w/annotators tokenize,ssplit,pos,parse\n",
      "公司作为债权人，与其他债权人依约向破产人申报债权\n",
      "[pool-1-thread-2] INFO edu.stanford.nlp.pipeline.StanfordCoreNLP - Adding annotator tokenize\n",
      "[pool-1-thread-2] INFO edu.stanford.nlp.ie.AbstractSequenceClassifier - Loading classifier from edu/stanford/nlp/models/segmenter/chinese/ctb.gz ... done [15.7 sec].\n",
      "[pool-1-thread-2] INFO edu.stanford.nlp.pipeline.StanfordCoreNLP - Adding annotator ssplit\n",
      "[pool-1-thread-2] INFO edu.stanford.nlp.pipeline.StanfordCoreNLP - Adding annotator pos\n",
      "[pool-1-thread-2] INFO edu.stanford.nlp.tagger.maxent.MaxentTagger - Loading POS tagger from edu/stanford/nlp/models/pos-tagger/chinese-distsim.tagger ... done [0.8 sec].\n",
      "[pool-1-thread-2] INFO edu.stanford.nlp.pipeline.StanfordCoreNLP - Adding annotator parse\n",
      "[pool-1-thread-2] INFO edu.stanford.nlp.parser.common.ParserGrammar - Loading parser from serialized file edu/stanford/nlp/models/srparser/chineseSR.ser.gz ... done [4.9 sec].\n",
      "[pool-2-thread-1] INFO edu.stanford.nlp.wordseg.ChineseDictionary - Loading Chinese dictionaries from 1 file:\n",
      "[pool-2-thread-1] INFO edu.stanford.nlp.wordseg.ChineseDictionary -   edu/stanford/nlp/models/segmenter/chinese/dict-chris6.ser.gz\n",
      "[pool-2-thread-1] INFO edu.stanford.nlp.wordseg.ChineseDictionary - Done. Unique words in ChineseDictionary is: 423200.\n",
      "[pool-2-thread-1] INFO edu.stanford.nlp.wordseg.CorpusChar - Loading character dictionary file from edu/stanford/nlp/models/segmenter/chinese/dict/character_list [done].\n",
      "[pool-2-thread-1] INFO edu.stanford.nlp.wordseg.AffixDictionary - Loading affix dictionary from edu/stanford/nlp/models/segmenter/chinese/dict/in.ctb [done].\n",
      "[pool-2-thread-1] INFO edu.stanford.nlp.wordseg.CorpusChar - Loading character dictionary file from edu/stanford/nlp/models/segmenter/chinese/dict/character_list [done].\n",
      "[pool-2-thread-1] INFO edu.stanford.nlp.wordseg.AffixDictionary - Loading affix dictionary from edu/stanford/nlp/models/segmenter/chinese/dict/in.ctb [done].\n"
     ]
    }
   ],
   "source": [
    "t = \"公司作为债权人，与其他债权人依约向破产人申报债权\"\n",
    "results = stanford_model.parse(t)"
   ]
  },
  {
   "cell_type": "code",
   "execution_count": 9,
   "id": "abroad-valuation",
   "metadata": {},
   "outputs": [
    {
     "name": "stdout",
     "output_type": "stream",
     "text": [
      "(ROOT\n",
      "  (IP\n",
      "    (NP (NN 公司))\n",
      "    (VP\n",
      "      (PP (VV 作为)\n",
      "        (NP (NN 债权人)))\n",
      "      (PU ，)\n",
      "      (PP (P 与)\n",
      "        (NP\n",
      "          (DP (DT 其他))\n",
      "          (NP (NN 债权人))))\n",
      "      (ADVP (AD 依约))\n",
      "      (PP (P 向)\n",
      "        (NP (NN 破产人)))\n",
      "      (VP (VV 申报)\n",
      "        (NP (NN 债权))))))\n"
     ]
    }
   ],
   "source": [
    "print(results)"
   ]
  },
  {
   "cell_type": "code",
   "execution_count": 32,
   "id": "coral-cleaners",
   "metadata": {},
   "outputs": [
    {
     "data": {
      "image/svg+xml": "<svg baseProfile=\"full\" height=\"360px\" preserveAspectRatio=\"xMidYMid meet\" style=\"font-family: times, serif; font-weight:normal; font-style: normal; font-size: 16px;\" version=\"1.1\" viewBox=\"0,0,408.0,360.0\" width=\"408px\" xmlns=\"http://www.w3.org/2000/svg\" xmlns:ev=\"http://www.w3.org/2001/xml-events\" xmlns:xlink=\"http://www.w3.org/1999/xlink\"><defs /><svg width=\"100%\" x=\"0\" y=\"0em\"><defs /><text text-anchor=\"middle\" x=\"50%\" y=\"1em\">ROOT</text></svg><svg width=\"100%\" x=\"0%\" y=\"3em\"><defs /><svg width=\"100%\" x=\"0\" y=\"0em\"><defs /><text text-anchor=\"middle\" x=\"50%\" y=\"1em\">IP</text></svg><svg width=\"7.84314%\" x=\"0%\" y=\"3em\"><defs /><svg width=\"100%\" x=\"0\" y=\"0em\"><defs /><text text-anchor=\"middle\" x=\"50%\" y=\"1em\">NP</text></svg><svg width=\"100%\" x=\"0%\" y=\"3em\"><defs /><svg width=\"100%\" x=\"0\" y=\"0em\"><defs /><text text-anchor=\"middle\" x=\"50%\" y=\"1em\">NN</text></svg><svg width=\"100%\" x=\"0%\" y=\"3em\"><defs /><svg width=\"100%\" x=\"0\" y=\"0em\"><defs /><text text-anchor=\"middle\" x=\"50%\" y=\"1em\">公司</text></svg></svg><line stroke=\"black\" x1=\"50%\" x2=\"50%\" y1=\"1.2em\" y2=\"3em\" /></svg><line stroke=\"black\" x1=\"50%\" x2=\"50%\" y1=\"1.2em\" y2=\"3em\" /></svg><line stroke=\"black\" x1=\"50%\" x2=\"3.92157%\" y1=\"1.2em\" y2=\"3em\" /><svg width=\"92.1569%\" x=\"7.84314%\" y=\"3em\"><defs /><svg width=\"100%\" x=\"0\" y=\"0em\"><defs /><text text-anchor=\"middle\" x=\"50%\" y=\"1em\">VP</text></svg><svg width=\"19.1489%\" x=\"0%\" y=\"3em\"><defs /><svg width=\"100%\" x=\"0\" y=\"0em\"><defs /><text text-anchor=\"middle\" x=\"50%\" y=\"1em\">PP</text></svg><svg width=\"44.4444%\" x=\"0%\" y=\"3em\"><defs /><svg width=\"100%\" x=\"0\" y=\"0em\"><defs /><text text-anchor=\"middle\" x=\"50%\" y=\"1em\">VV</text></svg><svg width=\"100%\" x=\"0%\" y=\"3em\"><defs /><svg width=\"100%\" x=\"0\" y=\"0em\"><defs /><text text-anchor=\"middle\" x=\"50%\" y=\"1em\">作为</text></svg></svg><line stroke=\"black\" x1=\"50%\" x2=\"50%\" y1=\"1.2em\" y2=\"3em\" /></svg><line stroke=\"black\" x1=\"50%\" x2=\"22.2222%\" y1=\"1.2em\" y2=\"3em\" /><svg width=\"55.5556%\" x=\"44.4444%\" y=\"3em\"><defs /><svg width=\"100%\" x=\"0\" y=\"0em\"><defs /><text text-anchor=\"middle\" x=\"50%\" y=\"1em\">NP</text></svg><svg width=\"100%\" x=\"0%\" y=\"3em\"><defs /><svg width=\"100%\" x=\"0\" y=\"0em\"><defs /><text text-anchor=\"middle\" x=\"50%\" y=\"1em\">NN</text></svg><svg width=\"100%\" x=\"0%\" y=\"3em\"><defs /><svg width=\"100%\" x=\"0\" y=\"0em\"><defs /><text text-anchor=\"middle\" x=\"50%\" y=\"1em\">债权人</text></svg></svg><line stroke=\"black\" x1=\"50%\" x2=\"50%\" y1=\"1.2em\" y2=\"3em\" /></svg><line stroke=\"black\" x1=\"50%\" x2=\"50%\" y1=\"1.2em\" y2=\"3em\" /></svg><line stroke=\"black\" x1=\"50%\" x2=\"72.2222%\" y1=\"1.2em\" y2=\"3em\" /></svg><line stroke=\"black\" x1=\"50%\" x2=\"9.57447%\" y1=\"1.2em\" y2=\"3em\" /><svg width=\"8.51064%\" x=\"19.1489%\" y=\"3em\"><defs /><svg width=\"100%\" x=\"0\" y=\"0em\"><defs /><text text-anchor=\"middle\" x=\"50%\" y=\"1em\">PU</text></svg><svg width=\"100%\" x=\"0%\" y=\"3em\"><defs /><svg width=\"100%\" x=\"0\" y=\"0em\"><defs /><text text-anchor=\"middle\" x=\"50%\" y=\"1em\">，</text></svg></svg><line stroke=\"black\" x1=\"50%\" x2=\"50%\" y1=\"1.2em\" y2=\"3em\" /></svg><line stroke=\"black\" x1=\"50%\" x2=\"23.4043%\" y1=\"1.2em\" y2=\"3em\" /><svg width=\"25.5319%\" x=\"27.6596%\" y=\"3em\"><defs /><svg width=\"100%\" x=\"0\" y=\"0em\"><defs /><text text-anchor=\"middle\" x=\"50%\" y=\"1em\">PP</text></svg><svg width=\"25%\" x=\"0%\" y=\"3em\"><defs /><svg width=\"100%\" x=\"0\" y=\"0em\"><defs /><text text-anchor=\"middle\" x=\"50%\" y=\"1em\">P</text></svg><svg width=\"100%\" x=\"0%\" y=\"3em\"><defs /><svg width=\"100%\" x=\"0\" y=\"0em\"><defs /><text text-anchor=\"middle\" x=\"50%\" y=\"1em\">与</text></svg></svg><line stroke=\"black\" x1=\"50%\" x2=\"50%\" y1=\"1.2em\" y2=\"3em\" /></svg><line stroke=\"black\" x1=\"50%\" x2=\"12.5%\" y1=\"1.2em\" y2=\"3em\" /><svg width=\"75%\" x=\"25%\" y=\"3em\"><defs /><svg width=\"100%\" x=\"0\" y=\"0em\"><defs /><text text-anchor=\"middle\" x=\"50%\" y=\"1em\">NP</text></svg><svg width=\"44.4444%\" x=\"0%\" y=\"3em\"><defs /><svg width=\"100%\" x=\"0\" y=\"0em\"><defs /><text text-anchor=\"middle\" x=\"50%\" y=\"1em\">DP</text></svg><svg width=\"100%\" x=\"0%\" y=\"3em\"><defs /><svg width=\"100%\" x=\"0\" y=\"0em\"><defs /><text text-anchor=\"middle\" x=\"50%\" y=\"1em\">DT</text></svg><svg width=\"100%\" x=\"0%\" y=\"3em\"><defs /><svg width=\"100%\" x=\"0\" y=\"0em\"><defs /><text text-anchor=\"middle\" x=\"50%\" y=\"1em\">其他</text></svg></svg><line stroke=\"black\" x1=\"50%\" x2=\"50%\" y1=\"1.2em\" y2=\"3em\" /></svg><line stroke=\"black\" x1=\"50%\" x2=\"50%\" y1=\"1.2em\" y2=\"3em\" /></svg><line stroke=\"black\" x1=\"50%\" x2=\"22.2222%\" y1=\"1.2em\" y2=\"3em\" /><svg width=\"55.5556%\" x=\"44.4444%\" y=\"3em\"><defs /><svg width=\"100%\" x=\"0\" y=\"0em\"><defs /><text text-anchor=\"middle\" x=\"50%\" y=\"1em\">NP</text></svg><svg width=\"100%\" x=\"0%\" y=\"3em\"><defs /><svg width=\"100%\" x=\"0\" y=\"0em\"><defs /><text text-anchor=\"middle\" x=\"50%\" y=\"1em\">NN</text></svg><svg width=\"100%\" x=\"0%\" y=\"3em\"><defs /><svg width=\"100%\" x=\"0\" y=\"0em\"><defs /><text text-anchor=\"middle\" x=\"50%\" y=\"1em\">债权人</text></svg></svg><line stroke=\"black\" x1=\"50%\" x2=\"50%\" y1=\"1.2em\" y2=\"3em\" /></svg><line stroke=\"black\" x1=\"50%\" x2=\"50%\" y1=\"1.2em\" y2=\"3em\" /></svg><line stroke=\"black\" x1=\"50%\" x2=\"72.2222%\" y1=\"1.2em\" y2=\"3em\" /></svg><line stroke=\"black\" x1=\"50%\" x2=\"62.5%\" y1=\"1.2em\" y2=\"3em\" /></svg><line stroke=\"black\" x1=\"50%\" x2=\"40.4255%\" y1=\"1.2em\" y2=\"3em\" /><svg width=\"12.766%\" x=\"53.1915%\" y=\"3em\"><defs /><svg width=\"100%\" x=\"0\" y=\"0em\"><defs /><text text-anchor=\"middle\" x=\"50%\" y=\"1em\">ADVP</text></svg><svg width=\"100%\" x=\"0%\" y=\"3em\"><defs /><svg width=\"100%\" x=\"0\" y=\"0em\"><defs /><text text-anchor=\"middle\" x=\"50%\" y=\"1em\">AD</text></svg><svg width=\"100%\" x=\"0%\" y=\"3em\"><defs /><svg width=\"100%\" x=\"0\" y=\"0em\"><defs /><text text-anchor=\"middle\" x=\"50%\" y=\"1em\">依约</text></svg></svg><line stroke=\"black\" x1=\"50%\" x2=\"50%\" y1=\"1.2em\" y2=\"3em\" /></svg><line stroke=\"black\" x1=\"50%\" x2=\"50%\" y1=\"1.2em\" y2=\"3em\" /></svg><line stroke=\"black\" x1=\"50%\" x2=\"59.5745%\" y1=\"1.2em\" y2=\"3em\" /><svg width=\"17.0213%\" x=\"65.9574%\" y=\"3em\"><defs /><svg width=\"100%\" x=\"0\" y=\"0em\"><defs /><text text-anchor=\"middle\" x=\"50%\" y=\"1em\">PP</text></svg><svg width=\"37.5%\" x=\"0%\" y=\"3em\"><defs /><svg width=\"100%\" x=\"0\" y=\"0em\"><defs /><text text-anchor=\"middle\" x=\"50%\" y=\"1em\">P</text></svg><svg width=\"100%\" x=\"0%\" y=\"3em\"><defs /><svg width=\"100%\" x=\"0\" y=\"0em\"><defs /><text text-anchor=\"middle\" x=\"50%\" y=\"1em\">向</text></svg></svg><line stroke=\"black\" x1=\"50%\" x2=\"50%\" y1=\"1.2em\" y2=\"3em\" /></svg><line stroke=\"black\" x1=\"50%\" x2=\"18.75%\" y1=\"1.2em\" y2=\"3em\" /><svg width=\"62.5%\" x=\"37.5%\" y=\"3em\"><defs /><svg width=\"100%\" x=\"0\" y=\"0em\"><defs /><text text-anchor=\"middle\" x=\"50%\" y=\"1em\">NP</text></svg><svg width=\"100%\" x=\"0%\" y=\"3em\"><defs /><svg width=\"100%\" x=\"0\" y=\"0em\"><defs /><text text-anchor=\"middle\" x=\"50%\" y=\"1em\">NN</text></svg><svg width=\"100%\" x=\"0%\" y=\"3em\"><defs /><svg width=\"100%\" x=\"0\" y=\"0em\"><defs /><text text-anchor=\"middle\" x=\"50%\" y=\"1em\">破产人</text></svg></svg><line stroke=\"black\" x1=\"50%\" x2=\"50%\" y1=\"1.2em\" y2=\"3em\" /></svg><line stroke=\"black\" x1=\"50%\" x2=\"50%\" y1=\"1.2em\" y2=\"3em\" /></svg><line stroke=\"black\" x1=\"50%\" x2=\"68.75%\" y1=\"1.2em\" y2=\"3em\" /></svg><line stroke=\"black\" x1=\"50%\" x2=\"74.4681%\" y1=\"1.2em\" y2=\"3em\" /><svg width=\"17.0213%\" x=\"82.9787%\" y=\"3em\"><defs /><svg width=\"100%\" x=\"0\" y=\"0em\"><defs /><text text-anchor=\"middle\" x=\"50%\" y=\"1em\">VP</text></svg><svg width=\"50%\" x=\"0%\" y=\"3em\"><defs /><svg width=\"100%\" x=\"0\" y=\"0em\"><defs /><text text-anchor=\"middle\" x=\"50%\" y=\"1em\">VV</text></svg><svg width=\"100%\" x=\"0%\" y=\"3em\"><defs /><svg width=\"100%\" x=\"0\" y=\"0em\"><defs /><text text-anchor=\"middle\" x=\"50%\" y=\"1em\">申报</text></svg></svg><line stroke=\"black\" x1=\"50%\" x2=\"50%\" y1=\"1.2em\" y2=\"3em\" /></svg><line stroke=\"black\" x1=\"50%\" x2=\"25%\" y1=\"1.2em\" y2=\"3em\" /><svg width=\"50%\" x=\"50%\" y=\"3em\"><defs /><svg width=\"100%\" x=\"0\" y=\"0em\"><defs /><text text-anchor=\"middle\" x=\"50%\" y=\"1em\">NP</text></svg><svg width=\"100%\" x=\"0%\" y=\"3em\"><defs /><svg width=\"100%\" x=\"0\" y=\"0em\"><defs /><text text-anchor=\"middle\" x=\"50%\" y=\"1em\">NN</text></svg><svg width=\"100%\" x=\"0%\" y=\"3em\"><defs /><svg width=\"100%\" x=\"0\" y=\"0em\"><defs /><text text-anchor=\"middle\" x=\"50%\" y=\"1em\">债权</text></svg></svg><line stroke=\"black\" x1=\"50%\" x2=\"50%\" y1=\"1.2em\" y2=\"3em\" /></svg><line stroke=\"black\" x1=\"50%\" x2=\"50%\" y1=\"1.2em\" y2=\"3em\" /></svg><line stroke=\"black\" x1=\"50%\" x2=\"75%\" y1=\"1.2em\" y2=\"3em\" /></svg><line stroke=\"black\" x1=\"50%\" x2=\"91.4894%\" y1=\"1.2em\" y2=\"3em\" /></svg><line stroke=\"black\" x1=\"50%\" x2=\"53.9216%\" y1=\"1.2em\" y2=\"3em\" /></svg><line stroke=\"black\" x1=\"50%\" x2=\"50%\" y1=\"1.2em\" y2=\"3em\" /></svg>",
      "text/plain": [
       "Tree('ROOT', [Tree('IP', [Tree('NP', [Tree('NN', ['公司'])]), Tree('VP', [Tree('PP', [Tree('VV', ['作为']), Tree('NP', [Tree('NN', ['债权人'])])]), Tree('PU', ['，']), Tree('PP', [Tree('P', ['与']), Tree('NP', [Tree('DP', [Tree('DT', ['其他'])]), Tree('NP', [Tree('NN', ['债权人'])])])]), Tree('ADVP', [Tree('AD', ['依约'])]), Tree('PP', [Tree('P', ['向']), Tree('NP', [Tree('NN', ['破产人'])])]), Tree('VP', [Tree('VV', ['申报']), Tree('NP', [Tree('NN', ['债权'])])])])])])"
      ]
     },
     "execution_count": 32,
     "metadata": {},
     "output_type": "execute_result"
    }
   ],
   "source": [
    "import matplotlib      \n",
    "matplotlib.use('Agg')\n",
    "import matplotlib.pyplot as plt\n",
    "\n",
    "plt.figure(figsize=(12, 3), dpi=200)\n",
    "\n",
    "from nltk import Tree \n",
    "from nltk.draw.tree import TreeView \n",
    "tr = Tree.fromstring(results)\n",
    "# tr.pprint()\n",
    "tr"
   ]
  },
  {
   "cell_type": "code",
   "execution_count": 11,
   "id": "ceramic-banks",
   "metadata": {},
   "outputs": [],
   "source": [
    "stanford_model.close()"
   ]
  },
  {
   "cell_type": "markdown",
   "id": "cordless-freeze",
   "metadata": {},
   "source": [
    "### HANLP"
   ]
  },
  {
   "cell_type": "code",
   "execution_count": 12,
   "id": "alpha-services",
   "metadata": {},
   "outputs": [
    {
     "name": "stdout",
     "output_type": "stream",
     "text": [
      "1\t公司\t公司\tn\tn\t_\t2\t主谓关系\t_\t_\n",
      "2\t作为\t作为\tv\tv\t_\t0\t核心关系\t_\t_\n",
      "3\t债权人\t债权人\tn\tn\t_\t2\t动宾关系\t_\t_\n",
      "4\t，\t，\twp\tw\t_\t2\t标点符号\t_\t_\n",
      "5\t与\t与\tp\tp\t_\t8\t状中结构\t_\t_\n",
      "6\t其他\t其他\tr\tr\t_\t7\t定中关系\t_\t_\n",
      "7\t债权人\t债权人\tn\tn\t_\t5\t介宾关系\t_\t_\n",
      "8\t依约\t依约\tv\tv\t_\t2\t并列关系\t_\t_\n",
      "9\t向\t向\tp\tp\t_\t12\t状中结构\t_\t_\n",
      "10\t破产\t破产\tv\tv\t_\t11\t定中关系\t_\t_\n",
      "11\t人\t人\tn\tn\t_\t9\t介宾关系\t_\t_\n",
      "12\t申报\t申报\tv\tv\t_\t8\t并列关系\t_\t_\n",
      "13\t债权\t债权\tn\tn\t_\t12\t动宾关系\t_\t_\n",
      "\n"
     ]
    }
   ],
   "source": [
    "from pyhanlp import *\n",
    "dep_zh = HanLP.parseDependency(t)\n",
    "print(dep_zh)"
   ]
  },
  {
   "cell_type": "markdown",
   "id": "reported-brooks",
   "metadata": {},
   "source": [
    "### DDParser"
   ]
  },
  {
   "cell_type": "code",
   "execution_count": 42,
   "id": "capital-buddy",
   "metadata": {},
   "outputs": [
    {
     "data": {
      "text/html": [
       "<div>\n",
       "<style scoped>\n",
       "    .dataframe tbody tr th:only-of-type {\n",
       "        vertical-align: middle;\n",
       "    }\n",
       "\n",
       "    .dataframe tbody tr th {\n",
       "        vertical-align: top;\n",
       "    }\n",
       "\n",
       "    .dataframe thead th {\n",
       "        text-align: right;\n",
       "    }\n",
       "</style>\n",
       "<table border=\"1\" class=\"dataframe\">\n",
       "  <thead>\n",
       "    <tr style=\"text-align: right;\">\n",
       "      <th></th>\n",
       "      <th>0</th>\n",
       "      <th>1</th>\n",
       "      <th>2</th>\n",
       "      <th>3</th>\n",
       "    </tr>\n",
       "  </thead>\n",
       "  <tbody>\n",
       "    <tr>\n",
       "      <th>0</th>\n",
       "      <td></td>\n",
       "      <td>None</td>\n",
       "      <td>None</td>\n",
       "      <td>None</td>\n",
       "    </tr>\n",
       "    <tr>\n",
       "      <th>1</th>\n",
       "      <td>Label</td>\n",
       "      <td>关系类型</td>\n",
       "      <td>说明</td>\n",
       "      <td>示例</td>\n",
       "    </tr>\n",
       "    <tr>\n",
       "      <th>2</th>\n",
       "      <td>SBV</td>\n",
       "      <td>主谓关系</td>\n",
       "      <td>主语与谓词间的关系</td>\n",
       "      <td>他送了一本书(他&lt;--送)</td>\n",
       "    </tr>\n",
       "    <tr>\n",
       "      <th>3</th>\n",
       "      <td>VOB</td>\n",
       "      <td>动宾关系</td>\n",
       "      <td>宾语与谓词间的关系</td>\n",
       "      <td>他送了一本书(送--&gt;书)</td>\n",
       "    </tr>\n",
       "    <tr>\n",
       "      <th>4</th>\n",
       "      <td>POB</td>\n",
       "      <td>介宾关系</td>\n",
       "      <td>介词与宾语间的关系</td>\n",
       "      <td>我把书卖了（把--&gt;书）</td>\n",
       "    </tr>\n",
       "    <tr>\n",
       "      <th>5</th>\n",
       "      <td>ADV</td>\n",
       "      <td>状中关系</td>\n",
       "      <td>状语与中心词间的关系</td>\n",
       "      <td>我昨天买书了（昨天&lt;--买）</td>\n",
       "    </tr>\n",
       "    <tr>\n",
       "      <th>6</th>\n",
       "      <td>CMP</td>\n",
       "      <td>动补关系</td>\n",
       "      <td>补语与中心词间的关系</td>\n",
       "      <td>我都吃完了（吃--&gt;完）</td>\n",
       "    </tr>\n",
       "    <tr>\n",
       "      <th>7</th>\n",
       "      <td>ATT</td>\n",
       "      <td>定中关系</td>\n",
       "      <td>定语与中心词间的关系</td>\n",
       "      <td>他送了一本书(一本&lt;--书)</td>\n",
       "    </tr>\n",
       "    <tr>\n",
       "      <th>8</th>\n",
       "      <td>F</td>\n",
       "      <td>方位关系</td>\n",
       "      <td>方位词与中心词的关系</td>\n",
       "      <td>在公园里玩耍(公园--&gt;里)</td>\n",
       "    </tr>\n",
       "    <tr>\n",
       "      <th>9</th>\n",
       "      <td>COO</td>\n",
       "      <td>并列关系</td>\n",
       "      <td>同类型词语间关系</td>\n",
       "      <td>叔叔阿姨(叔叔--&gt;阿姨)</td>\n",
       "    </tr>\n",
       "    <tr>\n",
       "      <th>10</th>\n",
       "      <td>DBL</td>\n",
       "      <td>兼语结构</td>\n",
       "      <td>主谓短语做宾语的结构</td>\n",
       "      <td>他请我吃饭(请--&gt;我，请--&gt;吃饭)</td>\n",
       "    </tr>\n",
       "    <tr>\n",
       "      <th>11</th>\n",
       "      <td>DOB</td>\n",
       "      <td>双宾语结构</td>\n",
       "      <td>谓语后出现两个宾语</td>\n",
       "      <td>他送我一本书(送--&gt;我，送--&gt;书)</td>\n",
       "    </tr>\n",
       "    <tr>\n",
       "      <th>12</th>\n",
       "      <td>VV</td>\n",
       "      <td>连谓结构</td>\n",
       "      <td>同主语的多个谓词间关系</td>\n",
       "      <td>他外出吃饭(外出--&gt;吃饭)</td>\n",
       "    </tr>\n",
       "    <tr>\n",
       "      <th>13</th>\n",
       "      <td>IC</td>\n",
       "      <td>子句结构</td>\n",
       "      <td>两个结构独立或关联的单句</td>\n",
       "      <td>你好，书店怎么走？(你好&lt;--走)</td>\n",
       "    </tr>\n",
       "    <tr>\n",
       "      <th>14</th>\n",
       "      <td>MT</td>\n",
       "      <td>虚词成分</td>\n",
       "      <td>虚词与中心词间的关系</td>\n",
       "      <td>他送了一本书(送--&gt;了)</td>\n",
       "    </tr>\n",
       "    <tr>\n",
       "      <th>15</th>\n",
       "      <td>HED</td>\n",
       "      <td>核心关系</td>\n",
       "      <td>指整个句子的核心</td>\n",
       "      <td></td>\n",
       "    </tr>\n",
       "    <tr>\n",
       "      <th>16</th>\n",
       "      <td></td>\n",
       "      <td>None</td>\n",
       "      <td>None</td>\n",
       "      <td>None</td>\n",
       "    </tr>\n",
       "  </tbody>\n",
       "</table>\n",
       "</div>"
      ],
      "text/plain": [
       "        0      1             2                    3\n",
       "0           None          None                 None\n",
       "1   Label   关系类型            说明                   示例\n",
       "2     SBV   主谓关系     主语与谓词间的关系        他送了一本书(他<--送)\n",
       "3     VOB   动宾关系     宾语与谓词间的关系        他送了一本书(送-->书)\n",
       "4     POB   介宾关系     介词与宾语间的关系         我把书卖了（把-->书）\n",
       "5     ADV   状中关系    状语与中心词间的关系       我昨天买书了（昨天<--买）\n",
       "6     CMP   动补关系    补语与中心词间的关系         我都吃完了（吃-->完）\n",
       "7     ATT   定中关系    定语与中心词间的关系       他送了一本书(一本<--书)\n",
       "8       F   方位关系    方位词与中心词的关系       在公园里玩耍(公园-->里)\n",
       "9     COO   并列关系      同类型词语间关系        叔叔阿姨(叔叔-->阿姨)\n",
       "10    DBL   兼语结构    主谓短语做宾语的结构  他请我吃饭(请-->我，请-->吃饭)\n",
       "11    DOB  双宾语结构     谓语后出现两个宾语  他送我一本书(送-->我，送-->书)\n",
       "12     VV   连谓结构   同主语的多个谓词间关系       他外出吃饭(外出-->吃饭)\n",
       "13     IC   子句结构  两个结构独立或关联的单句    你好，书店怎么走？(你好<--走)\n",
       "14     MT   虚词成分    虚词与中心词间的关系        他送了一本书(送-->了)\n",
       "15    HED   核心关系      指整个句子的核心                     \n",
       "16          None          None                 None"
      ]
     },
     "execution_count": 42,
     "metadata": {},
     "output_type": "execute_result"
    }
   ],
   "source": [
    "import pandas as pd\n",
    "from pprint import pprint\n",
    "pd.DataFrame(\n",
    "    [line.split('\\t') for line in \"\"\"\n",
    "    Label\t关系类型\t说明\t示例\n",
    "    SBV\t主谓关系\t主语与谓词间的关系\t他送了一本书(他<--送)\n",
    "    VOB\t动宾关系\t宾语与谓词间的关系\t他送了一本书(送-->书)\n",
    "    POB\t介宾关系\t介词与宾语间的关系\t我把书卖了（把-->书）\n",
    "    ADV\t状中关系\t状语与中心词间的关系\t我昨天买书了（昨天<--买）\n",
    "    CMP\t动补关系\t补语与中心词间的关系\t我都吃完了（吃-->完）\n",
    "    ATT\t定中关系\t定语与中心词间的关系\t他送了一本书(一本<--书)\n",
    "    F\t方位关系\t方位词与中心词的关系\t在公园里玩耍(公园-->里)\n",
    "    COO\t并列关系\t同类型词语间关系\t叔叔阿姨(叔叔-->阿姨)\n",
    "    DBL\t兼语结构\t主谓短语做宾语的结构\t他请我吃饭(请-->我，请-->吃饭)\n",
    "    DOB\t双宾语结构\t谓语后出现两个宾语\t他送我一本书(送-->我，送-->书)\n",
    "    VV\t连谓结构\t同主语的多个谓词间关系\t他外出吃饭(外出-->吃饭)\n",
    "    IC\t子句结构\t两个结构独立或关联的单句\t你好，书店怎么走？(你好<--走)\n",
    "    MT\t虚词成分\t虚词与中心词间的关系\t他送了一本书(送-->了)\n",
    "    HED\t核心关系\t指整个句子的核心\t\"\"\".split('\\n')])"
   ]
  },
  {
   "cell_type": "code",
   "execution_count": 38,
   "id": "marked-metropolitan",
   "metadata": {},
   "outputs": [],
   "source": [
    "from ddparser import DDParser\n",
    "# requires: paddlepaddle, paddlehub\n",
    "# requires: LAC  百度词法分析工具 LAC\n",
    "t = \"\"\"科研用检测试剂在药物成分含量分析、形状分析中不可或缺\n",
    "全球半导体市场保持平稳增长，特别是中国区在国家半导体产业基金带动下，出现爆发式的增长。\"\"\"\n",
    "dp = DDParser()\n",
    "results = dp.parse(t.split('\\n'))"
   ]
  },
  {
   "cell_type": "code",
   "execution_count": 39,
   "id": "atlantic-reservoir",
   "metadata": {
    "scrolled": true,
    "tags": []
   },
   "outputs": [
    {
     "data": {
      "text/plain": [
       "[{'word': ['科研',\n",
       "   '用',\n",
       "   '检测',\n",
       "   '试剂',\n",
       "   '在',\n",
       "   '药物',\n",
       "   '成分',\n",
       "   '含量',\n",
       "   '分析',\n",
       "   '、',\n",
       "   '形状',\n",
       "   '分析',\n",
       "   '中',\n",
       "   '不可或缺'],\n",
       "  'head': [4, 4, 4, 14, 14, 7, 8, 9, 13, 9, 12, 9, 5, 0],\n",
       "  'deprel': ['ATT',\n",
       "   'ATT',\n",
       "   'ATT',\n",
       "   'SBV',\n",
       "   'ADV',\n",
       "   'ATT',\n",
       "   'ATT',\n",
       "   'ATT',\n",
       "   'ATT',\n",
       "   'MT',\n",
       "   'ATT',\n",
       "   'COO',\n",
       "   'POB',\n",
       "   'HED']},\n",
       " {'word': ['全球',\n",
       "   '半导体',\n",
       "   '市场',\n",
       "   '保持',\n",
       "   '平稳',\n",
       "   '增长',\n",
       "   '，',\n",
       "   '特别',\n",
       "   '是',\n",
       "   '中国',\n",
       "   '区',\n",
       "   '在',\n",
       "   '国家',\n",
       "   '半导体',\n",
       "   '产业',\n",
       "   '基金',\n",
       "   '带动',\n",
       "   '下',\n",
       "   '，',\n",
       "   '出现',\n",
       "   '爆发式',\n",
       "   '的',\n",
       "   '增长',\n",
       "   '。'],\n",
       "  'head': [3,\n",
       "   3,\n",
       "   4,\n",
       "   0,\n",
       "   6,\n",
       "   4,\n",
       "   4,\n",
       "   9,\n",
       "   20,\n",
       "   11,\n",
       "   20,\n",
       "   20,\n",
       "   15,\n",
       "   15,\n",
       "   16,\n",
       "   17,\n",
       "   18,\n",
       "   12,\n",
       "   12,\n",
       "   4,\n",
       "   23,\n",
       "   21,\n",
       "   20,\n",
       "   20],\n",
       "  'deprel': ['ATT',\n",
       "   'ATT',\n",
       "   'SBV',\n",
       "   'HED',\n",
       "   'ADV',\n",
       "   'VOB',\n",
       "   'MT',\n",
       "   'ADV',\n",
       "   'ADV',\n",
       "   'ATT',\n",
       "   'SBV',\n",
       "   'ADV',\n",
       "   'ATT',\n",
       "   'ATT',\n",
       "   'ATT',\n",
       "   'ATT',\n",
       "   'ATT',\n",
       "   'POB',\n",
       "   'MT',\n",
       "   'IC',\n",
       "   'ATT',\n",
       "   'MT',\n",
       "   'VOB',\n",
       "   'MT']}]"
      ]
     },
     "execution_count": 39,
     "metadata": {},
     "output_type": "execute_result"
    }
   ],
   "source": [
    "results"
   ]
  },
  {
   "cell_type": "code",
   "execution_count": 1,
   "id": "contained-cuisine",
   "metadata": {},
   "outputs": [
    {
     "ename": "ModuleNotFoundError",
     "evalue": "No module named 'pyltp'",
     "output_type": "error",
     "traceback": [
      "\u001b[0;31m---------------------------------------------------------------------------\u001b[0m",
      "\u001b[0;31mModuleNotFoundError\u001b[0m                       Traceback (most recent call last)",
      "\u001b[0;32m/tmp/ipykernel_14163/2797765129.py\u001b[0m in \u001b[0;36m<module>\u001b[0;34m\u001b[0m\n\u001b[1;32m      1\u001b[0m \u001b[0;32mimport\u001b[0m \u001b[0mos\u001b[0m\u001b[0;34m\u001b[0m\u001b[0;34m\u001b[0m\u001b[0m\n\u001b[1;32m      2\u001b[0m \u001b[0;32mimport\u001b[0m \u001b[0mjieba\u001b[0m\u001b[0;34m\u001b[0m\u001b[0;34m\u001b[0m\u001b[0m\n\u001b[0;32m----> 3\u001b[0;31m \u001b[0;32mfrom\u001b[0m \u001b[0mpyltp\u001b[0m \u001b[0;32mimport\u001b[0m \u001b[0mPostagger\u001b[0m\u001b[0;34m,\u001b[0m \u001b[0mParser\u001b[0m\u001b[0;34m\u001b[0m\u001b[0;34m\u001b[0m\u001b[0m\n\u001b[0m\u001b[1;32m      4\u001b[0m \u001b[0;34m\u001b[0m\u001b[0m\n\u001b[1;32m      5\u001b[0m \u001b[0msent\u001b[0m \u001b[0;34m=\u001b[0m \u001b[0;34m'2018年7月26日，华为创始人任正非向5G极化码（Polar码）之父埃尔达尔教授举行颁奖仪式，表彰其对于通信领域做出的贡献。'\u001b[0m\u001b[0;34m\u001b[0m\u001b[0;34m\u001b[0m\u001b[0m\n",
      "\u001b[0;31mModuleNotFoundError\u001b[0m: No module named 'pyltp'"
     ]
    }
   ],
   "source": [
    "import os\n",
    "import jieba\n",
    "from pyltp import Postagger, Parser\n",
    "\n",
    "sent = '2018年7月26日，华为创始人任正非向5G极化码（Polar码）之父埃尔达尔教授举行颁奖仪式，表彰其对于通信领域做出的贡献。'\n",
    "\n",
    "jieba.add_word('Polar码')\n",
    "jieba.add_word('5G极化码')\n",
    "jieba.add_word('埃尔达尔')\n",
    "jieba.add_word('之父')\n",
    "words = list(jieba.cut(sent))\n",
    "\n",
    "print(words)\n",
    "\n",
    "# 词性标注\n",
    "pos_model_path = os.path.join('/home/chendian/download/ltp_data_v3.4.0/', 'pos.model')\n",
    "postagger = Postagger()\n",
    "postagger.load(pos_model_path)\n",
    "postags = postagger.postag(words)\n",
    "\n",
    "# 依存句法分析\n",
    "par_model_path = os.path.join('/home/chendian/download/ltp_data_v3.4.0/', 'parser.model')\n",
    "parser = Parser()\n",
    "parser.load(par_model_path)\n",
    "arcs = parser.parse(words, postags)\n",
    "\n",
    "rely_id = [arc.head for arc in arcs]  # 提取依存父节点id\n",
    "relation = [arc.relation for arc in arcs]  # 提取依存关系\n",
    "heads = ['Root' if id == 0 else words[id-1] for id in rely_id]  # 匹配依存父节点词语\n",
    "\n",
    "for i in range(len(words)):\n",
    "    print(relation[i] + '(' + words[i] + ', ' + heads[i] + ')')\n"
   ]
  },
  {
   "cell_type": "code",
   "execution_count": 4,
   "id": "compact-vancouver",
   "metadata": {},
   "outputs": [
    {
     "name": "stdout",
     "output_type": "stream",
     "text": [
      "total 1.3G\n",
      "-rw-r--r-- 1 chendian chendian  260 Jul 27 17:13 md5.txt\n",
      "-rw-r--r-- 1 chendian chendian    6 Jul 27 17:13 version\n",
      "-rw-r--r-- 1 chendian chendian 175M Jul 27 17:12 cws.model\n",
      "-rw-rw-r-- 1 chendian chendian 159M Jul 27 17:11 small.tgz\n",
      "-rw-r--r-- 1 chendian chendian 351M Jul 27 17:09 parser.model\n",
      "-rw-r--r-- 1 chendian chendian 414M Jul 27 17:04 pos.model\n",
      "-rw-r--r-- 1 chendian chendian  22M Jul 27 16:59 ner.model\n",
      "-rw-r--r-- 1 chendian chendian 188M Jul 27 16:58 pisrl.model\n"
     ]
    }
   ],
   "source": [
    "!ls -lht /home/chendian/download/ltp_data_v3.4.0/"
   ]
  }
 ],
 "metadata": {
  "kernelspec": {
   "display_name": "bbcm",
   "language": "python",
   "name": "bbcm"
  },
  "language_info": {
   "codemirror_mode": {
    "name": "ipython",
    "version": 3
   },
   "file_extension": ".py",
   "mimetype": "text/x-python",
   "name": "python",
   "nbconvert_exporter": "python",
   "pygments_lexer": "ipython3",
   "version": "3.7.10"
  }
 },
 "nbformat": 4,
 "nbformat_minor": 5
}
