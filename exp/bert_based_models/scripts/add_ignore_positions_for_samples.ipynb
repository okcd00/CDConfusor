{
 "cells": [
  {
   "cell_type": "code",
   "execution_count": 1,
   "id": "framed-submission",
   "metadata": {},
   "outputs": [],
   "source": [
    "import os\n",
    "import json\n",
    "import enum\n",
    "import logging\n",
    "from tqdm import tqdm\n",
    "\n",
    "import sys\n",
    "sys.path.append('/home/chendian/BBCM/')\n",
    "\n",
    "from tools.inference import *\n",
    "from bbcm.config import cfg\n",
    "from bbcm.utils import get_abs_path\n",
    "from bbcm.utils import load_json, dump_json\n",
    "\n",
    "from transformers import BertTokenizer\n",
    "from bbcm.data.loaders.collator import *"
   ]
  },
  {
   "cell_type": "code",
   "execution_count": 2,
   "id": "grateful-proportion",
   "metadata": {},
   "outputs": [],
   "source": [
    "\"\"\"\n",
    "outputs = \n",
    "[('张三', 'PERSON'), ('和', 'O'), ('李四', 'PERSON'), ('在', 'O'), ('2019年', 'DATE'), ('3月', 'DATE'), ('23日', 'DATE'), ('在', 'O'), \n",
    "('北京', 'STATE_OR_PROVINCE'), ('的', 'O'), ('腾讯', 'ORGANIZATION'), ('技术', 'ORGANIZATION'), ('有限', 'ORGANIZATION'), \n",
    "('公司', 'ORGANIZATION'), ('一起', 'O'), ('开会', 'O'), ('。', 'O')]\n",
    "\"\"\"\n",
    "   \n",
    "def add_ner_positions_for_samples(collator, csc_sample_file_path, invalid_tags=['PERSON']):\n",
    "    # set invalid tags\n",
    "    collator.invalid_tags = invalid_tags\n",
    "\n",
    "    # 加载 csc samples 文件\n",
    "    samples = load_json(csc_sample_file_path)\n",
    "\n",
    "    for i, sample in tqdm(enumerate(samples)):\n",
    "        text = sample['correct_text']\n",
    "        word_offsets, ner_mask, chn_mask = collator.get_valid_position_mask(text)\n",
    "\n",
    "        samples[i]['word_offsets'] = word_offsets\n",
    "        samples[i]['ner_mask'] = ner_mask\n",
    "        samples[i]['chn_mask'] = chn_mask\n",
    "        \n",
    "    output_file_path = csc_sample_file_path.replace('.json', '.wpos.json')\n",
    "    dump_json(samples, output_file_path)\n",
    "    return samples\n",
    "    "
   ]
  },
  {
   "cell_type": "code",
   "execution_count": 3,
   "id": "fourth-florida",
   "metadata": {},
   "outputs": [
    {
     "name": "stdout",
     "output_type": "stream",
     "text": [
      "Use beam method.\n",
      "Pinyin sampling mode: special.\n",
      "Token sampling mode: sort.\n",
      "Now loading pinyin2token corpus.\n",
      "Now loading zi_sim_matrix.\n",
      "Now loading REDscore.\n",
      "Now generating score matrix.\n",
      "Load word freuency data.\n",
      "Dynamic Data Collator Init\n",
      "with 5.0% faulty positions.\n",
      "Now loading NER model from /home/chendian/download/stanford-corenlp-4.2.2/\n"
     ]
    },
    {
     "name": "stderr",
     "output_type": "stream",
     "text": [
      "2339it [01:04, 36.51it/s]\n"
     ]
    }
   ],
   "source": [
    "# 加载 Collater\n",
    "config_file='csc/train_SoftMaskedBert.yml'\n",
    "\n",
    "cfg.merge_from_file(get_abs_path('configs', config_file))\n",
    "tokenizer = BertTokenizer.from_pretrained(cfg.MODEL.BERT_CKPT)\n",
    "\n",
    "from bbcm.data.loaders.dynamic_collator import *\n",
    "ddc = DynamicDataCollatorForCsc(tokenizer=tokenizer, augmentation=True)\n",
    "\n",
    "# 10000 sentences / 188 seconds\n",
    "file_names = [\n",
    "    # './datasets/csc_py/test.json', \n",
    "    # './datasets/csc_py/dev.json', \n",
    "    # './datasets/csc_py/train.json',\n",
    "    \"../datasets/csc_aug/sighan15_train.json\",\n",
    "]\n",
    "for file_path in file_names:\n",
    "    add_ner_positions_for_samples(collator=ddc, csc_sample_file_path=file_path)\n"
   ]
  },
  {
   "cell_type": "code",
   "execution_count": null,
   "id": "focal-former",
   "metadata": {},
   "outputs": [],
   "source": []
  }
 ],
 "metadata": {
  "kernelspec": {
   "display_name": "bbcm",
   "language": "python",
   "name": "bbcm"
  },
  "language_info": {
   "codemirror_mode": {
    "name": "ipython",
    "version": 3
   },
   "file_extension": ".py",
   "mimetype": "text/x-python",
   "name": "python",
   "nbconvert_exporter": "python",
   "pygments_lexer": "ipython3",
   "version": "3.7.10"
  }
 },
 "nbformat": 4,
 "nbformat_minor": 5
}
