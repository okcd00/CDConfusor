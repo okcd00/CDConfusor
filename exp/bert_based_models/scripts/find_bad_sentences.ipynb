{
 "cells": [
  {
   "cell_type": "code",
   "execution_count": 2,
   "metadata": {},
   "outputs": [],
   "source": [
    "import json\n",
    "from ripgrepy import Ripgrepy\n"
   ]
  },
  {
   "cell_type": "code",
   "execution_count": 60,
   "metadata": {},
   "outputs": [
    {
     "name": "stdout",
     "output_type": "stream",
     "text": [
      "/data/chendian/clean_pretrain_data/pfb_1966519.txt : 183\n",
      "根据生产车间废水特征因子，进行分质分类处理，具体如下：（1）高含盐废水经过气浮除油装置、三效蒸发装置预处理后，进入生化装置废水处理系统；（2）杀菌剂废水经气浮除油装置、臭氧灭活装置预处理后，进入生化装置废水处理系统；（3）含硫废水经铁-炭微电解装置、芬顿氧化装置、气浮除油装置预处理后，进入生化装置废水处理系统；（4）普通废水经气浮除油装置预处理后，进入生化装置废水处理系统；（5）清下水采取雨污分流的方式，初期雨水通过各区域56台清下水泵及时有序回抽，进入废水系统规范处理。\n",
      "\n",
      "/data/chendian/clean_pretrain_data/pfb_1974069.txt : 30\n",
      "包括修订完善《保险公司偿付能力管理规定》，进一步完善偿付能力监管框架；制定保险集团审慎监管的实施细则，完善保险集团资本计量；研究制定相互制保险组织、自保公司等的偿付能力监管细则；研究和探索在资本计量中引入调控性特征因子；研究制定再保险业务偿付能力监管规则；完善风险综合评级（IRR）制度。\n",
      "\n",
      "/data/chendian/clean_pretrain_data/pfb_1999318.txt : 84\n",
      "而影响非寿险保险风险特征因子 K 的最大因素为综合成本率，因此要降低 MC释放最低资本提高偿付能力，则需提高保险公司本身的承保能力。\n",
      "\n"
     ]
    }
   ],
   "source": [
    "keyword = \"特征因子\"\n",
    "text_dir = \"/data/chendian/clean_pretrain_data/\"\n",
    "\n",
    "rg = Ripgrepy(keyword, text_dir)\n",
    "rg.block_buffered()  # speed-up for service, line_buffered() for terminal.\n",
    "\n",
    "# run ripgrep query commands\n",
    "ret_json = rg.json().threads(4).run()\n",
    "ret_json = ret_json.as_json\n",
    "data = json.loads(ret_json)\n",
    "for sent in data:\n",
    "    print(sent['data']['path']['text'], ':', sent['data']['line_number'])\n",
    "    print(sent['data']['lines']['text'])"
   ]
  },
  {
   "cell_type": "code",
   "execution_count": 13,
   "metadata": {},
   "outputs": [],
   "source": [
    "import json\n",
    "data = json.loads(ret_json)"
   ]
  },
  {
   "cell_type": "code",
   "execution_count": 17,
   "metadata": {},
   "outputs": [
    {
     "name": "stdout",
     "output_type": "stream",
     "text": [
      "{'path': {'text': '/data/chendian/clean_pretrain_data/pfb_1984434.txt'}, 'lines': {'text': '预计铜箔涨价持续，𝟔𝛍𝐦铜箔放量可期，维持买入评级。\\n'}, 'line_number': 7, 'absolute_offset': 1002, 'submatches': [{'match': {'text': '铜箔涨价持续'}, 'start': 6, 'end': 24}]}\n",
      "预计铜箔涨价持续，𝟔𝛍𝐦铜箔放量可期，维持买入评级。\n",
      "\n"
     ]
    }
   ],
   "source": [
    "for sent in data:\n",
    "    print(sent['data']['path'])\n",
    "    print(sent['data']['lines']['text'])\n"
   ]
  },
  {
   "cell_type": "code",
   "execution_count": 52,
   "metadata": {},
   "outputs": [
    {
     "data": {
      "text/plain": [
       "'𝐀𝐁𝐂𝐃𝐄𝐅𝐆𝐇𝐈𝐉𝐊𝐋𝐌𝐍𝐎𝐏𝐐𝐑𝐒𝐓𝐔𝐕𝐖𝐗𝐘𝐙𝐚𝐛𝐜𝐝𝐞𝐟𝐠𝐡𝐢𝐣𝐤𝐥𝐦𝐧𝐨𝐩𝐪𝐫𝐬𝐭𝐮𝐯𝐰𝐱𝐲𝐳𝐴𝐵𝐶𝐷𝐸𝐹𝐺𝐻𝐼𝐽𝐾𝐿𝑀𝑁𝑂𝑃𝑄𝑅𝑆𝑇𝑈𝑉𝑊𝑋𝑌𝑍𝑎𝑏𝑐𝑑𝑒𝑓𝑔\\U0001d455𝑖𝑗𝑘𝑙𝑚𝑛𝑜𝑝𝑞𝑟𝑠𝑡𝑢𝑣𝑤𝑥𝑦𝑧𝑨𝑩𝑪𝑫𝑬𝑭𝑮𝑯𝑰𝑱𝑲𝑳𝑴𝑵𝑶𝑷𝑸𝑹𝑺𝑻𝑼𝑽𝑾𝑿𝒀𝒁𝒂𝒃𝒄𝒅𝒆𝒇𝒈𝒉𝒊𝒋𝒌𝒍𝒎𝒏𝒐𝒑𝒒𝒓𝒔𝒕𝒖𝒗𝒘𝒙𝒚𝒛𝒜\\U0001d49d𝒞𝒟\\U0001d4a0\\U0001d4a1𝒢\\U0001d4a3\\U0001d4a4𝒥𝒦\\U0001d4a7'"
      ]
     },
     "execution_count": 52,
     "metadata": {},
     "output_type": "execute_result"
    }
   ],
   "source": [
    "list(map(ord, '𝐾𝑇𝑃')), list(map(ord, 'KTP'))\n",
    "# [119874], [79]\n",
    "''.join(list(map(chr, range(119808, 119976))))"
   ]
  }
 ],
 "metadata": {
  "interpreter": {
   "hash": "7556517dc383211685f710d8044246aff26e1405386725c85667dcb59239ebb1"
  },
  "kernelspec": {
   "display_name": "Python 3",
   "language": "python",
   "name": "python3"
  },
  "language_info": {
   "codemirror_mode": {
    "name": "ipython",
    "version": 3
   },
   "file_extension": ".py",
   "mimetype": "text/x-python",
   "name": "python",
   "nbconvert_exporter": "python",
   "pygments_lexer": "ipython3",
   "version": "3.6.9"
  }
 },
 "nbformat": 4,
 "nbformat_minor": 4
}
